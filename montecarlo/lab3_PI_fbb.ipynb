{
  "nbformat": 4,
  "nbformat_minor": 2,
  "metadata": {
    "colab": {
      "name": "lab3_PI_fbb.ipynb",
      "provenance": [],
      "include_colab_link": true
    },
    "kernelspec": {
      "name": "python3",
      "display_name": "Python 3.8.10 64-bit ('DSPS_GFoote-Dh-wfxy1': pipenv)"
    },
    "language_info": {
      "name": "python",
      "version": "3.8.10",
      "mimetype": "text/x-python",
      "codemirror_mode": {
        "name": "ipython",
        "version": 3
      },
      "pygments_lexer": "ipython3",
      "nbconvert_exporter": "python",
      "file_extension": ".py"
    },
    "interpreter": {
      "hash": "ec9adc79684924107444e62f99e588cb38f7190c8e84f18e1083d2876bd57627"
    }
  },
  "cells": [
    {
      "cell_type": "markdown",
      "source": [
        "<a href=\"https://colab.research.google.com/github/fedhere/DSPS_FBianco/blob/master/montecarlo/lab3_PI_fbb.ipynb\" target=\"_parent\"><img src=\"https://colab.research.google.com/assets/colab-badge.svg\" alt=\"Open In Colab\"/></a>"
      ],
      "metadata": {
        "id": "view-in-github",
        "colab_type": "text"
      }
    },
    {
      "cell_type": "code",
      "execution_count": 1,
      "source": [
        "import numpy as np\n",
        "import pylab as pl\n",
        "#!pip install astropy\n",
        "import astropy\n",
        "from astropy import units as u\n",
        "\n",
        "\n",
        "%pylab inline\n"
      ],
      "outputs": [
        {
          "output_type": "stream",
          "name": "stdout",
          "text": [
            "Populating the interactive namespace from numpy and matplotlib\n"
          ]
        }
      ],
      "metadata": {
        "id": "48HNFOn1xKVX",
        "colab": {
          "base_uri": "https://localhost:8080/"
        },
        "outputId": "59f4e06b-d92f-4e89-84ad-3f73bc765c7b"
      }
    },
    {
      "cell_type": "markdown",
      "source": [
        "What you know: The ratio of the area of the circle to the area of the square is π / 4."
      ],
      "metadata": {
        "id": "_3wBMf6fiA5l"
      }
    },
    {
      "cell_type": "code",
      "execution_count": 2,
      "source": [
        "def square(l, ax):\n",
        "  ax.plot([-l, l], [-l, -l], 'k-')\n",
        "  ax.plot([-l, l], [l, l], 'k-')\n",
        "  ax.plot([-l, -l], [-l, l], 'k-')\n",
        "  ax.plot([l, l], [-l, l], 'k-')\n",
        "  "
      ],
      "outputs": [],
      "metadata": {
        "id": "0ZofSIqBFVcC"
      }
    },
    {
      "cell_type": "code",
      "execution_count": 3,
      "source": [
        "def circle(l, ax):\n",
        "  theta = np.linspace(0, 360, 100)\n",
        "  theta *= u.degree\n",
        "  x = l * np.cos(theta.to(u.rad))\n",
        "  y = l * np.sin(theta.to(u.rad))\n",
        "  ax.plot(x, y, 'k-')\n",
        "  "
      ],
      "outputs": [],
      "metadata": {
        "id": "gebTwteLGY5C"
      }
    },
    {
      "cell_type": "code",
      "execution_count": 4,
      "source": [
        "fig, ax = pl.subplots(figsize=(5, 5))\n",
        "square(1, ax=ax)\n",
        "circle(1, ax=ax)"
      ],
      "outputs": [
        {
          "output_type": "display_data",
          "data": {
            "image/png": "[encoded data removed]",
            "text/plain": [
              "<Figure size 360x360 with 1 Axes>"
            ]
          },
          "metadata": {
            "needs_background": "light"
          }
        }
      ],
      "metadata": {
        "id": "jmujRXm-xW_O",
        "colab": {
          "base_uri": "https://localhost:8080/",
          "height": 320
        },
        "outputId": "c7c80942-2f90-4175-d087-5939b2675a5d"
      }
    },
    {
      "cell_type": "code",
      "execution_count": 5,
      "source": [
        "def isin(x, y, l):\n",
        "  return (x*x + y*y) < 1*1"
      ],
      "outputs": [],
      "metadata": {
        "id": "dzUf8KLOKH30"
      }
    },
    {
      "cell_type": "code",
      "execution_count": 6,
      "source": [
        "np.random.seed(54545)\n",
        "x = np.random.uniform(-1, 1, 10000)\n",
        "y = np.random.uniform(-1, 1, 10000)\n",
        "\n",
        "in_circle = np.array(list(map(lambda x: isin(*x, 1), zip(x, y))))\n",
        "\n",
        "n_in_circle = len(in_circle[in_circle])\n",
        "n_total = len(in_circle)\n",
        "\n",
        "my_val = (n_in_circle/n_total) * 4\n",
        "true_val = np.pi\n",
        "\n",
        "print(f\"Number of Points: {n_total}\")\n",
        "print(f\"My Value: {my_val:.4f}\")\n",
        "print(f\"True Value: {true_val:.4f}\")\n",
        "print(f\"Error: {abs(my_val - true_val)*100/true_val:.3f} %\")"
      ],
      "outputs": [
        {
          "output_type": "stream",
          "name": "stdout",
          "text": [
            "Number of Points: 10000\n",
            "My Value: 3.1664\n",
            "True Value: 3.1416\n",
            "Error: 0.790 %\n"
          ]
        }
      ],
      "metadata": {
        "id": "6lBzW1sQFv5W"
      }
    }
  ]
}