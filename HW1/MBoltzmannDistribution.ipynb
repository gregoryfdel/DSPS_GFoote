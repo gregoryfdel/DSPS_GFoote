{
 "cells": [
  {
   "cell_type": "markdown",
   "source": [
    "<a href=\"https://colab.research.google.com/github/fedhere/DSPS_FBianco/blob/master/HW2/MBoltzmannDistribution.ipynb\" target=\"_parent\"><img src=\"https://colab.research.google.com/assets/colab-badge.svg\" alt=\"Open In Colab\"/></a>"
   ],
   "metadata": {
    "colab_type": "text",
    "id": "view-in-github"
   }
  },
  {
   "cell_type": "markdown",
   "source": [
    " Written by Federica B. Bianco @fedhere\n",
    "UDel DSPS"
   ],
   "metadata": {
    "ExecuteTime": {
     "end_time": "2019-09-04T04:50:01.872913Z",
     "start_time": "2019-09-04T04:50:01.869703Z"
    },
    "id": "dk3tkh__KvAc"
   }
  },
  {
   "cell_type": "markdown",
   "source": [
    "## Imports and Magic Strings"
   ],
   "metadata": {}
  },
  {
   "cell_type": "code",
   "execution_count": 6,
   "source": [
    "import matplotlib.pyplot as plt\n",
    "import matplotlib as mpl\n",
    "import numpy as np\n",
    "from scipy import stats\n",
    "import scipy as sp\n",
    "# This package sets up pretty plots\n",
    "import seaborn as sns\n",
    "\n",
    "# Default print is boring, lets use LaTeX\n",
    "from IPython.display import Latex\n",
    "from IPython.display import display\n",
    "\n",
    "sns.set_style(\"darkgrid\")\n",
    "sns.set()\n",
    "\n",
    "def latexPrint(string):\n",
    "    \"\"\"\n",
    "    Formats Strings using LaTeX\n",
    "\n",
    "    :param string: Input Python String\n",
    "    :return display: Output Display Object \n",
    "    \"\"\"\n",
    "    return(display(Latex(string)))\n",
    "\n",
    "%load_ext pycodestyle_magic\n",
    "%pycodestyle_on\n",
    "%matplotlib inline"
   ],
   "outputs": [
    {
     "output_type": "stream",
     "name": "stderr",
     "text": [
      "16:1: E302 expected 2 blank lines, found 1\n",
      "21:43: W291 trailing whitespace\n",
      "25:1: E305 expected 2 blank lines after class or function definition, found 1\n"
     ]
    },
    {
     "output_type": "stream",
     "name": "stdout",
     "text": [
      "The pycodestyle_magic extension is already loaded. To reload it, use:\n",
      "  %reload_ext pycodestyle_magic\n"
     ]
    }
   ],
   "metadata": {
    "ExecuteTime": {
     "end_time": "2019-09-07T17:36:53.625807Z",
     "start_time": "2019-09-07T17:36:53.393906Z"
    },
    "colab": {
     "base_uri": "https://localhost:8080/"
    },
    "id": "iQaonMUBqtX2",
    "outputId": "e71ac319-e9ea-48e9-96ea-01fd794561c0"
   }
  },
  {
   "cell_type": "markdown",
   "source": [
    "# Homework 1: Maxwell Boltzmann distribution"
   ],
   "metadata": {
    "id": "zu5QKDi5b7vW"
   }
  },
  {
   "cell_type": "markdown",
   "source": [
    "In Physics, statistics can help us describe the macroscopic behavior of a system if we know its microscopic properties in a statistical sense. We cannot know the motion of each molecule in a gas, but we can know the distribution of their velocities and positions.   In the mid to late 1800s, James Clerk Maxwell and Ludwig Boltzmann modeled the *distribution of speed of molecules in a gas*. As you probably know, and can intuitive realize, the speed of the molecules depends on the temperature of the gas, which is a macroscopic property, the velocity of the molecules is different for different gas temperatures. **This distribution of velocities is called the Maxwell-Boltzmann distribution.**\n"
   ],
   "metadata": {
    "id": "ueaB0mHCO_iM"
   }
  },
  {
   "cell_type": "markdown",
   "source": [
    "It turns out that the Maxwel-Boltzmann distribution is a special case of the [*Chi distribution*](https://en.wikipedia.org/wiki/Chi_distribution) with 3 degrees of freedom, and with a scale parameter corresponding to the temperature in some way. \n"
   ],
   "metadata": {
    "id": "7LpR51uQSvN9"
   }
  },
  {
   "cell_type": "markdown",
   "source": [
    "Below I have created 3 distributions. Based on the description above\n",
    "\n",
    "\n",
    "# 1) label the axes in the plot"
   ],
   "metadata": {
    "id": "Pc25lN9SUxQL"
   }
  },
  {
   "cell_type": "code",
   "execution_count": 4,
   "source": [
    "randState = np.random.RandomState(420666)\n",
    "fig, ax = plt.subplots()\n",
    "\n",
    "for a in [0.2, 0.6, 1.0]:\n",
    "    ax.hist(stats.chi.rvs(df=3, scale=a, size=1000, random_state=randState), bins=np.arange(0,5,0.1), alpha=0.7, label=f\"a = {np.around(a,1)}\")\n",
    "\n",
    "plt.legend()\n",
    "\n",
    "ax.set_xlabel(\"Value pulled from distribution\")\n",
    "ax.set_ylabel(\"Number of Values\")"
   ],
   "outputs": [
    {
     "output_type": "execute_result",
     "data": {
      "text/plain": [
       "Text(0, 0.5, 'Number of Values')"
      ]
     },
     "metadata": {},
     "execution_count": 4
    },
    {
     "output_type": "display_data",
     "data": {
      "image/png": "[encoded data removed]",
      "text/plain": [
       "<Figure size 432x288 with 1 Axes>"
      ]
     },
     "metadata": {
      "needs_background": "light"
     }
    },
    {
     "output_type": "stream",
     "name": "stderr",
     "text": [
      "4:80: E501 line too long (143 > 79 characters)\n",
      "4:94: E231 missing whitespace after ','\n",
      "4:96: E231 missing whitespace after ','\n"
     ]
    }
   ],
   "metadata": {
    "ExecuteTime": {
     "end_time": "2019-09-07T17:36:56.493299Z",
     "start_time": "2019-09-07T17:36:56.021862Z"
    },
    "colab": {
     "base_uri": "https://localhost:8080/",
     "height": 265
    },
    "id": "LZm2afzhUwuG",
    "outputId": "c3ef16dc-acf7-484e-8379-3716cad72281"
   }
  },
  {
   "cell_type": "markdown",
   "source": [
    "# 2) knowing that the *scale* parameter $a$  is a function of the temperature  *T*, and that the dependency is to a power 1/2, which is correct:\n",
    "   **$a \\propto \\sqrt{T}$**  or **$a \\propto \\sqrt{1/T}$**? \n",
    "\n",
    "   (in other words, is the dependency on the root of the temperature or on the inverse root of the temperature ?)\n",
    " "
   ],
   "metadata": {
    "id": "MGdILsLAaopl"
   }
  },
  {
   "cell_type": "markdown",
   "source": [
    " **$a \\propto \\sqrt{T}$** because as T goes up, the distribution of speeds inside a gas increases in both mean and variance"
   ],
   "metadata": {
    "id": "vMGhorbvcrFM"
   }
  },
  {
   "cell_type": "markdown",
   "source": [
    "\n",
    "# 3) What is the mean of all three distributions. How does it compare to the most probable molecular speed? \n",
    "From the wikipedia page of the Chi distribution find the formula of the mean of the Chi distribution. The distribution we are using has a scale parameter *a* in addition to the number of degrees of freedom. The mean scales linearly with this parameter:\n",
    "\n",
    "$\\mu_{\\mathrm{MB}, k, a} = a \\cdot \\mu_{\\mathrm{chi}, k}$\n",
    "\n",
    "Using the scipy function ```sp.special.gamma()```  calculate the gamma $\\Gamma$ function,\n",
    "\n",
    "**calculate the mean of all three distributions. Compare it with the mean of the empirical distributions I generated in step 1. How does this mean compare to the most probable molecular speed.**"
   ],
   "metadata": {
    "id": "hGeeXYttXLO1"
   }
  },
  {
   "cell_type": "code",
   "execution_count": 24,
   "source": [
    "fig, ax = plt.subplots()\n",
    "\n",
    "\n",
    "def chi_mean(in_df, in_scale):\n",
    "    return in_scale * np.sqrt(2) * sp.special.gamma((in_df + 1)/2)/sp.special.gamma(in_df/2)\n",
    "\n",
    "\n",
    "for a in [0.2, 0.6, 1.0]:\n",
    "    dist_sample = stats.chi.rvs(df=3, scale=a, size=1000, random_state=randState)\n",
    "    rv = ax.hist(dist_sample, bins=np.arange(0,5,0.1));\n",
    "\n",
    "    most_pro = -999999\n",
    "    pro_bin = None\n",
    "    for bar in rv[2]:\n",
    "        cen = bar.get_xy()\n",
    "        wid = bar.get_width()\n",
    "        hei = bar.get_height()\n",
    "        if hei > most_pro:\n",
    "            pro_bin = [cen[0] - wid/2, cen[0] + wid/2]\n",
    "            most_pro = hei\n",
    "    \n",
    "    samp_mean = dist_sample.mean()\n",
    "    latexPrint( \n",
    "        f\"The mean of a Chi Distribution with 3 degrees of freedom and a scale of {a}\"\n",
    "        f\" is {np.around(chi_mean(3, a), 3)}; the mean of a sample of size 1000 generated\"\n",
    "        f\" is {np.around(samp_mean,3)}; the most probable speeds are {tuple(np.around(x, 2) for x in pro_bin)}\"\n",
    "    )\n",
    "\n",
    "plt.clf();"
   ],
   "outputs": [
    {
     "output_type": "display_data",
     "data": {
      "text/latex": [
       "The mean of a Chi Distribution with 3 degrees of freedom and a scale of 0.2 is 0.319; the mean of a sample of size 1000 generated is 0.322; the most probable speeds are (0.15, 0.25)"
      ],
      "text/plain": [
       "<IPython.core.display.Latex object>"
      ]
     },
     "metadata": {}
    },
    {
     "output_type": "display_data",
     "data": {
      "text/latex": [
       "The mean of a Chi Distribution with 3 degrees of freedom and a scale of 0.6 is 0.957; the mean of a sample of size 1000 generated is 0.968; the most probable speeds are (0.75, 0.85)"
      ],
      "text/plain": [
       "<IPython.core.display.Latex object>"
      ]
     },
     "metadata": {}
    },
    {
     "output_type": "display_data",
     "data": {
      "text/latex": [
       "The mean of a Chi Distribution with 3 degrees of freedom and a scale of 1.0 is 1.596; the mean of a sample of size 1000 generated is 1.586; the most probable speeds are (1.05, 1.15)"
      ],
      "text/plain": [
       "<IPython.core.display.Latex object>"
      ]
     },
     "metadata": {}
    },
    {
     "output_type": "display_data",
     "data": {
      "text/plain": [
       "<Figure size 432x288 with 0 Axes>"
      ]
     },
     "metadata": {}
    },
    {
     "output_type": "stream",
     "name": "stderr",
     "text": [
      "5:80: E501 line too long (92 > 79 characters)\n",
      "9:80: E501 line too long (81 > 79 characters)\n",
      "10:47: E231 missing whitespace after ','\n",
      "10:49: E231 missing whitespace after ','\n",
      "10:55: E703 statement ends with a semicolon\n",
      "21:1: W293 blank line contains whitespace\n",
      "23:16: W291 trailing whitespace\n",
      "24:80: E501 line too long (86 > 79 characters)\n",
      "25:80: E501 line too long (90 > 79 characters)\n",
      "26:80: E501 line too long (111 > 79 characters)\n",
      "29:10: E703 statement ends with a semicolon\n"
     ]
    }
   ],
   "metadata": {
    "ExecuteTime": {
     "end_time": "2019-09-07T17:36:59.245480Z",
     "start_time": "2019-09-07T17:36:59.243338Z"
    },
    "id": "-8htAA4mRAVa"
   }
  },
  {
   "cell_type": "markdown",
   "source": [
    "This really only holds for perfect gasses, which means under 4 assumptions: \n",
    "- the diameter of the molecules is much smaller than the distance between them\n",
    "- the collisions between molecules conserve energy\n",
    "- the molecules do not interact between collisions and are not subject to any other forces (move at constant speed in a straight line)\n",
    "- the initial position and velocity are random."
   ],
   "metadata": {
    "id": "r7oes80EQER-"
   }
  },
  {
   "cell_type": "markdown",
   "source": [
    "# Extra Credit:\n",
    "\n",
    "can you create a python (2D) simulation where the molecules behave as describe and calculate their speed evolution from an initial speed that is gaussian distributed? (rather hard!!)\n"
   ],
   "metadata": {
    "id": "3PJ9hjLzQjyA"
   }
  },
  {
   "cell_type": "code",
   "execution_count": 7,
   "source": [
    "# your code here"
   ],
   "outputs": [],
   "metadata": {
    "ExecuteTime": {
     "end_time": "2019-09-07T17:37:01.623460Z",
     "start_time": "2019-09-07T17:37:01.621218Z"
    },
    "id": "6LJU9GPVRO7B"
   }
  },
  {
   "cell_type": "code",
   "execution_count": null,
   "source": [],
   "outputs": [],
   "metadata": {
    "id": "WN8ljqmZPCBT"
   }
  }
 ],
 "metadata": {
  "colab": {
   "collapsed_sections": [],
   "include_colab_link": true,
   "name": "MBoltzmannDistribution.ipynb",
   "provenance": []
  },
  "kernelspec": {
   "name": "python3",
   "display_name": "Python 3.8.10 64-bit ('DSPS_GFoote-Dh-wfxy1': pipenv)"
  },
  "language_info": {
   "codemirror_mode": {
    "name": "ipython",
    "version": 3
   },
   "file_extension": ".py",
   "mimetype": "text/x-python",
   "name": "python",
   "nbconvert_exporter": "python",
   "pygments_lexer": "ipython3",
   "version": "3.8.10"
  },
  "latex_envs": {
   "LaTeX_envs_menu_present": true,
   "autoclose": false,
   "autocomplete": true,
   "bibliofile": "biblio.bib",
   "cite_by": "apalike",
   "current_citInitial": 1,
   "eqLabelWithNumbers": true,
   "eqNumInitial": 1,
   "hotkeys": {
    "equation": "Ctrl-E",
    "itemize": "Ctrl-I"
   },
   "labels_anchors": false,
   "latex_user_defs": false,
   "report_style_numbering": false,
   "user_envs_cfg": false
  },
  "nbTranslate": {
   "displayLangs": [
    "*"
   ],
   "hotkey": "alt-t",
   "langInMainMenu": true,
   "sourceLang": "en",
   "targetLang": "fr",
   "useGoogleTranslate": true
  },
  "toc": {
   "base_numbering": 1,
   "nav_menu": {},
   "number_sections": true,
   "sideBar": true,
   "skip_h1_title": false,
   "title_cell": "Table of Contents",
   "title_sidebar": "Contents",
   "toc_cell": false,
   "toc_position": {},
   "toc_section_display": true,
   "toc_window_display": false
  },
  "interpreter": {
   "hash": "ec9adc79684924107444e62f99e588cb38f7190c8e84f18e1083d2876bd57627"
  }
 },
 "nbformat": 4,
 "nbformat_minor": 1
}