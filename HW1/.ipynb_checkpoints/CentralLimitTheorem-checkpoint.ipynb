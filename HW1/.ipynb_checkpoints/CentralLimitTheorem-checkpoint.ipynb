{
 "cells": [
  {
   "cell_type": "markdown",
   "metadata": {
    "colab_type": "text",
    "id": "view-in-github"
   },
   "source": [
    "<a href=\"https://colab.research.google.com/github/fedhere/DSPS_FBianco/blob/master/HW1/CentralLimitTheorem.ipynb\" target=\"_parent\"><img src=\"https://colab.research.google.com/assets/colab-badge.svg\" alt=\"Open In Colab\"/></a>"
   ]
  },
  {
   "cell_type": "markdown",
   "metadata": {
    "id": "kHfXPQ7pRwrS"
   },
   "source": [
    " Written by Federica B. Bianco @fedhere\n",
    "UDel DSPS\n",
    "\n",
    " # Homework 2\n",
    "\n",
    " This is a skeleton & instruction notebook\n",
    "\n",
    "-  GENERATE  100 samples of different sizes N (N>10 & N<2000) from each of 5 different distributions (500 samples in total), \n",
    " _all with the same population mean_. Include a _Normal_, a _Poisson_, a _Binomial_, a _Chi-Squared_ distribution, and 1 more of your choice.                                       \n",
    "-  For each sample plot the sample mean (dependent var.) against the sample size N (independent var.) (if you want you can do it with the sample standard deviation as well). \n",
    "-  Describe the behavior you see in the plots in terms of the law of large numbers.\n",
    "-  PLOT the distributions of all sample means (together for all distributions). _Mandatory_: as a histogram. _Optional_: in any other way you think is convincing\n",
    "-  Extra Credit (required for 661 students): FIT a gaussian to the distribution of means            "
   ]
  },
  {
   "cell_type": "code",
   "execution_count": 1,
   "metadata": {},
   "outputs": [],
   "source": [
    "%load_ext pycodestyle_magic"
   ]
  },
  {
   "cell_type": "code",
   "execution_count": 2,
   "metadata": {},
   "outputs": [],
   "source": [
    "%pycodestyle_on"
   ]
  },
  {
   "cell_type": "code",
   "execution_count": 3,
   "metadata": {
    "ExecuteTime": {
     "end_time": "2019-09-04T18:40:29.989386Z",
     "start_time": "2019-09-04T18:40:29.957973Z"
    },
    "colab": {
     "base_uri": "https://localhost:8080/"
    },
    "id": "qw_BiupARwrU",
    "outputId": "29a76b55-7984-44e5-b608-c1c8a6fa4b26"
   },
   "outputs": [
    {
     "name": "stderr",
     "output_type": "stream",
     "text": [
      "13:1: E402 module level import not at top of file\n",
      "14:1: E402 module level import not at top of file\n",
      "16:1: E302 expected 2 blank lines, found 1\n",
      "21:43: W291 trailing whitespace\n"
     ]
    }
   ],
   "source": [
    "import matplotlib.pyplot as plt\n",
    "import matplotlib as mpl\n",
    "import numpy as np\n",
    "\n",
    "from numpy.random import default_rng\n",
    "from scipy.optimize import curve_fit, minimize\n",
    "\n",
    "# This package sets up pretty plots\n",
    "import seaborn as sns\n",
    "sns.set_style(\"darkgrid\")\n",
    "sns.set()\n",
    "\n",
    "# Default print is boring, lets use LaTeX\n",
    "from IPython.display import Latex\n",
    "from IPython.display import display\n",
    "\n",
    "def latexPrint(string):\n",
    "    \"\"\"\n",
    "    Formats Strings using LaTeX\n",
    "\n",
    "    :param string: Input Python String\n",
    "    :return display: Output Display Object \n",
    "    \"\"\"\n",
    "    return(display(Latex(string)))"
   ]
  },
  {
   "cell_type": "code",
   "execution_count": 4,
   "metadata": {},
   "outputs": [],
   "source": [
    "%mpl inline"
   ]
  },
  {
   "cell_type": "markdown",
   "metadata": {
    "id": "hUGiQLLGRwrX"
   },
   "source": [
    "## Choose which distributions to use \n",
    "\n",
    "### Let's see what this distribution looks like, what is the PDF, and how are the moments defined. Wikipedia is great for this! "
   ]
  },
  {
   "cell_type": "code",
   "execution_count": 5,
   "metadata": {
    "id": "hUGiQLLGRwrX"
   },
   "outputs": [
    {
     "data": {
      "text/html": [
       "\n",
       "<!-- From https://www.w3schools.com/howto/howto_css_images_side_by_side.asp -->\n",
       "<style>\n",
       " /* Three image containers (use 25% for four, and 50% for two, etc) */\n",
       ".column {\n",
       "  float: left;\n",
       "  width: 50%;\n",
       "  padding: 5px;\n",
       "}\n",
       "\n",
       "/* Clear floats after image containers */\n",
       ".row::after {\n",
       "  content: \"\";\n",
       "  clear: both;\n",
       "  display: table;\n",
       "} \n",
       "</style>\n",
       " <div class=\"row\">\n",
       "  <div class=\"column\">\n",
       "    <img src=\"https://raw.githubusercontent.com/fedhere/DSPS_2019/master/HW2/chisq1.png\" alt=\"Snow\" style=\"width:100%\">\n",
       "  </div>\n",
       "  <div class=\"column\">\n",
       "    <img src=\"https://raw.githubusercontent.com/fedhere/DSPS_2019/master/HW2/chisq2.png\" alt=\"Forest\" style=\"width:100%\">\n",
       "  </div>\n",
       "</div> \n"
      ],
      "text/plain": [
       "<IPython.core.display.HTML object>"
      ]
     },
     "metadata": {},
     "output_type": "display_data"
    }
   ],
   "source": [
    "%%html\n",
    "\n",
    "<!-- From https://www.w3schools.com/howto/howto_css_images_side_by_side.asp -->\n",
    "<style>\n",
    " /* Three image containers (use 25% for four, and 50% for two, etc) */\n",
    ".column {\n",
    "  float: left;\n",
    "  width: 50%;\n",
    "  padding: 5px;\n",
    "}\n",
    "\n",
    "/* Clear floats after image containers */\n",
    ".row::after {\n",
    "  content: \"\";\n",
    "  clear: both;\n",
    "  display: table;\n",
    "} \n",
    "</style>\n",
    " <div class=\"row\">\n",
    "  <div class=\"column\">\n",
    "    <img src=\"https://raw.githubusercontent.com/fedhere/DSPS_2019/master/HW2/chisq1.png\" alt=\"Snow\" style=\"width:100%\">\n",
    "  </div>\n",
    "  <div class=\"column\">\n",
    "    <img src=\"https://raw.githubusercontent.com/fedhere/DSPS_2019/master/HW2/chisq2.png\" alt=\"Forest\" style=\"width:100%\">\n",
    "  </div>\n",
    "</div> "
   ]
  },
  {
   "cell_type": "markdown",
   "metadata": {},
   "source": [
    "### Some Helper Functions"
   ]
  },
  {
   "cell_type": "code",
   "execution_count": 6,
   "metadata": {
    "ExecuteTime": {
     "end_time": "2019-09-04T18:40:30.736028Z",
     "start_time": "2019-09-04T18:40:30.732670Z"
    },
    "id": "Ch8t4pHeRwrW"
   },
   "outputs": [
    {
     "name": "stderr",
     "output_type": "stream",
     "text": [
      "6:1: E302 expected 2 blank lines, found 1\n",
      "11:1: W293 blank line contains whitespace\n",
      "14:80: E501 line too long (138 > 79 characters)\n",
      "16:1: W293 blank line contains whitespace\n",
      "25:80: E501 line too long (108 > 79 characters)\n",
      "27:1: E305 expected 2 blank lines after class or function definition, found 1\n",
      "28:43: W291 trailing whitespace\n",
      "29:39: W291 trailing whitespace\n",
      "30:43: W291 trailing whitespace\n",
      "44:1: W293 blank line contains whitespace\n",
      "47:1: W293 blank line contains whitespace\n",
      "51:1: W293 blank line contains whitespace\n",
      "57:1: W293 blank line contains whitespace\n",
      "61:1: W293 blank line contains whitespace\n",
      "63:80: E501 line too long (123 > 79 characters)\n",
      "64:1: W293 blank line contains whitespace\n",
      "67:1: W293 blank line contains whitespace\n",
      "81:1: W293 blank line contains whitespace\n",
      "85:1: W293 blank line contains whitespace\n"
     ]
    }
   ],
   "source": [
    "# Lets make some functions to reduce boiler plate code\n",
    "random_gen = default_rng(868686)\n",
    "dist_list = [x for x in dir(random_gen) if not x.startswith('_')]\n",
    "dist_cache = {}\n",
    "\n",
    "def random_dist(dist_name, dist_args=[], use_cached=False, **kwargs):\n",
    "    \"\"\"\n",
    "    Dynamically creates distribution objects from the generator\n",
    "    object, reduces the amount of boiler plate code\n",
    "\n",
    "    \n",
    "    :param dist_name: Input function name for distribution\n",
    "    :param dist_args: Passed to distribution constructor\n",
    "    :param use_cached: Every time a distribution is created, it is put into a cache. This tells the funciton to return the cached function\n",
    "    :param kwargs: Passed to distribution constructor\n",
    "    \n",
    "    :return dist_obj: Output Distribution all built\n",
    "    \"\"\"\n",
    "    if use_cached and dist_name in dist_cache:\n",
    "        return dist_cache[dist_name]\n",
    "    if dist_name in dist_list:\n",
    "        dist_obj = getattr(random_gen, dist_name)(*dist_args, **kwargs)\n",
    "        dist_cache[dist_name] = dist_obj\n",
    "        return dist_obj\n",
    "    raise AttributeError(f\"Unknown Distribution {dist_name}, please select from possible list: {dist_list}\")\n",
    "\n",
    "axes_keywords = [\n",
    "    \"xlabel\", \"xlim\", \"xmargin\", \"xscale\", \n",
    "    \"xticklabels\", \"xticks\", \"ybound\", \n",
    "    \"ylabel\", \"ylim\", \"ymargin\", \"yscale\", \n",
    "    \"yticklabels\", \"yticks\", \"zorder\", \"title\"\n",
    "]\n",
    "\n",
    "axes_override = ['xlabel', 'ylabel', 'title']\n",
    "\n",
    "\n",
    "def plot_make(plot_args, plot_type, figure=None, **kwargs):\n",
    "    \"\"\"\n",
    "    Builds Plots easily\n",
    "\n",
    "    :param in_data: Input data for future plot\n",
    "    :param plot_type: Which plot type is this function building\n",
    "    :param kwargs: Passed to plot constructor\n",
    "    \n",
    "    :return plot_obj: Plot constructor return\n",
    "    \"\"\"\n",
    "    \n",
    "    # Parse kwargs\n",
    "    axes_kwargs = {}\n",
    "    plot_kwargs = {}\n",
    "    \n",
    "    for keyword, value in kwargs.items():\n",
    "        if keyword in axes_keywords:\n",
    "            axes_kwargs[keyword] = value\n",
    "        else:\n",
    "            plot_kwargs[keyword] = value\n",
    "    \n",
    "    # Check for inputted figure\n",
    "    if figure is None:\n",
    "        figure = plt.figure()\n",
    "    \n",
    "    # Utilize set_* functions\n",
    "    axes_over_args = dict([(override, axes_kwargs.pop(override)) for override in axes_override if override in axes_kwargs])\n",
    "    \n",
    "    # Build Axes Object\n",
    "    axis_obj = plt.axes(**axes_kwargs)\n",
    "    \n",
    "    # Parse override arguments\n",
    "    for key, value in axes_over_args.items():\n",
    "        set_args = []\n",
    "        set_kwargs = {}\n",
    "        if isinstance(value, list):\n",
    "            for arg in value:\n",
    "                if isinstance(arg, dict):\n",
    "                    set_kwargs.update(arg)\n",
    "                else:\n",
    "                    set_args.append(arg)\n",
    "        else:\n",
    "            set_args.append(value)\n",
    "        getattr(axis_obj, \"set_\" + key)(*set_args, **set_kwargs)\n",
    "    \n",
    "    # Put it all together to make a plot\n",
    "    figure.add_axes(axis_obj)\n",
    "    plt_return_values = getattr(axis_obj, plot_type)(*plot_args, **plot_kwargs)\n",
    "    \n",
    "    # Return all the relevant objects\n",
    "    return (figure, axis_obj, plt_return_values)"
   ]
  },
  {
   "cell_type": "markdown",
   "metadata": {
    "collapsed": true,
    "id": "Z9BvEMwERwrW"
   },
   "source": [
    "#### Give the distribution a *population* mean"
   ]
  },
  {
   "cell_type": "code",
   "execution_count": 7,
   "metadata": {
    "ExecuteTime": {
     "end_time": "2019-09-04T18:40:33.116279Z",
     "start_time": "2019-09-04T18:40:33.111440Z"
    },
    "id": "L6ueeCkqRwrW"
   },
   "outputs": [],
   "source": [
    "dist_mean = 100"
   ]
  },
  {
   "cell_type": "markdown",
   "metadata": {},
   "source": [
    "#### For chi-square distributions, the degrees of freedom is the same as mean"
   ]
  },
  {
   "cell_type": "code",
   "execution_count": 8,
   "metadata": {
    "ExecuteTime": {
     "end_time": "2019-09-04T18:40:35.884219Z",
     "start_time": "2019-09-04T18:40:35.881628Z"
    },
    "id": "2Krj_WX1RwrY"
   },
   "outputs": [],
   "source": [
    "chi_sq_df = dist_mean"
   ]
  },
  {
   "cell_type": "markdown",
   "metadata": {},
   "source": [
    "#### Make the plot"
   ]
  },
  {
   "cell_type": "code",
   "execution_count": 9,
   "metadata": {
    "ExecuteTime": {
     "end_time": "2019-09-04T18:42:24.156799Z",
     "start_time": "2019-09-04T18:42:23.900473Z"
    },
    "id": "0MRFi2AWRwrY",
    "outputId": "dc2e5391-f188-43f5-a29f-6af5d571c534"
   },
   "outputs": [
    {
     "data": {
      "image/png": "[encoded data removed]",
      "text/plain": [
       "<Figure size 432x288 with 1 Axes>"
      ]
     },
     "metadata": {
      "needs_background": "light"
     },
     "output_type": "display_data"
    },
    {
     "name": "stderr",
     "output_type": "stream",
     "text": [
      "1:74: E251 unexpected spaces around keyword / parameter equals\n",
      "1:76: E251 unexpected spaces around keyword / parameter equals\n",
      "1:80: E501 line too long (104 > 79 characters)\n",
      "1:104: E703 statement ends with a semicolon\n"
     ]
    }
   ],
   "source": [
    "plot_make([random_dist('chisquare', [chi_sq_df], size=100)], 'hist', bins = 30, ylabel='N', xlabel='x');"
   ]
  },
  {
   "cell_type": "markdown",
   "metadata": {
    "id": "S01olP2CRwrZ"
   },
   "source": [
    "#### Figure 1: Chi sq distribution of a sample of size 100 for a Chi square distribution with  100 degrees of freedom. "
   ]
  },
  {
   "cell_type": "markdown",
   "metadata": {
    "id": "vqqEjKbzRwrZ"
   },
   "source": [
    "### let numpy calculate what the mean and stdev of this distribution are"
   ]
  },
  {
   "cell_type": "code",
   "execution_count": 10,
   "metadata": {
    "ExecuteTime": {
     "end_time": "2019-09-04T18:42:32.656167Z",
     "start_time": "2019-09-04T18:42:32.645619Z"
    },
    "id": "1XQWgHBYRwrZ",
    "outputId": "1c33b9de-e60e-4faf-e1b5-e2a7f17b09a0"
   },
   "outputs": [
    {
     "data": {
      "text/latex": [
       "Chi-Square mean: 104.21, Standard Deviation: 15.39"
      ],
      "text/plain": [
       "<IPython.core.display.Latex object>"
      ]
     },
     "metadata": {},
     "output_type": "display_data"
    },
    {
     "name": "stderr",
     "output_type": "stream",
     "text": [
      "2:80: E501 line too long (90 > 79 characters)\n",
      "3:80: E501 line too long (90 > 79 characters)\n"
     ]
    }
   ],
   "source": [
    "latexPrint(\n",
    "    f\"Chi-Square mean: {np.around(random_dist('chisquare', use_cached=True).mean(), 2)}, \"\n",
    "    f\"Standard Deviation: {np.around(random_dist('chisquare', use_cached=True).std(), 2)}\"\n",
    ")"
   ]
  },
  {
   "cell_type": "markdown",
   "metadata": {
    "id": "weyYxkXqRwrZ"
   },
   "source": [
    "## Analysis of variable sized samples from Chi-Square Distributions\n",
    "we want distributions of different sizes (all integers between 10 and 2000). It's a good idea to create more small distributions, cause, as we will see, their means will be more noisy (due to the law of large numbers which we discussed in class). Here are some tricks to create the distribution sizes "
   ]
  },
  {
   "cell_type": "code",
   "execution_count": 11,
   "metadata": {
    "ExecuteTime": {
     "end_time": "2019-09-04T18:48:54.103615Z",
     "start_time": "2019-09-04T18:48:54.099189Z"
    },
    "colab": {
     "base_uri": "https://localhost:8080/"
    },
    "id": "9whn0HY9Rwra",
    "outputId": "44c374f0-cb76-4abf-aebd-e16b287024cc"
   },
   "outputs": [
    {
     "data": {
      "text/latex": [
       "shape of the 'size' list that contains the size of each distribution : 50"
      ],
      "text/plain": [
       "<IPython.core.display.Latex object>"
      ]
     },
     "metadata": {},
     "output_type": "display_data"
    }
   ],
   "source": [
    "chi_sq_size_list = (2000 / (np.array(range(1, 100, 2)))).astype(int)\n",
    "latexPrint(\n",
    "    f\"shape of the 'size' list that \"\n",
    "    f\"contains the size of each distribution : {chi_sq_size_list.shape[0]}\"\n",
    ")"
   ]
  },
  {
   "cell_type": "code",
   "execution_count": 12,
   "metadata": {
    "ExecuteTime": {
     "end_time": "2019-09-04T18:49:24.365207Z",
     "start_time": "2019-09-04T18:49:24.216832Z"
    },
    "colab": {
     "base_uri": "https://localhost:8080/",
     "height": 279
    },
    "id": "mVweODwPRwra",
    "outputId": "564896b4-fcc9-4bf9-9e81-6fe6d500cd5d"
   },
   "outputs": [
    {
     "data": {
      "image/png": "[encoded data removed]",
      "text/plain": [
       "<Figure size 432x288 with 1 Axes>"
      ]
     },
     "metadata": {
      "needs_background": "light"
     },
     "output_type": "display_data"
    },
    {
     "name": "stderr",
     "output_type": "stream",
     "text": [
      "1:80: E501 line too long (109 > 79 characters)\n",
      "1:109: E703 statement ends with a semicolon\n"
     ]
    }
   ],
   "source": [
    "plot_make([chi_sq_size_list, '.'], 'plot', xlabel='index', ylabel='size of the distributions to be created');"
   ]
  },
  {
   "cell_type": "code",
   "execution_count": 13,
   "metadata": {
    "ExecuteTime": {
     "end_time": "2019-09-04T18:51:25.020587Z",
     "start_time": "2019-09-04T18:51:24.613971Z"
    },
    "id": "XaaWi4FeRwra",
    "outputId": "b772d08f-2989-49df-9888-321820c71397"
   },
   "outputs": [
    {
     "data": {
      "image/png": "[encoded data removed]",
      "text/plain": [
       "<Figure size 720x432 with 1 Axes>"
      ]
     },
     "metadata": {
      "needs_background": "light"
     },
     "output_type": "display_data"
    },
    {
     "name": "stderr",
     "output_type": "stream",
     "text": [
      "8:33: E231 missing whitespace after ','\n",
      "12:42: W291 trailing whitespace\n",
      "21:80: E501 line too long (84 > 79 characters)\n",
      "22:79: E703 statement ends with a semicolon\n"
     ]
    }
   ],
   "source": [
    "chi_sq_mean_list = np.zeros(len(chi_sq_size_list))\n",
    "\n",
    "for chi_sq_index, chi_sq_size in enumerate(chi_sq_size_list):\n",
    "    chi_sq_test = random_dist('chisquare', [chi_sq_df], size=chi_sq_size)\n",
    "    chi_sq_mean_list[chi_sq_index] = np.mean(chi_sq_test)\n",
    "\n",
    "\n",
    "new_fig = plt.figure(figsize=(10,6))\n",
    "\n",
    "\n",
    "fig, ax, rv = plot_make(\n",
    "    [chi_sq_size_list, chi_sq_mean_list], \n",
    "    'scatter',\n",
    "    figure=new_fig,\n",
    "    ylabel=['Sample Mean', {'fontsize': 18}],\n",
    "    xlabel=['Size of Sample', {'fontsize': 18}],\n",
    "    title=['Chi squared', {'fontsize': 18}]\n",
    ")\n",
    "\n",
    "ax.tick_params(labelsize=15)\n",
    "ax.plot([min(chi_sq_size_list), max(chi_sq_size_list)], [chi_sq_df, chi_sq_df], 'k')\n",
    "ax.text(ax.get_xlim()[1] * .6, 100, \"expected mean\", va=\"bottom\", fontsize=20);"
   ]
  },
  {
   "cell_type": "markdown",
   "metadata": {
    "id": "XKJ50Ll4Rwrc"
   },
   "source": [
    "#### Figure 2: As the number of samples from the distribution grows, the mean of the sample converges on the mean of the distribution."
   ]
  },
  {
   "cell_type": "markdown",
   "metadata": {
    "id": "Fx7EiYL9Rwrc"
   },
   "source": [
    "## Now the histogram of the mean of all samples"
   ]
  },
  {
   "cell_type": "code",
   "execution_count": 14,
   "metadata": {
    "ExecuteTime": {
     "end_time": "2019-09-04T04:48:50.676579Z",
     "start_time": "2019-09-04T04:48:50.506157Z"
    },
    "id": "y_vcS_uuRwrd",
    "outputId": "c38b2b5e-bb74-4ba3-bc4b-426a5d513966"
   },
   "outputs": [
    {
     "data": {
      "image/png": "[encoded data removed]",
      "text/plain": [
       "<Figure size 720x720 with 1 Axes>"
      ]
     },
     "metadata": {
      "needs_background": "light"
     },
     "output_type": "display_data"
    },
    {
     "name": "stderr",
     "output_type": "stream",
     "text": [
      "4:24: W291 trailing whitespace\n"
     ]
    }
   ],
   "source": [
    "fig = plt.figure(figsize=(10, 10))\n",
    "\n",
    "fig, ax, rv = plot_make(\n",
    "    [chi_sq_mean_list], \n",
    "    'hist',\n",
    "    bins=30,\n",
    "    figure=fig,\n",
    "    xlabel=['Sample Mean', {'fontsize': 18}],\n",
    "    ylabel=['Number of Means in Bin', {'fontsize': 18}],\n",
    "    title=['Histogram of Sample Means', {'fontsize': 18}]\n",
    ")\n",
    "\n",
    "ax.tick_params(labelsize=15)"
   ]
  },
  {
   "cell_type": "markdown",
   "metadata": {
    "id": "PauosNfwRwrd"
   },
   "source": [
    "#### Figure 3: The distribution of sample means are distributed around the population mean, 100, with a slight spread ranging from 93 to 105"
   ]
  },
  {
   "cell_type": "code",
   "execution_count": 15,
   "metadata": {},
   "outputs": [
    {
     "name": "stderr",
     "output_type": "stream",
     "text": [
      "6:1: W293 blank line contains whitespace\n",
      "10:1: W293 blank line contains whitespace\n",
      "13:26: W291 trailing whitespace\n",
      "19:80: E501 line too long (130 > 79 characters)\n",
      "23:1: W293 blank line contains whitespace\n",
      "26:1: E305 expected 2 blank lines after class or function definition, found 1\n"
     ]
    }
   ],
   "source": [
    "# Helper Function to build the distribution plots\n",
    "\n",
    "def make_info(dist_name, dist_print_name, dist_args=[]):\n",
    "    dist_size_list = (2000 / (np.array(range(1, 100, 2)))).astype(int)\n",
    "    dist_mean_list = np.zeros(len(dist_size_list))\n",
    "    \n",
    "    for index, size in enumerate(dist_size_list):\n",
    "        test_sample = random_dist(dist_name, dist_args, size=size)\n",
    "        dist_mean_list[index] = np.mean(test_sample)\n",
    "    \n",
    "    fig = plt.figure(figsize=(10, 10))\n",
    "    fig, ax, rv = plot_make(\n",
    "        [dist_mean_list], \n",
    "        'hist',\n",
    "        bins=30,\n",
    "        figure=fig,\n",
    "        xlabel=['Sample Mean', {'fontsize': 18}],\n",
    "        ylabel=['Number of Means in Bin', {'fontsize': 18}],\n",
    "        title=[f'Histogram of Sample Means for \\nthe {dist_print_name} Distribution with Variable Sample Sizes', {'fontsize': 18}]\n",
    "    )\n",
    "\n",
    "    ax.tick_params(labelsize=15)\n",
    "    \n",
    "    return (fig, ax, rv)\n",
    "\n",
    "dist_rv_cache = []"
   ]
  },
  {
   "cell_type": "markdown",
   "metadata": {
    "collapsed": true,
    "id": "guYI9Y4LRwrd"
   },
   "source": [
    "### Do it for the Normal distribution\n"
   ]
  },
  {
   "cell_type": "code",
   "execution_count": 17,
   "metadata": {},
   "outputs": [
    {
     "data": {
      "image/png": "[encoded data removed]",
      "text/plain": [
       "<Figure size 720x720 with 1 Axes>"
      ]
     },
     "metadata": {
      "needs_background": "light"
     },
     "output_type": "display_data"
    }
   ],
   "source": [
    "rv = make_info(\"normal\", \"Normal\", [100])\n",
    "dist_rv_cache.append(list(rv))"
   ]
  },
  {
   "cell_type": "markdown",
   "metadata": {
    "collapsed": true,
    "id": "KWp-52O_Rwrd"
   },
   "source": [
    "### Do it for the Poisson distribution"
   ]
  },
  {
   "cell_type": "code",
   "execution_count": 18,
   "metadata": {
    "id": "ankH4mx_Rwrd"
   },
   "outputs": [
    {
     "data": {
      "image/png": "[encoded data removed]",
      "text/plain": [
       "<Figure size 720x720 with 1 Axes>"
      ]
     },
     "metadata": {
      "needs_background": "light"
     },
     "output_type": "display_data"
    }
   ],
   "source": [
    "rv = make_info(\"poisson\", \"Poisson\", [100])\n",
    "dist_rv_cache.append(list(rv))"
   ]
  },
  {
   "cell_type": "markdown",
   "metadata": {
    "id": "MnwuGhVxRwrd"
   },
   "source": [
    "### Do it for the Binomial distribution"
   ]
  },
  {
   "cell_type": "code",
   "execution_count": 19,
   "metadata": {
    "id": "9w-WbUR_Rwrd"
   },
   "outputs": [
    {
     "data": {
      "image/png": "[encoded data removed]",
      "text/plain": [
       "<Figure size 720x720 with 1 Axes>"
      ]
     },
     "metadata": {
      "needs_background": "light"
     },
     "output_type": "display_data"
    }
   ],
   "source": [
    "rv = make_info(\"binomial\", \"Binomial\", [100, 0.5])\n",
    "dist_rv_cache.append(list(rv))"
   ]
  },
  {
   "cell_type": "markdown",
   "metadata": {
    "id": "DZhHD6GZRwre"
   },
   "source": [
    "### Do it for another distribution"
   ]
  },
  {
   "cell_type": "code",
   "execution_count": 20,
   "metadata": {
    "id": "PerSauZvRwre"
   },
   "outputs": [
    {
     "data": {
      "image/png": "[encoded data removed]",
      "text/plain": [
       "<Figure size 720x720 with 1 Axes>"
      ]
     },
     "metadata": {
      "needs_background": "light"
     },
     "output_type": "display_data"
    }
   ],
   "source": [
    "rv = make_info(\"hypergeometric\", \"Hypergeometric\", [100, 50, 25])\n",
    "dist_rv_cache.append(list(rv))"
   ]
  },
  {
   "cell_type": "markdown",
   "metadata": {
    "collapsed": true,
    "id": "TjqCHR1rRwre"
   },
   "source": [
    "### Fitting a Gaussian to the histograms of the means for each distribution"
   ]
  },
  {
   "cell_type": "code",
   "execution_count": 31,
   "metadata": {
    "ExecuteTime": {
     "end_time": "2019-09-04T18:53:15.952372Z",
     "start_time": "2019-09-04T18:53:15.806867Z"
    },
    "id": "-z8TVkFPRwre",
    "outputId": "4c3117a3-18f9-4a5a-c46e-750d59f2cf15"
   },
   "outputs": [
    {
     "name": "stderr",
     "output_type": "stream",
     "text": [
      "/data/greg_files/Software/python-virtual-environments/DSPS_GFoote-Dh-wfxy1/lib/python3.8/site-packages/scipy/optimize/minpack.py:833: OptimizeWarning: Covariance of the parameters could not be estimated\n",
      "  warnings.warn('Covariance of the parameters could not be estimated',\n"
     ]
    },
    {
     "ename": "ValueError",
     "evalue": "Can not reset the axes.  You are probably trying to re-use an artist in more than one Axes which is not supported",
     "output_type": "error",
     "traceback": [
      "\u001b[0;31m---------------------------------------------------------------------------\u001b[0m",
      "\u001b[0;31mValueError\u001b[0m                                Traceback (most recent call last)",
      "\u001b[0;32m/tmp/ipykernel_17098/382455708.py\u001b[0m in \u001b[0;36m<module>\u001b[0;34m\u001b[0m\n\u001b[1;32m     25\u001b[0m     \u001b[0mnew_ax\u001b[0m\u001b[0;34m.\u001b[0m\u001b[0mplot\u001b[0m\u001b[0;34m(\u001b[0m\u001b[0mxs\u001b[0m\u001b[0;34m,\u001b[0m \u001b[0mfitted_ys\u001b[0m\u001b[0;34m,\u001b[0m \u001b[0mcolor\u001b[0m\u001b[0;34m=\u001b[0m\u001b[0mplt_colors\u001b[0m\u001b[0;34m[\u001b[0m\u001b[0max_index\u001b[0m \u001b[0;34m-\u001b[0m \u001b[0;36m1\u001b[0m\u001b[0;34m]\u001b[0m\u001b[0;34m)\u001b[0m\u001b[0;34m\u001b[0m\u001b[0;34m\u001b[0m\u001b[0m\n\u001b[1;32m     26\u001b[0m     \u001b[0;32mfor\u001b[0m \u001b[0mbar\u001b[0m \u001b[0;32min\u001b[0m \u001b[0mdist_rv\u001b[0m\u001b[0;34m[\u001b[0m\u001b[0;36m2\u001b[0m\u001b[0;34m]\u001b[0m\u001b[0;34m:\u001b[0m\u001b[0;34m\u001b[0m\u001b[0;34m\u001b[0m\u001b[0m\n\u001b[0;32m---> 27\u001b[0;31m         \u001b[0mnew_ax\u001b[0m\u001b[0;34m.\u001b[0m\u001b[0madd_artist\u001b[0m\u001b[0;34m(\u001b[0m\u001b[0mbar\u001b[0m\u001b[0;34m)\u001b[0m\u001b[0;34m\u001b[0m\u001b[0;34m\u001b[0m\u001b[0m\n\u001b[0m\u001b[1;32m     28\u001b[0m \u001b[0;34m\u001b[0m\u001b[0m\n\u001b[1;32m     29\u001b[0m     \u001b[0max_index\u001b[0m \u001b[0;34m+=\u001b[0m \u001b[0;36m1\u001b[0m\u001b[0;34m\u001b[0m\u001b[0;34m\u001b[0m\u001b[0m\n",
      "\u001b[0;32m/data/greg_files/Software/python-virtual-environments/DSPS_GFoote-Dh-wfxy1/lib/python3.8/site-packages/matplotlib/axes/_base.py\u001b[0m in \u001b[0;36madd_artist\u001b[0;34m(self, a)\u001b[0m\n\u001b[1;32m   2017\u001b[0m         \u001b[0;31m`\u001b[0m\u001b[0;31m`\u001b[0m\u001b[0max\u001b[0m\u001b[0;34m.\u001b[0m\u001b[0mtransData\u001b[0m\u001b[0;31m`\u001b[0m\u001b[0;31m`\u001b[0m\u001b[0;34m.\u001b[0m\u001b[0;34m\u001b[0m\u001b[0;34m\u001b[0m\u001b[0m\n\u001b[1;32m   2018\u001b[0m         \"\"\"\n\u001b[0;32m-> 2019\u001b[0;31m         \u001b[0ma\u001b[0m\u001b[0;34m.\u001b[0m\u001b[0maxes\u001b[0m \u001b[0;34m=\u001b[0m \u001b[0mself\u001b[0m\u001b[0;34m\u001b[0m\u001b[0;34m\u001b[0m\u001b[0m\n\u001b[0m\u001b[1;32m   2020\u001b[0m         \u001b[0mself\u001b[0m\u001b[0;34m.\u001b[0m\u001b[0martists\u001b[0m\u001b[0;34m.\u001b[0m\u001b[0mappend\u001b[0m\u001b[0;34m(\u001b[0m\u001b[0ma\u001b[0m\u001b[0;34m)\u001b[0m\u001b[0;34m\u001b[0m\u001b[0;34m\u001b[0m\u001b[0m\n\u001b[1;32m   2021\u001b[0m         \u001b[0ma\u001b[0m\u001b[0;34m.\u001b[0m\u001b[0m_remove_method\u001b[0m \u001b[0;34m=\u001b[0m \u001b[0mself\u001b[0m\u001b[0;34m.\u001b[0m\u001b[0martists\u001b[0m\u001b[0;34m.\u001b[0m\u001b[0mremove\u001b[0m\u001b[0;34m\u001b[0m\u001b[0;34m\u001b[0m\u001b[0m\n",
      "\u001b[0;32m/data/greg_files/Software/python-virtual-environments/DSPS_GFoote-Dh-wfxy1/lib/python3.8/site-packages/matplotlib/artist.py\u001b[0m in \u001b[0;36maxes\u001b[0;34m(self, new_axes)\u001b[0m\n\u001b[1;32m    224\u001b[0m         if (new_axes is not None and self._axes is not None\n\u001b[1;32m    225\u001b[0m                 and new_axes != self._axes):\n\u001b[0;32m--> 226\u001b[0;31m             raise ValueError(\"Can not reset the axes.  You are probably \"\n\u001b[0m\u001b[1;32m    227\u001b[0m                              \u001b[0;34m\"trying to re-use an artist in more than one \"\u001b[0m\u001b[0;34m\u001b[0m\u001b[0;34m\u001b[0m\u001b[0m\n\u001b[1;32m    228\u001b[0m                              \"Axes which is not supported\")\n",
      "\u001b[0;31mValueError\u001b[0m: Can not reset the axes.  You are probably trying to re-use an artist in more than one Axes which is not supported"
     ]
    },
    {
     "data": {
      "image/png": "[encoded data removed]",
      "text/plain": [
       "<Figure size 720x720 with 1 Axes>"
      ]
     },
     "metadata": {
      "needs_background": "light"
     },
     "output_type": "display_data"
    },
    {
     "name": "stderr",
     "output_type": "stream",
     "text": [
      "3:1: E302 expected 2 blank lines, found 1\n",
      "4:80: E501 line too long (84 > 79 characters)\n",
      "6:1: E302 expected 2 blank lines, found 1\n",
      "18:1: W293 blank line contains whitespace\n",
      "21:1: W293 blank line contains whitespace\n",
      "23:1: W293 blank line contains whitespace\n",
      "28:1: W293 blank line contains whitespace\n"
     ]
    }
   ],
   "source": [
    "g_const = 1 / np.sqrt(2 * np.pi)\n",
    "\n",
    "def convert_to_x(in_bin_arr):\n",
    "    return [(in_bin_arr[i] + in_bin_arr[i+1])/2 for i in range(len(in_bin_arr) - 1)]\n",
    "\n",
    "def gaussian(x, std_dev, mean):\n",
    "    return g_const * 1/std_dev * np.exp(np.square((x - mean)/std_dev) / -2)\n",
    "\n",
    "\n",
    "fig = plt.figure(figsize=(10, 10))\n",
    "\n",
    "plt_colors = ['#4392F1', '#DC493A', '#373F51', '#FFEEDB']\n",
    "\n",
    "ax_index = 1\n",
    "for old_fig, old_ax, dist_rv in dist_rv_cache:\n",
    "    ys = list(dist_rv[0])\n",
    "    xs = convert_to_x(dist_rv[1])\n",
    "    \n",
    "    params, covar = curve_fit(gaussian, xs, ys)\n",
    "    fitted_ys = gaussian(xs, *params)\n",
    "    \n",
    "    # ax.plot(xs, fitted_ys, color=plt_colors[ax_index - 1])\n",
    "    \n",
    "    new_ax = fig.add_subplot(2, 2, ax_index)\n",
    "    new_ax.plot(xs, fitted_ys, color=plt_colors[ax_index - 1])\n",
    "    for bar in dist_rv[2]:\n",
    "        \n",
    "        cen = bar.get_xy()\n",
    "        wid = bar.get_width()\n",
    "        hei = bar.get_height()\n",
    "        \n",
    "        new_ax.add_artist(mpl.Patches.rectangle(cen, wid, hei))\n",
    "    \n",
    "    ax_index += 1\n",
    "\n",
    "plt.show()"
   ]
  },
  {
   "cell_type": "code",
   "execution_count": null,
   "metadata": {},
   "outputs": [],
   "source": []
  }
 ],
 "metadata": {
  "anaconda-cloud": {},
  "colab": {
   "include_colab_link": true,
   "name": "CentralLimitTheorem.ipynb",
   "provenance": []
  },
  "kernelspec": {
   "display_name": "Python 3 (ipykernel)",
   "language": "python",
   "name": "python3"
  },
  "language_info": {
   "codemirror_mode": {
    "name": "ipython",
    "version": 3
   },
   "file_extension": ".py",
   "mimetype": "text/x-python",
   "name": "python",
   "nbconvert_exporter": "python",
   "pygments_lexer": "ipython3",
   "version": "3.8.10"
  },
  "latex_envs": {
   "LaTeX_envs_menu_present": true,
   "autoclose": false,
   "autocomplete": true,
   "bibliofile": "biblio.bib",
   "cite_by": "apalike",
   "current_citInitial": 1,
   "eqLabelWithNumbers": true,
   "eqNumInitial": 1,
   "hotkeys": {
    "equation": "Ctrl-E",
    "itemize": "Ctrl-I"
   },
   "labels_anchors": false,
   "latex_user_defs": false,
   "report_style_numbering": false,
   "user_envs_cfg": false
  },
  "nbTranslate": {
   "displayLangs": [
    "*"
   ],
   "hotkey": "alt-t",
   "langInMainMenu": true,
   "sourceLang": "en",
   "targetLang": "fr",
   "useGoogleTranslate": true
  },
  "toc": {
   "base_numbering": 1,
   "nav_menu": {},
   "number_sections": true,
   "sideBar": true,
   "skip_h1_title": false,
   "title_cell": "Table of Contents",
   "title_sidebar": "Contents",
   "toc_cell": false,
   "toc_position": {},
   "toc_section_display": true,
   "toc_window_display": false
  }
 },
 "nbformat": 4,
 "nbformat_minor": 1
}
