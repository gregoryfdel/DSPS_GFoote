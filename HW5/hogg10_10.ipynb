{
  "cells": [
    {
      "cell_type": "markdown",
      "metadata": {
        "colab_type": "text",
        "id": "view-in-github"
      },
      "source": [
        "<a href=\"https://colab.research.google.com/github/fedhere/DSPS_FBianco/blob/master/HW5/hogg10_10.ipynb\" target=\"_parent\"><img src=\"https://colab.research.google.com/assets/colab-badge.svg\" alt=\"Open In Colab\"/></a>"
      ]
    },
    {
      "cell_type": "code",
      "execution_count": null,
      "metadata": {
        "ExecuteTime": {
          "end_time": "2019-08-26T01:25:44.412667Z",
          "start_time": "2019-08-26T01:25:43.257091Z"
        },
        "colab": {
          "base_uri": "https://localhost:8080/"
        },
        "id": "iDm4jeI7IILc",
        "outputId": "9f3f5999-477a-4c82-a889-a9100c431e0f"
      },
      "outputs": [],
      "source": [
        "import pandas as pd\n",
        "import pylab as pl\n",
        "from scipy.optimize import curve_fit\n",
        "%pylab inline"
      ]
    },
    {
      "cell_type": "code",
      "execution_count": null,
      "metadata": {
        "ExecuteTime": {
          "end_time": "2019-08-26T01:28:04.518414Z",
          "start_time": "2019-08-26T01:28:04.511420Z"
        },
        "id": "BApxEVOhIILh"
      },
      "outputs": [],
      "source": [
        "from matplotlib.patches import Ellipse\n",
        "import matplotlib.transforms as transforms\n",
        "\n",
        "def line(x, slope, intercept):\n",
        "    return x * slope + intercept\n",
        "\n",
        "def confidence_ellipse(x, y, sx, sy, cov,\n",
        "                       ax, edgecolor='k', **kwargs):\n",
        "    \n",
        "    n = len(x)\n",
        "    if x.size != y.size:\n",
        "        raise ValueError(\"x and y must be the same size\")\n",
        "\n",
        "  \n",
        "    # Calculating the stdandard deviation of x from\n",
        "    # the squareroot of the variance and multiplying\n",
        "    # with the given number of standard deviations.\n",
        "    rots = np.arctan2(sy/y, sx/x)\n",
        "    #print(rots)\n",
        "    for i in range(n):\n",
        "        ellipse = Ellipse((0, 0),\n",
        "        width=sx[i],\n",
        "        height=sy[i],\n",
        "        edgecolor=edgecolor,\n",
        "        facecolor='None',\n",
        "        **kwargs)\n",
        "        \n",
        "        transf = transforms.Affine2D().rotate_deg(-cov[i][1,0]*180/np.pi)\\\n",
        "        .translate(x[i], y[i])\n",
        "        #.rotate(rots[i])\\\n",
        "        \n",
        "        ellipse.set_transform(transf + ax.transData)\n",
        "        ax.add_patch(ellipse)\n"
      ]
    },
    {
      "cell_type": "markdown",
      "metadata": {
        "id": "3H3kuukwIILi"
      },
      "source": [
        "# read in data"
      ]
    },
    {
      "cell_type": "code",
      "execution_count": null,
      "metadata": {
        "ExecuteTime": {
          "end_time": "2019-08-26T01:25:45.190237Z",
          "start_time": "2019-08-26T01:25:45.164276Z"
        },
        "colab": {
          "base_uri": "https://localhost:8080/",
          "height": 202
        },
        "id": "uuGSBpFfIILk",
        "outputId": "14c4e3d6-b862-4be1-c967-a235a4830f7a"
      },
      "outputs": [],
      "source": [
        "data = pd.read_csv(\"https://raw.githubusercontent.com/fedhere/DSPS_FBianco/master/HW5/hbl2017.csv\")\n",
        "data.head()"
      ]
    },
    {
      "cell_type": "code",
      "execution_count": null,
      "metadata": {
        "id": "Y34cAnwJIt5w"
      },
      "outputs": [],
      "source": [
        "data.rename(columns={\"σx\":\"sx\",\n",
        "             \"σy\":\"sy\",\n",
        "             \"ρxy\":\"rxy\"}, inplace=True)"
      ]
    },
    {
      "cell_type": "code",
      "execution_count": null,
      "metadata": {
        "ExecuteTime": {
          "end_time": "2019-08-26T01:25:45.867669Z",
          "start_time": "2019-08-26T01:25:45.863618Z"
        },
        "colab": {
          "base_uri": "https://localhost:8080/"
        },
        "id": "8Xhaj_BcIILk",
        "outputId": "85a2bbd1-fee1-41d9-8be6-edc3b6eda092"
      },
      "outputs": [],
      "source": [
        "data.rxy.values"
      ]
    },
    {
      "cell_type": "code",
      "execution_count": null,
      "metadata": {
        "ExecuteTime": {
          "end_time": "2019-08-26T01:25:47.191653Z",
          "start_time": "2019-08-26T01:25:47.189209Z"
        },
        "id": "N1xxQgktIILl"
      },
      "outputs": [],
      "source": [
        "nall = len(data)\n",
        "n = nall - 5"
      ]
    },
    {
      "cell_type": "code",
      "execution_count": null,
      "metadata": {
        "ExecuteTime": {
          "end_time": "2019-08-26T01:25:48.642801Z",
          "start_time": "2019-08-26T01:25:48.503716Z"
        },
        "colab": {
          "base_uri": "https://localhost:8080/",
          "height": 278
        },
        "id": "U-h02EICIILl",
        "outputId": "5b15a089-7550-4d1c-f838-bf51824cd2d1"
      },
      "outputs": [],
      "source": [
        "ax = data.plot(x='x', y=\"y\", yerr=\"sy\", xerr=\"sx\", kind=\"scatter\");\n",
        "data[5:].plot(x='x', y=\"y\", yerr=\"sy\", xerr=\"sx\", kind=\"scatter\", \n",
        "              ax=ax, color='r');"
      ]
    },
    {
      "cell_type": "markdown",
      "metadata": {
        "id": "BpZnlAiFIILm"
      },
      "source": [
        "function definition"
      ]
    },
    {
      "cell_type": "markdown",
      "metadata": {
        "id": "CI7OP8IpIILn"
      },
      "source": [
        "# numpy implementation with curvefit \n",
        "\n",
        "### on partial dataset"
      ]
    },
    {
      "cell_type": "code",
      "execution_count": null,
      "metadata": {
        "ExecuteTime": {
          "end_time": "2019-08-26T01:25:50.808058Z",
          "start_time": "2019-08-26T01:25:50.805344Z"
        },
        "id": "H3QjOdqfIILn"
      },
      "outputs": [],
      "source": [
        "rdata = data[4:] "
      ]
    },
    {
      "cell_type": "markdown",
      "metadata": {
        "id": "8f_WL403IILo"
      },
      "source": [
        "# linear algebra solution"
      ]
    },
    {
      "cell_type": "markdown",
      "metadata": {
        "id": "vsN5hu8_IILo"
      },
      "source": [
        "convert arrays to matrices"
      ]
    },
    {
      "cell_type": "code",
      "execution_count": null,
      "metadata": {
        "ExecuteTime": {
          "end_time": "2019-08-26T01:25:52.256050Z",
          "start_time": "2019-08-26T01:25:52.250705Z"
        },
        "id": "CBSN-8DAIILo"
      },
      "outputs": [],
      "source": [
        "def makematrix(x, y, sx, sy, npar=2, verbose=False):\n",
        "    if npar == 2:\n",
        "        a = np.matrix(np.array([ones_like(x), x])).T\n",
        "    elif npar == 3:\n",
        "        a = np.matrix(np.array([ones_like(x), x, x * x])).T\n",
        "    else: \n",
        "        print(\"wrong number of parameters {}\".format(npar) + \n",
        "                \"only linear npar=2) and quadratic (npar=3) fits enabled\")\n",
        "        return np.nan, np.nan, np.nan \n",
        "    Y = np.matrix(np.array([y])).T\n",
        "    c = np.matrix(np.diag(sy**2))\n",
        "    if verbose:\n",
        "        #print(Y, a, c)\n",
        "        print(Y.shape, a.shape, c.shape)\n",
        "    return a, Y, c"
      ]
    },
    {
      "cell_type": "markdown",
      "metadata": {
        "id": "5tAvIPBaIILp"
      },
      "source": [
        "### matrix solution line fit to partial dataset"
      ]
    },
    {
      "cell_type": "markdown",
      "metadata": {
        "id": "sJGvu-EIIILw"
      },
      "source": [
        "## 1. partial set linear fit"
      ]
    },
    {
      "cell_type": "code",
      "execution_count": null,
      "metadata": {
        "ExecuteTime": {
          "end_time": "2019-08-26T01:25:54.324863Z",
          "start_time": "2019-08-26T01:25:54.316674Z"
        },
        "colab": {
          "base_uri": "https://localhost:8080/"
        },
        "id": "mueuS5TPIILw",
        "outputId": "129a2c41-a567-4fe9-a4dc-f8c5affa917c"
      },
      "outputs": [],
      "source": [
        "a, Y, c = makematrix(rdata.x.values, rdata.y.values, \n",
        "                     rdata.sx.values, rdata.sy.values)\n",
        "bm = np.linalg.inv(a.T.dot(np.linalg.inv(c)).dot(a)).dot(\n",
        "    a.T.dot(np.linalg.inv(c)).dot(Y))\n",
        "bbmm = np.array(bm).T[0][::-1]\n",
        "print(\"coefficients: slope {:.2f} intercept {:.1f}\".format(*bbmm))"
      ]
    },
    {
      "cell_type": "code",
      "execution_count": null,
      "metadata": {
        "ExecuteTime": {
          "end_time": "2019-08-26T01:25:54.979742Z",
          "start_time": "2019-08-26T01:25:54.977087Z"
        },
        "id": "xmdBsBJyIILw"
      },
      "outputs": [],
      "source": [
        "# fit with LA\n",
        "yhat = a.dot(bm)"
      ]
    },
    {
      "cell_type": "code",
      "execution_count": null,
      "metadata": {
        "ExecuteTime": {
          "end_time": "2019-08-26T01:25:56.343782Z",
          "start_time": "2019-08-26T01:25:56.338125Z"
        },
        "colab": {
          "base_uri": "https://localhost:8080/"
        },
        "id": "cJm68QJEIILx",
        "outputId": "c4bb7615-755f-4dae-8205-9c6321e946c7"
      },
      "outputs": [],
      "source": [
        "#residuals & error\n",
        "yres = yhat - Y\n",
        "s = yres.T.dot(yres) / (n - len(bm[1]))\n",
        "print(\" error from residuals\", float(s))"
      ]
    },
    {
      "cell_type": "code",
      "execution_count": null,
      "metadata": {
        "ExecuteTime": {
          "end_time": "2019-08-26T01:27:48.706012Z",
          "start_time": "2019-08-26T01:27:48.558350Z"
        },
        "colab": {
          "base_uri": "https://localhost:8080/",
          "height": 665
        },
        "id": "KtgiPF35IILx",
        "outputId": "96e0cd2e-60f9-4f1c-d814-e6593bd26660"
      },
      "outputs": [],
      "source": [
        "newx = [data.x.min(), data.x.max()]\n",
        "ax = figure(figsize=(10,10)).add_subplot();\n",
        "ax = data.plot(x=\"x\", y=\"y\", yerr=\"sy\", xerr=\"sx\", kind=\"scatter\", ax=ax);\n",
        "plot(newx, \n",
        "     np.vstack(np.array([ones_like(newx), newx])).T.dot(bm), \n",
        "     'y--', label='fit: m=%5.3f, b=%5.3f' % tuple(\n",
        "              (bm[0][0], bm[1][0])));\n",
        "#LA\n",
        "plot(rdata.x, np.array(yhat).flatten(), 'r.')\n",
        "xlim(0,300)\n",
        "ylim(0,700)\n",
        "axes().set_aspect(np.diff(xlim()) / np.diff(ylim()));"
      ]
    },
    {
      "cell_type": "markdown",
      "metadata": {
        "id": "ERoWxJxTIILy"
      },
      "source": [
        "### uncertainty"
      ]
    },
    {
      "cell_type": "markdown",
      "metadata": {
        "id": "qzrjaKPbIILy"
      },
      "source": [
        "## 2. matrix solution line fit to full dataset"
      ]
    },
    {
      "cell_type": "code",
      "execution_count": null,
      "metadata": {
        "ExecuteTime": {
          "end_time": "2019-08-26T01:27:50.604957Z",
          "start_time": "2019-08-26T01:27:50.598174Z"
        },
        "colab": {
          "base_uri": "https://localhost:8080/"
        },
        "id": "Q4lVfjMFIILy",
        "outputId": "26e05259-dcef-4b10-991f-620210d07212"
      },
      "outputs": [],
      "source": [
        "a2, Y2, c2 = makematrix(data.x.values, data.y.values, \n",
        "                        data.sx.values, data.sy.values)\n",
        "bmfull = np.linalg.inv(a2.T.dot(np.linalg.inv(c2)).dot(a2)).dot(\n",
        "    a2.T.dot(np.linalg.inv(c2)).dot(np.matrix(data.y.values).T))\n",
        "bmfull"
      ]
    },
    {
      "cell_type": "code",
      "execution_count": null,
      "metadata": {
        "ExecuteTime": {
          "end_time": "2019-08-26T01:27:51.163050Z",
          "start_time": "2019-08-26T01:27:51.158178Z"
        },
        "colab": {
          "base_uri": "https://localhost:8080/"
        },
        "id": "SJo6rrmPIILy",
        "outputId": "58926608-6a50-424a-8535-ae7d225a5ffb"
      },
      "outputs": [],
      "source": [
        "yhat2 = a2.dot(bmfull)\n",
        "yres2 = yhat2 - Y2\n",
        "s2 = yres2.T.dot(yres2) / (nall - 2)\n",
        "s2"
      ]
    },
    {
      "cell_type": "code",
      "execution_count": null,
      "metadata": {
        "ExecuteTime": {
          "end_time": "2019-08-26T01:27:52.471182Z",
          "start_time": "2019-08-26T01:27:52.329083Z"
        },
        "colab": {
          "base_uri": "https://localhost:8080/",
          "height": 665
        },
        "id": "qX1n4BmfIILz",
        "outputId": "0fda7229-72fb-4ff8-f9dc-67250a455631"
      },
      "outputs": [],
      "source": [
        "ax = figure(figsize=(10,10)).add_subplot();\n",
        "ax = data.plot(x=\"x\", y=\"y\", yerr=\"sy\", xerr=\"sx\", kind=\"scatter\", ax=ax);\n",
        "plot(newx, \n",
        "    np.vstack(np.array([ones_like(newx), newx])).T.dot(bmfull),\n",
        "     'y--',\n",
        "          label='fit: m=%5.3f, b=%5.3f' % tuple((bmfull[0][0], bmfull[1][0])));\n",
        "plot(data.x, np.array(a2.dot(bmfull)).flatten(), 'r.')\n",
        "xlim(0,300)\n",
        "ylim(0,700)\n",
        "axes().set_aspect(np.diff(xlim()) / np.diff(ylim()));\n"
      ]
    },
    {
      "cell_type": "markdown",
      "metadata": {
        "id": "6Cp7lehMIILz"
      },
      "source": [
        "## 5. MCMC"
      ]
    },
    {
      "cell_type": "code",
      "execution_count": null,
      "metadata": {
        "colab": {
          "base_uri": "https://localhost:8080/"
        },
        "id": "A5CghGNFJShF",
        "outputId": "25b9d360-e705-4718-82db-7f4ddfddba62"
      },
      "outputs": [],
      "source": [
        "!pip install emcee"
      ]
    },
    {
      "cell_type": "code",
      "execution_count": null,
      "metadata": {
        "colab": {
          "base_uri": "https://localhost:8080/"
        },
        "id": "An2EEmj2JUb2",
        "outputId": "ff455618-54af-473c-c762-b725da842294"
      },
      "outputs": [],
      "source": [
        "!pip install corner"
      ]
    },
    {
      "cell_type": "code",
      "execution_count": null,
      "metadata": {
        "ExecuteTime": {
          "end_time": "2019-08-26T01:27:53.885542Z",
          "start_time": "2019-08-26T01:27:53.882891Z"
        },
        "id": "AMQLTIKNIILz"
      },
      "outputs": [],
      "source": [
        "import emcee\n",
        "import corner\n",
        "import scipy.optimize as op\n",
        "from corner import hist2d"
      ]
    },
    {
      "cell_type": "code",
      "execution_count": null,
      "metadata": {
        "ExecuteTime": {
          "end_time": "2019-08-26T01:28:09.359003Z",
          "start_time": "2019-08-26T01:28:09.199496Z"
        },
        "colab": {
          "base_uri": "https://localhost:8080/",
          "height": 282
        },
        "id": "k7PLcWqfIILz",
        "outputId": "2c6f959f-0cd2-40c9-8d69-3130dafc373a"
      },
      "outputs": [],
      "source": [
        "xx = np.arange(data.x.min(), data.x.max(), 0.1)\n",
        "pl.errorbar(data.x, data.y, data.sy, fmt='.',  color='k')\n",
        "pl.plot(xx, line(xx, bmfull[1,0], bmfull[0,0]), 'k-', label=\"full\")\n",
        "pl.plot(xx, line(xx, bm[1,0], bm[0,0]), '-', label=\"restricted\")\n",
        "pl.xlabel(\"x\")\n",
        "pl.ylabel(\"y\")\n",
        "pl.legend();"
      ]
    },
    {
      "cell_type": "code",
      "execution_count": null,
      "metadata": {
        "id": "7X5sE4b_IIL0"
      },
      "outputs": [],
      "source": [
        "def lnlike(theta, x, y, yerr):\n",
        "    m, b, Yb, Pb, V = theta\n",
        "    #Yb = 0\n",
        "    model = m * x + b\n",
        "    sig2 = yerr**2\n",
        "    den = 2 * np.pi * sig2\n",
        "    a = (1 - Pb) / np.sqrt(den) *\\\n",
        "        exp(-(y-model)**2 /  2.0 / sig2)  \n",
        "    b = 0\n",
        "    b = Pb / np.sqrt(den + 2*np.pi*V) *\\\n",
        "        exp (-(y - Yb)**2 / 2 / (V + sig2))\n",
        "    return  np.sum(np.log(a + b))"
      ]
    },
    {
      "cell_type": "code",
      "execution_count": null,
      "metadata": {
        "id": "69VzauBzIIL0"
      },
      "outputs": [],
      "source": [
        "def lnprior(theta):\n",
        "    m, b, Yb, Pb, V = theta\n",
        "    if -200 < b < 500 and 0 < m < 10.0 :\n",
        "        #print(\"1\")\n",
        "        if Pb < 0 or Pb > 1:\n",
        "            return -np.inf\n",
        "        #print(\"2\")\n",
        "        yb = random.randn() * 300\n",
        "        if  Yb > ymean + yb or Yb < ymean - yb:\n",
        "            return -np.inf\n",
        "        #vb = random.randn() * 200\n",
        "        #if  V > vb + yb or \n",
        "        if V < 0:\n",
        "            return -np.inf\n",
        "        #print(\"3\")\n",
        "        return 0.0\n",
        "    \n",
        "    return -np.inf\n",
        "\n",
        "def lnprob(theta, x, y, yerr):\n",
        "    lp = lnprior(theta)\n",
        "    #print(lp)\n",
        "    if not np.isfinite(lp) :\n",
        "        return -np.inf\n",
        "    lnl = lnlike(theta, x, y, yerr)\n",
        "    if  np.isnan(lnl):\n",
        "        return -np.inf\n",
        "    return lp + lnl "
      ]
    },
    {
      "cell_type": "code",
      "execution_count": null,
      "metadata": {
        "id": "PB8WBo0iIIL0"
      },
      "outputs": [],
      "source": [
        "ymean = data.y.mean()\n",
        "#initialize from the restricted problem LA solution \n"
      ]
    },
    {
      "cell_type": "code",
      "execution_count": null,
      "metadata": {
        "colab": {
          "base_uri": "https://localhost:8080/",
          "height": 1000
        },
        "id": "gjcAPMJUIIL0",
        "outputId": "e707d086-1dc7-4ab4-91b9-e3c16f3128f8"
      },
      "outputs": [],
      "source": [
        "ndim, nwalkers = 5, 100\n",
        "init = np.hstack([bm[1,0], bm[0,0], ymean, \n",
        "                  0.2, 0.1])\n",
        "pos = [init + \n",
        "       init * 1e-4 * np.random.randn(ndim) for i in range(nwalkers)]\n",
        "sampler = emcee.EnsembleSampler(nwalkers, ndim, \n",
        "                                lnprob, \n",
        "                                args=(data.x, data.y,\n",
        "                                     data.sy))\n",
        "sampler.run_mcmc(pos, 500, progress=True);\n",
        "for i in range(ndim):\n",
        "    pl.figure()\n",
        "    for j in range(100): \n",
        "        pl.plot(sampler.chain[j,:,i], 'k', alpha=0.1)\n",
        "        \n",
        "samples = sampler.chain[:, 150:, :].reshape((-1, ndim))"
      ]
    },
    {
      "cell_type": "code",
      "execution_count": null,
      "metadata": {
        "colab": {
          "base_uri": "https://localhost:8080/",
          "height": 738
        },
        "id": "oY2d6jl8IIL1",
        "outputId": "6ccc3af5-59f3-495f-ec1f-e81e158e5d1e"
      },
      "outputs": [],
      "source": [
        "fig = corner.corner(samples, \n",
        "                        labels=[\"$m$\", \"$b$\", \"Y\", r\"$P_b$\", \"V\"],\n",
        "                        truths=init)\n",
        "m_mcmc, b_mcmc = map(lambda v: (v[1], v[2]-v[1], v[1]-v[0]),\n",
        "                             zip(*np.percentile(samples[:,:2], [16, 50, 84],\n",
        "                                                axis=0)))"
      ]
    },
    {
      "cell_type": "code",
      "execution_count": null,
      "metadata": {
        "colab": {
          "base_uri": "https://localhost:8080/",
          "height": 264
        },
        "id": "_U2zp2aIIIL1",
        "outputId": "3162d1ee-d614-4b35-cd57-c8e513d36a99"
      },
      "outputs": [],
      "source": [
        "xl = np.arange(data.x.min() * 0.9, data.x.max() * 1.1, 10)\n",
        "pl.errorbar(data.x, data.y, yerr=data.sy, fmt=\".k\")\n",
        "pl.plot(xx, line(xx, bm[1,0], bm[0,0]), '-', label=\"LS - restricted\")\n",
        "pl.plot(xl, line(xl, m_mcmc[0], b_mcmc[0]), color=\"r\", lw=2, alpha=0.9, label=\"likelihood - simple\")\n",
        "for m, b in samples[np.random.randint(len(samples), size=100)][:,:2]:\n",
        "    pl.plot(xl, m*xl+b, color=\"k\", alpha=0.02)\n",
        "pl.plot(xl, m*xl+b, color=\"k\", alpha=0.05, label=\"MCMC\")\n",
        "pl.legend();"
      ]
    },
    {
      "cell_type": "markdown",
      "metadata": {
        "id": "ZxNsFuLKIIL1"
      },
      "source": [
        "# trying all Ps"
      ]
    },
    {
      "cell_type": "code",
      "execution_count": null,
      "metadata": {
        "id": "TdLuX3exIIL1"
      },
      "outputs": [],
      "source": [
        "x = data.x\n",
        "y = data.y"
      ]
    },
    {
      "cell_type": "code",
      "execution_count": null,
      "metadata": {
        "colab": {
          "base_uri": "https://localhost:8080/"
        },
        "id": "MMw9vvb-IIL1",
        "outputId": "78416dc1-3179-4f38-d546-dbf2b27c9c27"
      },
      "outputs": [],
      "source": [
        "np.random.rand(len(x)) > 0.5"
      ]
    },
    {
      "cell_type": "code",
      "execution_count": null,
      "metadata": {
        "colab": {
          "base_uri": "https://localhost:8080/"
        },
        "id": "6EoCyZlBIIL1",
        "outputId": "95a89f1c-c3c5-42c9-c2c0-7b9ee97b91ca"
      },
      "outputs": [],
      "source": [
        "def lnlikeP(theta, P, x, y, yerr):\n",
        "    m, b, Yb, V = theta[:4]\n",
        "    Pb = (P > 0.5).astype(int)\n",
        "    model = m * x + b\n",
        "    sig2 = yerr**2\n",
        "    den = 2 * np.pi * sig2\n",
        "    a = (1 - Pb) / np.sqrt(den) *\\\n",
        "        exp(-(y-model)**2 /  2.0 / sig2)  \n",
        "    b = 0\n",
        "    b = Pb / np.sqrt(den + 2*np.pi*V) *\\\n",
        "        exp (-(y - Yb)**2 / 2 / (V + sig2))\n",
        "    return  np.sum(np.log(a + b))\n",
        "lnlikeP((bm[1,0], bm[0,0], 400, 300), np.random.rand(len(x)), \n",
        "        x, y, data.sy)"
      ]
    },
    {
      "cell_type": "code",
      "execution_count": null,
      "metadata": {
        "id": "c9qNhfe4IIL2"
      },
      "outputs": [],
      "source": [
        "def lnpriorP(theta, P):\n",
        "    m, b, Yb, V = theta[:4]\n",
        "    if -200 < b < 500 and 0 < m < 10.0 :\n",
        "        #print(\"1\")\n",
        "        if (P > 1).any() or (P < 0).any():\n",
        "            return -np.inf\n",
        "        yb = random.randn() * 300\n",
        "        if  Yb > ymean + yb or Yb < ymean - yb:\n",
        "            return -np.inf\n",
        "        #vb = random.randn() * 200\n",
        "        #if  V > vb + yb or \n",
        "        if V < 0:\n",
        "            return -np.inf\n",
        "        #print(\"3\")\n",
        "        return 0.0\n",
        "    \n",
        "    return -np.inf\n",
        "\n",
        "def lnprobP(theta, x, y, yerr):\n",
        "    P = theta[4:]\n",
        "    lp = lnpriorP(theta[:4], P)\n",
        "    #print(lp)\n",
        "    if not np.isfinite(lp) :\n",
        "        return -np.inf\n",
        "    lnl = lnlikeP(theta[:4], P, x, y, yerr)\n",
        "    if  np.isnan(lnl):\n",
        "        return -np.inf\n",
        "    return lp + lnl #- np.exp((P>0.5).sum())"
      ]
    },
    {
      "cell_type": "code",
      "execution_count": null,
      "metadata": {
        "colab": {
          "base_uri": "https://localhost:8080/"
        },
        "id": "fh-GLik6IIL2",
        "outputId": "d8361413-5607-47da-d59a-7087697432ff"
      },
      "outputs": [],
      "source": [
        "probsinit = (np.abs(np.array(a2 * bmfull).flatten() - data.y.values)) / ymean\n",
        "probsinit"
      ]
    },
    {
      "cell_type": "code",
      "execution_count": null,
      "metadata": {
        "colab": {
          "base_uri": "https://localhost:8080/",
          "height": 1000
        },
        "id": "KiJyyvfpIIL2",
        "outputId": "2c247176-9a79-40c6-a0e3-7a4bb139e3c8",
        "scrolled": false
      },
      "outputs": [],
      "source": [
        "from multiprocessing import Pool\n",
        "\n",
        "ndim, nwalkers = 4 + len(x), 300\n",
        "init = np.hstack([bm[1,0], bm[0,0], ymean, 300,\n",
        "                  probsinit])\n",
        "pos = [init + \n",
        "       init * 1e-4 * np.random.randn(len(init)) \n",
        "       for i in range(nwalkers)]\n",
        "\n",
        "with Pool() as pool:\n",
        "    sampler = emcee.EnsembleSampler(nwalkers, ndim, \n",
        "                                lnprobP, \n",
        "                                args=(data.x, data.y,\n",
        "                                     data.sy), pool=pool)\n",
        "    sampler.run_mcmc(pos, 2000, progress=True);\n",
        "\n",
        "for i in range(ndim):\n",
        "    pl.figure()\n",
        "    for j in range(100): \n",
        "        pl.plot(sampler.chain[j,:,i], 'k', alpha=0.1)\n",
        "        \n",
        "samples = sampler.chain[:, 150:, :].reshape((-1, ndim))"
      ]
    },
    {
      "cell_type": "code",
      "execution_count": null,
      "metadata": {
        "id": "jgDQpEEhIIL2"
      },
      "outputs": [],
      "source": [
        "\n",
        "m_mcmc, b_mcmc = map(lambda v: (v[1], v[2]-v[1], v[1]-v[0]),\n",
        "                             zip(*np.percentile(samples[:,:2], \n",
        "                                                [16, 50, 84],\n",
        "                                                axis=0)))"
      ]
    },
    {
      "cell_type": "code",
      "execution_count": null,
      "metadata": {
        "colab": {
          "base_uri": "https://localhost:8080/"
        },
        "id": "4OqM06IYIIL2",
        "outputId": "7233240e-e98a-4da6-9977-0f1c43034ed3"
      },
      "outputs": [],
      "source": [
        "probs = samples[:,4:].mean(axis=0) > 0.5\n",
        "probs_marg = samples[:,4:].mean(axis=0)\n",
        "probs.sum()"
      ]
    },
    {
      "cell_type": "code",
      "execution_count": null,
      "metadata": {
        "colab": {
          "base_uri": "https://localhost:8080/"
        },
        "id": "ttmudPQXIIL2",
        "outputId": "225cbe0f-e496-442b-c8ad-21318a142cfd"
      },
      "outputs": [],
      "source": [
        "samples[:,4:].shape"
      ]
    },
    {
      "cell_type": "code",
      "execution_count": null,
      "metadata": {
        "colab": {
          "base_uri": "https://localhost:8080/",
          "height": 282
        },
        "id": "YaPwXplBIIL3",
        "outputId": "a28c6891-61d4-4811-822d-be414e38b957"
      },
      "outputs": [],
      "source": [
        "pl.errorbar(data.x, data.y, data.sy, fmt='.',  color='k')\n",
        "#for i in range(len(probs)):\n",
        "#    pl.text(x[i]+10, y[i], probs[i])#\"%d\"%(samples[:,4+i].mean()))\n",
        "for i in range(len(probs)):\n",
        "    if probs_marg[i] < 0.5:\n",
        "        pl.text(x[i]+20, y[i], \"%.1f\"%probs_marg[i])#\"%d\"%(samples[:,4+i].mean()))\n",
        "        \n",
        "    else :\n",
        "         pl.text(x[i]+20, y[i], \"%.1f\"%probs_marg[i], color='r')#\"%d\"%(samples[:,4+i].mean()))\n",
        "       \n",
        "            #probs[i])\n",
        "for i in range(len(probs)):\n",
        "    pl.text(x[i]+10, y[i], \"%d,\"%i)\n",
        "pl.plot(xx, line(xx, bm[1,0], bm[0,0]), '-', label=\"LS - restricted\")\n",
        "pl.plot(xl, line(xl, m_mcmc[0], b_mcmc[0]), color=\"r\", lw=2, alpha=0.9, label=\"likelihood - Ps\\n\" + \n",
        "        \"%.2f x +  %.2f\"%(m_mcmc[0], b_mcmc[0]))\n",
        "pl.xlabel(\"x\")\n",
        "pl.ylabel(\"y\")\n",
        "pl.legend();\n"
      ]
    },
    {
      "cell_type": "markdown",
      "metadata": {
        "id": "8UUFovp4IIL3"
      },
      "source": [
        "# New Model with xerr"
      ]
    },
    {
      "cell_type": "code",
      "execution_count": null,
      "metadata": {
        "id": "dzeGxnyPIIL3"
      },
      "outputs": [],
      "source": [
        "cov = np.zeros((len(data), 2, 2))\n",
        "for i in range(len(data)):\n",
        "    cov[i] = np.vstack([np.hstack([data.loc[i].sx**2, data.loc[i].rxy]),\n",
        "                        np.hstack([data.loc[i].rxy, data.loc[i].sy**2])])\n",
        "#cov = np.vstack(cov)"
      ]
    },
    {
      "cell_type": "code",
      "execution_count": null,
      "metadata": {
        "colab": {
          "base_uri": "https://localhost:8080/"
        },
        "id": "BX_V6-msIIL3",
        "outputId": "7f4f1c51-ac40-4869-f031-e668c43ce70c"
      },
      "outputs": [],
      "source": [
        "def VV(mm) :\n",
        "    return 1.0 / np.sqrt( 1 + mm**2) * np.vstack([-mm, 1])\n",
        "    \n",
        "def DD(bb, mm, x, y, i):\n",
        "    Di = VV(mm).T.dot(np.vstack([x[i], y[i]]))\n",
        "    return Di - bb / np.sqrt(1 + mm**2)\n",
        "\n",
        "def SS(mm, i, cov):\n",
        "    print(i)\n",
        "    return VV(mm).T.dot(cov[i]).dot(VV(mm))\n",
        "\n",
        "def lnlik13(theta, x, y, cov):\n",
        "    mm, bb = theta\n",
        "    dd = np.array([VV(mm).T.dot(np.vstack([x[i], y[i]])) -\\\n",
        "        bb / np.sqrt(1 + mm**2) for i in range(len(x))])\n",
        "    ss = np.array([VV(mm).T.dot(cov[i]).dot(VV(mm)) \n",
        "                   for i in range(len(x))])\n",
        "    return - np.sum(dd**2 / 2 / ss)\n",
        "    \n",
        "lnlik13((1,2), data.x.values, data.y.values, cov)\n"
      ]
    },
    {
      "cell_type": "code",
      "execution_count": null,
      "metadata": {
        "colab": {
          "base_uri": "https://localhost:8080/"
        },
        "id": "UF_xDJC-IIL3",
        "outputId": "15521fc0-0cf4-4ede-87c0-131de1e480cd"
      },
      "outputs": [],
      "source": [
        "nll13 = lambda *args: -lnlik13(*args)\n",
        "result13 = op.minimize(nll13, [bmfull[1,0], bmfull[0,0]], \n",
        "                     args=(rdata.x.values, rdata.y.values, cov[4:]))\n",
        "m13, b13 = result13[\"x\"]\n",
        "print(\"slope    : MCMC {:.2f}, LA restricted {:.2f} full {:.2f}\".format(\n",
        "    m13, bm[1,0], bmfull[1,0]))\n",
        "print(\"intercept: MCMC {:.2f}, LA restricted {:.2f} full {:.2f}\".format(\n",
        "    b13, bm[0,0], bmfull[0,0]))"
      ]
    },
    {
      "cell_type": "code",
      "execution_count": null,
      "metadata": {
        "colab": {
          "base_uri": "https://localhost:8080/"
        },
        "id": "pp-r0AiLIIL3",
        "outputId": "2402f02e-ea7c-4202-c0b0-2f00a2e866d8"
      },
      "outputs": [],
      "source": [
        "def lnprior13(theta):\n",
        "    m, b = theta\n",
        "    if -200 < b < 500 and 0 < m < 10.0 :\n",
        "        return 0.0    \n",
        "    return -np.inf\n",
        "\n",
        "def lnprob13(theta, x, y, c):\n",
        "    lp = lnprior13(theta)\n",
        "    #print(lp)\n",
        "    if not np.isfinite(lp) :\n",
        "        return -np.inf\n",
        "    lnl = lnlik13(theta, x, y,  c)\n",
        "    if  np.isnan(lnl):\n",
        "        return -np.inf\n",
        "    return lp + lnl\n",
        "\n",
        "lnprob13((2, 1), rdata.x.values, rdata.y.values, cov[4:])"
      ]
    },
    {
      "cell_type": "code",
      "execution_count": null,
      "metadata": {
        "colab": {
          "base_uri": "https://localhost:8080/",
          "height": 280
        },
        "id": "gcr2phkRIIL4",
        "outputId": "57cd5029-a25d-4dac-8079-466502f53467"
      },
      "outputs": [],
      "source": [
        "pl.errorbar(rdata.x, rdata.y, rdata.sy, fmt='.',  color='k')\n",
        "pl.plot(xx, line(xx, bmfull[1,0], bmfull[0,0]), 'k-', label=\"full\")\n",
        "pl.plot(xx, line(xx, bm[1,0], bm[0,0]), '-', label=\"restricted\")\n",
        "pl.plot(xx, line(xx, m13, b13), 'r--', label=\"likelihood xerr yerr\")\n",
        "pl.xlabel(\"x\")\n",
        "pl.ylabel(\"y\")\n",
        "pl.legend();\n"
      ]
    },
    {
      "cell_type": "code",
      "execution_count": null,
      "metadata": {
        "colab": {
          "base_uri": "https://localhost:8080/",
          "height": 531
        },
        "id": "vqHDhj0bIIL4",
        "outputId": "b7e43e23-e88c-4433-f6db-20f5df48c835"
      },
      "outputs": [],
      "source": [
        "init = np.hstack([bm[1,0], bm[0,0]])\n",
        "ndim, nwalkers = len(init), 100\n",
        "pos = [init + \n",
        "       init * 1e-4 * np.random.randn(ndim) \n",
        "       for i in range(nwalkers)]\n",
        "with Pool() as pool:\n",
        "    sampler = emcee.EnsembleSampler(nwalkers, ndim, \n",
        "                                lnprob13, \n",
        "                                args=(rdata.x.values, rdata.y.values,\n",
        "                                      cov[4:]), pool=pool)\n",
        "\n",
        "    sampler.run_mcmc(pos, 500, progress=True);\n",
        "for i in range(ndim):\n",
        "    pl.figure()\n",
        "    for j in range(100): \n",
        "        pl.plot(sampler.chain[j,:,i], 'k', alpha=0.1)\n",
        "        \n",
        "samples = sampler.chain[:, 150:, :].reshape((-1, ndim))\n",
        "\n"
      ]
    },
    {
      "cell_type": "code",
      "execution_count": null,
      "metadata": {
        "colab": {
          "base_uri": "https://localhost:8080/",
          "height": 452
        },
        "id": "PARtPqsHIIL4",
        "outputId": "b7ab1ff6-9e0a-4cd8-8e31-034892620a14"
      },
      "outputs": [],
      "source": [
        "fig = corner.corner(samples, \n",
        "                        labels=[\"$m$\", \"$b$\"],\n",
        "                        truths=init)\n",
        "m_mcmc, b_mcmc = map(lambda v: (v[1], v[2]-v[1], v[1]-v[0]),\n",
        "                             zip(*np.percentile(samples[:,:2], [16, 50, 84],\n",
        "                                                axis=0)))\n",
        "m_mcmc, b_mcmc, bmfull[1,0], bmfull[0,0]"
      ]
    },
    {
      "cell_type": "code",
      "execution_count": null,
      "metadata": {
        "colab": {
          "base_uri": "https://localhost:8080/",
          "height": 531
        },
        "id": "5LHR701DIIL4",
        "outputId": "02554c71-ba1d-499f-f6c2-993381961255"
      },
      "outputs": [],
      "source": [
        "init = np.hstack([bmfull[1,0], bmfull[0,0]])\n",
        "ndim, nwalkers = len(init), 100\n",
        "pos = [init + \n",
        "       init * 1e-4 * np.random.randn(ndim) \n",
        "       for i in range(nwalkers)]\n",
        "with Pool() as pool:\n",
        "    sampler = emcee.EnsembleSampler(nwalkers, ndim, \n",
        "                                lnprob13, \n",
        "                                args=(data.x.values, data.y.values,\n",
        "                                      cov), pool=pool)\n",
        "\n",
        "    sampler.run_mcmc(pos, 500, progress=True);\n",
        "for i in range(ndim):\n",
        "    pl.figure()\n",
        "    for j in range(100): \n",
        "        pl.plot(sampler.chain[j,:,i], 'k', alpha=0.1)\n",
        "        \n",
        "samples = sampler.chain[:, 150:, :].reshape((-1, ndim))\n",
        "\n"
      ]
    },
    {
      "cell_type": "code",
      "execution_count": null,
      "metadata": {
        "colab": {
          "base_uri": "https://localhost:8080/",
          "height": 452
        },
        "id": "fxWNcb41IIL4",
        "outputId": "6b70f7b6-e266-4a8e-ed29-63058528298d"
      },
      "outputs": [],
      "source": [
        "fig = corner.corner(samples, \n",
        "                        labels=[\"$m$\", \"$b$\"],\n",
        "                        truths=init)\n",
        "m_mcmc, b_mcmc = map(lambda v: (v[1], v[2]-v[1], v[1]-v[0]),\n",
        "                             zip(*np.percentile(samples[:,:2], [16, 50, 84],\n",
        "                                                axis=0)))\n",
        "m_mcmc, b_mcmc, bmfull[1,0], bmfull[0,0]\n"
      ]
    },
    {
      "cell_type": "code",
      "execution_count": null,
      "metadata": {
        "colab": {
          "base_uri": "https://localhost:8080/",
          "height": 267
        },
        "id": "yXgNgaGfIIL5",
        "outputId": "c27f2ff9-f20f-47a4-9bcf-77d57b15c833"
      },
      "outputs": [],
      "source": [
        "xl = np.arange(data.x.min() * 0.9, data.x.max() * 1.1, 10)\n",
        "pl.errorbar(data.x, data.y, \n",
        "            xerr=data.sx, yerr=data.sy, fmt=\".k\")\n",
        "pl.plot(xx, line(xx, bm[1,0], bm[0,0]), '-', \n",
        "        label=\"LS - restricted\")\n",
        "pl.plot(xl, line(xl, m_mcmc[0], b_mcmc[0]), \n",
        "        color=\"r\", lw=2, alpha=0.9, label=\"likelihood - simple\")\n",
        "for m, b in samples[np.random.randint(len(samples), \n",
        "                                      size=100)][:,:2]:\n",
        "    pl.plot(xl, m*xl+b, color=\"k\", alpha=0.02)\n",
        "pl.plot(xl, m*xl+b, color=\"k\", alpha=0.05, label=\"MCMC\")\n",
        "pl.legend();\n"
      ]
    },
    {
      "cell_type": "markdown",
      "metadata": {
        "id": "BGTqIT_fIIL5"
      },
      "source": [
        "# full model w xerr"
      ]
    },
    {
      "cell_type": "code",
      "execution_count": null,
      "metadata": {
        "colab": {
          "base_uri": "https://localhost:8080/"
        },
        "id": "vuDZHqmeIIL5",
        "outputId": "dfbd98a4-e9e4-4ed3-f7ac-77b412b8faf1"
      },
      "outputs": [],
      "source": [
        "def lnlik14(theta, x, y, yerr, cov):\n",
        "    mm, bb, Yb, Pb, V = theta\n",
        "    dd = np.array([VV(mm).T.dot(np.vstack([x[i], y[i]])) -  \n",
        "                   bb * VV(mm)[1] for i in range(len(x))])\n",
        "    sig2 = yerr**2\n",
        "    b = exp (-(y - Yb)**2 / 2 / (V + sig2))\n",
        "    ss = np.array([VV(mm).T.dot(cov[i]).dot(VV(mm)) \n",
        "                   for i in range(len(x))])\n",
        "    \n",
        "    lnl1 =  (-dd**2 / 2 / ss).flatten()\n",
        "    ret =  ((1 - Pb) * np.exp(lnl1) +\\\n",
        "      (Pb / np.sqrt(2*np.pi*(V+sig2))) * b)\n",
        "   \n",
        "    return np.sum(np.log(ret))\n",
        "\n",
        "lnlik14((2, 1, 400, 0, 1), data.x.values, data.y.values, \n",
        "        data.sy.values, cov)\n"
      ]
    },
    {
      "cell_type": "code",
      "execution_count": null,
      "metadata": {
        "id": "GSFs4-7nIIL6"
      },
      "outputs": [],
      "source": [
        "def lnprior14(theta):\n",
        "    m, b, Yb, Pb, V = theta\n",
        "    if -200 < b < 500 and 0 < m < 15.0 :\n",
        "        #print(\"b,m limit\")\n",
        "        if Pb < 0 or Pb > 1:\n",
        "            #print(\"P limit\")\n",
        "            return -np.inf\n",
        "            #print(\"2\")\n",
        "        yb = random.randn() * 100\n",
        "        if  Yb > ymean + yb or Yb < ymean - yb:\n",
        "            #print(\"Y limit\")\n",
        "            return -np.inf\n",
        "        #vb = random.randn() * 200\n",
        "        #if  V > vb + yb or \n",
        "        if V < 10:\n",
        "            #print(\"V limit\")\n",
        "            return -np.inf\n",
        "        return 0.0    \n",
        "    return -np.inf\n",
        "\n",
        "\n",
        "def lnprob14(theta, x, y, yerr, c):\n",
        "    lp = lnprior14(theta)\n",
        "    #print(lp)\n",
        "    if not np.isfinite(lp) :\n",
        "        return -np.inf\n",
        "    lnl = lnlik14(theta, x, y, yerr, c)\n",
        "    if  np.isnan(lnl):\n",
        "        #print(\"nan lnl\")\n",
        "        return -np.inf\n",
        "    return lp + lnl"
      ]
    },
    {
      "cell_type": "code",
      "execution_count": null,
      "metadata": {
        "colab": {
          "base_uri": "https://localhost:8080/"
        },
        "id": "v9Dxsz4aIIL6",
        "outputId": "81c1fc3d-aa7b-4af0-b56b-8c4f7df9584e"
      },
      "outputs": [],
      "source": [
        "init = np.hstack([bmfull[1,0], bmfull[0,0], ymean, 0.2, 100])\n",
        "ndim, nwalkers = len(init), 100\n",
        "pos = [init + \n",
        "       init * 1e-4 * np.random.randn(ndim) for i in range(nwalkers)]\n",
        "with Pool() as pool:\n",
        "    sampler = emcee.EnsembleSampler(nwalkers, ndim, \n",
        "                                lnprob14, \n",
        "                                args=(data.x, data.y, \n",
        "                                      data.sy, cov))\n",
        "\n",
        "    sampler.run_mcmc(pos, 500, progress=True);"
      ]
    },
    {
      "cell_type": "code",
      "execution_count": null,
      "metadata": {
        "colab": {
          "base_uri": "https://localhost:8080/",
          "height": 1000
        },
        "id": "OdAguK2_IIL6",
        "outputId": "ce79f481-e68f-4630-9886-20da53114adb"
      },
      "outputs": [],
      "source": [
        "for i in range(ndim):\n",
        "    pl.figure()\n",
        "    for j in range(100): \n",
        "        pl.plot(sampler.chain[j,:,i], 'k', alpha=0.1)\n",
        "        \n",
        "samples = sampler.chain[:, 150:, :].reshape((-1, ndim))"
      ]
    },
    {
      "cell_type": "code",
      "execution_count": null,
      "metadata": {
        "colab": {
          "base_uri": "https://localhost:8080/",
          "height": 735
        },
        "id": "2-6qifU5IIL6",
        "outputId": "9e174895-a053-4c9a-e855-7733eb43f828"
      },
      "outputs": [],
      "source": [
        "fig = corner.corner(samples, \n",
        "                        labels=[\"$m$\", \"$b$\", \"Y\", r\"$P_b$\", \"V\"],\n",
        "                        truths=init)\n",
        "m_mcmc, b_mcmc = map(lambda v: (v[1], v[2]-v[1], v[1]-v[0]),\n",
        "                             zip(*np.percentile(samples[:,:2], [16, 50, 84],\n",
        "                                                axis=0)))"
      ]
    },
    {
      "cell_type": "code",
      "execution_count": null,
      "metadata": {
        "colab": {
          "base_uri": "https://localhost:8080/",
          "height": 264
        },
        "id": "-OHD-RJzIIL6",
        "outputId": "845cc6c3-88c7-440e-bb5c-d08e63033399"
      },
      "outputs": [],
      "source": [
        "xl = np.arange(data.x.min() * 0.9, data.x.max() * 1.1, 10)\n",
        "pl.errorbar(data.x, data.y, \n",
        "            xerr=data.sx, yerr=data.sy, fmt=\".k\")\n",
        "pl.plot(xx, line(xx, bm[1,0], bm[0,0]), '-', \n",
        "        label=\"LS - restricted\")\n",
        "pl.plot(xl, line(xl, m_mcmc[0], b_mcmc[0]), \n",
        "        color=\"r\", lw=2, alpha=0.9, label=\"likelihood - simple\")\n",
        "for m, b in samples[np.random.randint(len(samples), \n",
        "                                      size=100)][:,:2]:\n",
        "    pl.plot(xl, m*xl+b, color=\"k\", alpha=0.02)\n",
        "pl.plot(xl, m*xl+b, color=\"k\", alpha=0.05, label=\"MCMC\")\n",
        "pl.legend();\n"
      ]
    },
    {
      "cell_type": "code",
      "execution_count": null,
      "metadata": {
        "id": "fVfKrkt8IIL9"
      },
      "outputs": [],
      "source": [
        "def lnlik15(theta, P, x, y, yerr, cov):\n",
        "    mm, bb, Yb, V = theta[:4]\n",
        "    Pb = (P > 0.5).astype(int)\n",
        "    \n",
        "    dd = np.array([VV(mm).T.dot(np.vstack([x[i], y[i]])) -  bb*VV(mm)[1]\n",
        "                  for i in range(len(x))])\n",
        "    ss = np.array([VV(mm).T.dot(cov[i]).dot(VV(mm)) \n",
        "                   for i in range(len(x))])\n",
        "    sig2 = yerr**2\n",
        "    \n",
        "    lnl1 =  - dd**2 / 2 / ss\n",
        "    \n",
        "    #print(Pb)\n",
        "    b = exp (-(y - Yb)**2 / 2 / (V + sig2))\n",
        "    #lnl1 = 0\n",
        "    #Pb=0.5\n",
        "    #Pb=0\n",
        "    #b=0\n",
        "    ret =  ((1 - Pb) * np.exp(lnl1) +\\\n",
        "      (Pb / np.sqrt(2*np.pi*(V+sig2))) * b)\n",
        "    return np.sum(np.log(ret))\n",
        "\n",
        "def lnprior15(theta, P):\n",
        "    #print(P>1)\n",
        "    m, b, Yb, V = theta[:4]\n",
        "    if 20 < b < 500 and 0 < m < 10.0 :\n",
        "        #print(\"1\")\n",
        "        if (P > 1).any() or (P < 0).any():\n",
        "            return -np.inf\n",
        "        yb = random.randn() * 300\n",
        "        if  Yb > ymean + yb or Yb < ymean - yb:\n",
        "            return -np.inf\n",
        "        #vb = random.randn() * 200\n",
        "        #if  V > vb + yb or \n",
        "        if V < 0:\n",
        "            return -np.inf\n",
        "        #print(\"3\")\n",
        "        return 0.0\n",
        "    \n",
        "    return -np.inf\n",
        "\n",
        "\n",
        "\n",
        "def lnprob15(theta, x, y, yerr, c):\n",
        "    P = theta[4:]\n",
        "    theta = theta[:4]\n",
        "    lp = lnprior15(theta, P)\n",
        "    #print(lp)\n",
        "    if not np.isfinite(lp) :\n",
        "        return -np.inf\n",
        "    lnl = lnlik15(theta, P, x, y, yerr, c)\n",
        "    if  np.isnan(lnl):\n",
        "        #print(\"nan lnl\")\n",
        "        return -np.inf\n",
        "    return lp + lnl #- np.exp((P>0.5).sum())\n"
      ]
    },
    {
      "cell_type": "code",
      "execution_count": null,
      "metadata": {
        "colab": {
          "base_uri": "https://localhost:8080/"
        },
        "id": "vLvrVHVtIIL9",
        "outputId": "ec4f272a-9bfd-4032-b07f-09a0550946bc"
      },
      "outputs": [],
      "source": [
        "lnlik15(np.hstack([2, 200, ymean, 200]), probsinit, \n",
        "        data.x.values, \n",
        "        data.y.values, data.sy.values, cov)\n"
      ]
    },
    {
      "cell_type": "code",
      "execution_count": null,
      "metadata": {
        "colab": {
          "base_uri": "https://localhost:8080/",
          "height": 280
        },
        "id": "HGtPr87JIIL9",
        "outputId": "05abc0df-6ce6-4151-f0d0-331ff3af34f7"
      },
      "outputs": [],
      "source": [
        "pl.errorbar(data.x, data.y, data.sy, fmt='.',  color='k')\n",
        "pl.plot(xx, line(xx, bmfull[1,0], bmfull[0,0]), 'k-', label=\"full\")\n",
        "pl.plot(xx, line(xx, bm[1,0], bm[0,0]), '-', label=\"restricted\")\n",
        "pl.plot(xx, line(xx, m13, b13), 'r--', label=\"likelihood xerr yerr\")\n",
        "pl.xlabel(\"x\")\n",
        "pl.ylabel(\"y\")\n",
        "pl.legend();"
      ]
    },
    {
      "cell_type": "code",
      "execution_count": null,
      "metadata": {
        "colab": {
          "base_uri": "https://localhost:8080/"
        },
        "id": "D4nLHIBkIIL9",
        "outputId": "6e217a03-07c1-4c9d-be2f-24fa97ac2795"
      },
      "outputs": [],
      "source": [
        "probsinit "
      ]
    },
    {
      "cell_type": "code",
      "execution_count": null,
      "metadata": {
        "colab": {
          "base_uri": "https://localhost:8080/"
        },
        "id": "kt_-OdBrIIL-",
        "outputId": "3d037f28-4303-4cd9-c773-0587eb37f69f",
        "scrolled": false
      },
      "outputs": [],
      "source": [
        "init = np.hstack([bm[1,0], bm[0,0], ymean, 200,\n",
        "                  probsinit])\n",
        "ndim, nwalkers = len(init), 300\n",
        "pos = [init + init * \n",
        "       1e-4 * np.random.randn(ndim) for i in range(nwalkers)]\n",
        "with Pool() as pool:\n",
        "    sampler = emcee.EnsembleSampler(nwalkers, ndim, \n",
        "                                lnprob15, \n",
        "                                args=(data.x.values, \n",
        "                                      data.y.values, \n",
        "                                      data.sy.values, \n",
        "                                      cov), pool=pool)\n",
        "    sampler.run_mcmc(pos, 2500, progress=True);\n",
        "for i in range(ndim):\n",
        "    pl.figure()\n",
        "    for j in range(100): \n",
        "        pl.plot(sampler.chain[j,:,i], 'k', alpha=0.1)\n",
        "        \n",
        "samples = sampler.chain[:, 100:, :].reshape((-1, ndim))"
      ]
    },
    {
      "cell_type": "code",
      "execution_count": null,
      "metadata": {
        "id": "V2bcn8lfIIL-",
        "outputId": "d18a58ef-e2fe-4c2d-ee05-49ce1c4fb689"
      },
      "outputs": [],
      "source": [
        "hist2d(samples[:,0], samples[:,1])"
      ]
    },
    {
      "cell_type": "code",
      "execution_count": null,
      "metadata": {
        "id": "PISWf22BIIL-",
        "outputId": "3f4f3e5b-78a8-470a-f30a-f435fef8bf4e"
      },
      "outputs": [],
      "source": [
        "probs = samples[:,4:].mean(axis=0) > 0.5\n",
        "probs_marg = samples[:,4:].mean(axis=0) \n",
        "probs.sum()"
      ]
    },
    {
      "cell_type": "code",
      "execution_count": null,
      "metadata": {
        "id": "9urcC2X9IIL-",
        "outputId": "9ae9f305-b26b-4108-f047-e427ef7ab61c"
      },
      "outputs": [],
      "source": [
        "pl.errorbar(data.x, data.y, \n",
        "            xerr=data.sx, yerr=data.sy, \n",
        "            fmt='.',  color='k')\n",
        "#for i in range(len(probs)):\n",
        "#    pl.text(x[i]+10, y[i], probs[i])#\"%d\"%(samples[:,4+i].mean()))\n",
        "for i in range(len(probs)):\n",
        "    if probs_marg[i] < 0.5:\n",
        "        pl.text(x[i]+20, y[i], \"%.1f\"%probs_marg[i])#\"%d\"%(samples[:,4+i].mean()))\n",
        "        \n",
        "    else :\n",
        "         pl.text(x[i]+20, y[i], \"%.1f\"%probs_marg[i], color='r')#\"%d\"%(samples[:,4+i].mean()))\n",
        "       \n",
        "            #probs[i])\n",
        "for i in range(len(probs)):\n",
        "    pl.text(x[i]+10, y[i], \"%d,\"%i)\n",
        "pl.plot(xx, line(xx, bm[1,0], bm[0,0]), '-', label=\"LS - restricted\")\n",
        "pl.plot(xl, line(xl, m_mcmc[0], b_mcmc[0]), color=\"r\", lw=2, alpha=0.9, label=\"likelihood - Ps\\n\" + \n",
        "        \"%.2f x +  %.2f\"%(m_mcmc[0], b_mcmc[0]))\n",
        "pl.xlabel(\"x\")\n",
        "pl.ylabel(\"y\")\n",
        "pl.legend();"
      ]
    },
    {
      "cell_type": "code",
      "execution_count": null,
      "metadata": {
        "id": "-XKtWiFKIIL-",
        "outputId": "83072c0e-b4ed-4171-a36f-db94b94643ed"
      },
      "outputs": [],
      "source": [
        "(np.hstack([np.zeros(10), [1]]) > 0).any()"
      ]
    },
    {
      "cell_type": "code",
      "execution_count": null,
      "metadata": {
        "id": "4xvDKI8VIIL-",
        "outputId": "060efa0b-d541-44bd-c430-1f708e31d69b"
      },
      "outputs": [],
      "source": [
        "m_mcmc13, b_mcmc13 = map(lambda v: (v[1], v[2]-v[1], v[1]-v[0]),\n",
        "                             zip(*np.percentile(samples[:,:2], [16, 50, 84],\n",
        "                                                axis=0)))\n",
        "m_mcmc13, b_mcmc13"
      ]
    },
    {
      "cell_type": "code",
      "execution_count": null,
      "metadata": {
        "id": "fNAVi2j0IIL_",
        "outputId": "9b054881-3309-4695-b5a6-481d169bc7d4"
      },
      "outputs": [],
      "source": [
        "ax = pl.figure().add_subplot(111)\n",
        "ax.errorbar(rdata.x, rdata.y, \n",
        "            #xerr=rdata.sx, yerr=rdata.sy, \n",
        "            fmt='.',  color='k')\n",
        "ax.plot(xx, line(xx, m_mcmc13[0], b_mcmc13[0]), 'k-', \n",
        "        label=\"y={:.2f}x+{:.2f}\".format(\n",
        "                        m_mcmc13[0], b_mcmc13[0]))\n",
        "\n",
        "confidence_ellipse(rdata.x.values, rdata.y.values, \n",
        "                   rdata.sx.values, rdata.sy.values, \n",
        "                   cov[4:], ax)\n",
        "ax.set_xlabel(\"x\")\n",
        "ax.set_ylabel(\"y\")\n",
        "pl.legend();"
      ]
    },
    {
      "cell_type": "code",
      "execution_count": null,
      "metadata": {
        "id": "EEZ1niHYIIL_",
        "outputId": "97ee5850-28b3-45e3-c284-a11b0eb95c78"
      },
      "outputs": [],
      "source": [
        "pos = [np.array([m13, b13]) + \n",
        "       np.array([m13, b13]) * \n",
        "       1e-4 * np.random.randn(ndim) for i in range(nwalkers)]\n",
        "sampler13full = emcee.EnsembleSampler(nwalkers, ndim, \n",
        "                                lnprob13, \n",
        "                                args=(data.x.values, data.y.values, \n",
        "                                      cov))\n",
        "sampler13full.run_mcmc(pos, 500, progress=True);\n",
        "for i in range(ndim):\n",
        "    pl.figure()\n",
        "    for j in range(100): \n",
        "        pl.plot(sampler13full.chain[j,:,i], 'k', alpha=0.1)\n",
        "        \n",
        "samples13full = sampler13full.chain[:, 100:, :].reshape((-1, ndim))"
      ]
    },
    {
      "cell_type": "code",
      "execution_count": null,
      "metadata": {
        "id": "7pwzL8boIIL_",
        "outputId": "2e9fe156-81c2-468a-de29-0251f2d4a372"
      },
      "outputs": [],
      "source": [
        "m_mcmc13full, b_mcmc13full = map(lambda v: (v[1], v[2]-v[1], v[1]-v[0]),\n",
        "                             zip(*np.percentile(samples13full[:,:2], [16, 50, 84],\n",
        "                                                axis=0)))\n",
        "ax = pl.figure().add_subplot(111)\n",
        "ax.errorbar(data.x, data.y, \n",
        "            #xerr=rdata.sx, yerr=rdata.sy, \n",
        "            fmt='.',  color='k')\n",
        "ax.plot(xx, line(xx, m_mcmc13full[0], b_mcmc13full[0]), 'k-', \n",
        "        label=\"y={:.2f}x+{:.2f}\".format(\n",
        "                        m_mcmc13full[0], b_mcmc13full[0]))\n",
        "confidence_ellipse(data.x.values, data.y.values, \n",
        "                   data.sx.values, data.sy.values, \n",
        "                   cov, ax)\n",
        "ax.set_xlabel(\"x\")\n",
        "ax.set_ylabel(\"y\")\n",
        "pl.legend();"
      ]
    },
    {
      "cell_type": "code",
      "execution_count": null,
      "metadata": {
        "id": "1sFMR3aYIIL_",
        "outputId": "694cc66d-f60d-4493-8652-20118559b25e"
      },
      "outputs": [],
      "source": [
        "nll14 = lambda *args: -lnlik14(*args)\n",
        "result14 = op.minimize(nll14, [bmfull[1,0], bmfull[0,0], ymean, 0, 0.1],\n",
        "                     args=(rdata.x.values, rdata.y.values,\n",
        "                           rdata.sy.values, cov[4:]))\n",
        "m14, b14, tmp, tmp, tmp = result14[\"x\"]\n",
        "m14, b14"
      ]
    },
    {
      "cell_type": "code",
      "execution_count": null,
      "metadata": {
        "id": "GHgTFJsFIIL_",
        "outputId": "4310aa7a-562b-4428-905e-780bbc900f35",
        "scrolled": false
      },
      "outputs": [],
      "source": [
        "ndim, nwalkers = len(result14[\"x\"]), 100\n",
        "#initialize from the restricted problem LA solution \n",
        "init = np.hstack([bm[1,0], bm[0,0], ymean, \n",
        "                  0.2, 0.1])\n",
        "pos = [init + \n",
        "       init * 1e-4 * np.random.randn(ndim) for i in range(nwalkers)]\n",
        "\n",
        "sampler14full = emcee.EnsembleSampler(nwalkers, ndim, \n",
        "                                lnprob14, \n",
        "                                args=(data.x.values, data.y.values,\n",
        "                                      data.sy.values,\n",
        "                                      cov))\n",
        "sampler14full.run_mcmc(pos, 2000, progress=True);\n",
        "       \n"
      ]
    },
    {
      "cell_type": "code",
      "execution_count": null,
      "metadata": {
        "id": "_K_eHha4IIMA",
        "outputId": "ed2cf463-fbc9-47a2-a5f4-bee60bd97b6a",
        "scrolled": false
      },
      "outputs": [],
      "source": [
        "for i in range(ndim):\n",
        "    pl.figure()\n",
        "    for j in range(100): \n",
        "        pl.plot(sampler14full.chain[j,:,i], 'k', alpha=0.1)\n",
        "\n",
        "samples14full = sampler14full.chain[:, 100:, :].reshape((-1, ndim))\n",
        "fig = corner.corner(samples14full, labels=[\"$m$\", \"$b$\", \"Y\", r\"$P_b$\", \"V\"],\n",
        "                      truths=init)"
      ]
    },
    {
      "cell_type": "code",
      "execution_count": null,
      "metadata": {
        "id": "yYV6sPf5IIMA",
        "outputId": "219ddad8-b757-49ef-d526-9c7ea58390e6"
      },
      "outputs": [],
      "source": [
        "pl.hist(samples14full[:,3]), samples14full[:,3].shape"
      ]
    },
    {
      "cell_type": "code",
      "execution_count": null,
      "metadata": {
        "id": "NLEUnRUQIIMA"
      },
      "outputs": [],
      "source": [
        "sampler14full = emcee.EnsembleSampler(nwalkers, ndim, \n",
        "                                lnprob14, \n",
        "                                args=(data.x.values, data.y.values,\n",
        "                                      data.sy.values,\n",
        "                                      cov))\n",
        "sampler14full.run_mcmc(pos, 2000);\n",
        "       "
      ]
    },
    {
      "cell_type": "code",
      "execution_count": null,
      "metadata": {
        "id": "Uym2HnqZIIMA"
      },
      "outputs": [],
      "source": [
        "ndim, nwalkers = len(data.x.values) + 4, 100\n",
        "#initialize from the restricted problem LA solution \n",
        "init = np.hstack([bm[1,0], bm[0,0], ymean, \n",
        "                  np.zeros_like(data.x.values) + 0.5, 0.1])\n",
        "pos = [init + \n",
        "       init * 1e-4 * np.random.randn(len(init)) for i in range(nwalkers)]"
      ]
    },
    {
      "cell_type": "code",
      "execution_count": null,
      "metadata": {
        "id": "vKAKb2ZXIIMA",
        "outputId": "b847167b-9b7f-43a8-f9d9-e79948dd35ef",
        "scrolled": true
      },
      "outputs": [],
      "source": [
        "                       \n",
        "sampler15full = emcee.EnsembleSampler(nwalkers, ndim, \n",
        "                                lnprob15, \n",
        "                                args=(data.x.values, data.y.values,\n",
        "                                      data.sy.values,\n",
        "                                      cov))\n",
        "sampler15full.run_mcmc(pos, 1000);\n",
        "       "
      ]
    },
    {
      "cell_type": "code",
      "execution_count": null,
      "metadata": {
        "id": "ArQkBGEzIIMB",
        "outputId": "abe28330-3580-4cf5-8634-f646f2a92095",
        "scrolled": true
      },
      "outputs": [],
      "source": [
        "for i in range(ndim):\n",
        "    pl.figure()\n",
        "    for j in range(100): \n",
        "        pl.plot(sampler15full.chain[j,:,i], 'k', alpha=0.1)\n",
        "\n",
        "samples15full = sampler15full.chain[:, 100:, :].reshape((-1, ndim))\n",
        "fig = corner.corner(samples15full)"
      ]
    },
    {
      "cell_type": "code",
      "execution_count": null,
      "metadata": {
        "id": "kEnEbetbIIMB",
        "outputId": "1069b06c-3a0a-4c7d-bc78-8428a145fac3"
      },
      "outputs": [],
      "source": [
        "m_mcmc15full, b_mcmc15full = map(lambda v: (v[1], v[2]-v[1], v[1]-v[0]),\n",
        "                             zip(*np.percentile(samples15full[:,:2], [16, 50, 84],\n",
        "                                                axis=0)))\n",
        "ax = pl.figure().add_subplot(111)\n",
        "ax.errorbar(data.x, data.y, \n",
        "            #xerr=rdata.sx, yerr=rdata.sy, \n",
        "            fmt='.',  color='k')\n",
        "ax.plot(xx, line(xx, m_mcmc15full[0], b_mcmc15full[0]), 'k-', \n",
        "        label=\"y={:.2f}x+{:.2f}\".format(\n",
        "                        m_mcmc15full[0], b_mcmc15full[0]))\n",
        "confidence_ellipse(data.x.values, data.y.values, \n",
        "                   data.sx.values, data.sy.values, \n",
        "                   cov, ax)\n",
        "ax.set_xlabel(\"x\")\n",
        "ax.set_ylabel(\"y\")\n",
        "pl.legend();"
      ]
    },
    {
      "cell_type": "code",
      "execution_count": null,
      "metadata": {
        "id": "XSurwZtBIIMB"
      },
      "outputs": [],
      "source": [
        "probs = [samples15full[:,i].mean()>0.5 for i in range(3,23)]"
      ]
    },
    {
      "cell_type": "code",
      "execution_count": null,
      "metadata": {
        "id": "RXe4ZcYfIIMB",
        "outputId": "c9d2c382-3c03-4d5e-f3c7-42ac034c373d"
      },
      "outputs": [],
      "source": [
        "len(data.x.values)"
      ]
    },
    {
      "cell_type": "code",
      "execution_count": null,
      "metadata": {
        "id": "I6quwUNMIIMB",
        "outputId": "601c5ad5-b56b-47a7-d838-4b58798dcd82"
      },
      "outputs": [],
      "source": [
        "m_mcmc15full, b_mcmc15full = map(lambda v: (v[1], v[2]-v[1], v[1]-v[0]),\n",
        "                             zip(*np.percentile(samples15full[:,:2], [16, 50, 84],\n",
        "                                                axis=0)))\n",
        "ax = pl.figure().add_subplot(111)\n",
        "ax.errorbar(data.x, data.y, \n",
        "            #xerr=rdata.sx, yerr=rdata.sy, \n",
        "            fmt='.',  color='k')\n",
        "ax.plot(xx, line(xx, m_mcmc15full[0], b_mcmc15full[0]), 'k-', \n",
        "        label=\"y={:.2f}x+{:.2f}\".format(\n",
        "                        m_mcmc15full[0], b_mcmc15full[0]))\n",
        "confidence_ellipse(data.x.values, data.y.values, \n",
        "                   data.sx.values, data.sy.values, \n",
        "                   cov, ax)\n",
        "for i in range(len(probs)):\n",
        "    pl.text(data.x.values[i], data.y.values[i], probs[i])\n",
        "ax.set_xlabel(\"x\")\n",
        "ax.set_ylabel(\"y\")\n",
        "pl.legend();"
      ]
    },
    {
      "cell_type": "code",
      "execution_count": null,
      "metadata": {
        "id": "SzQBqGUBIIMC",
        "outputId": "16f0c484-83ec-4b6e-9746-641b9019c910"
      },
      "outputs": [],
      "source": [
        "hist2d(samples14full[:,1], samples14full[:,0])\n",
        "print(m_mcmc15full[0], b_mcmc15full[0], bm, bmfull)"
      ]
    },
    {
      "cell_type": "code",
      "execution_count": null,
      "metadata": {
        "id": "BNl2erYKIIMD"
      },
      "outputs": [],
      "source": []
    }
  ],
  "metadata": {
    "colab": {
      "include_colab_link": true,
      "name": "hogg10_10.ipynb",
      "provenance": []
    },
    "kernelspec": {
      "display_name": "Python 3",
      "language": "python",
      "name": "python3"
    },
    "language_info": {
      "codemirror_mode": {
        "name": "ipython",
        "version": 3
      },
      "file_extension": ".py",
      "mimetype": "text/x-python",
      "name": "python",
      "nbconvert_exporter": "python",
      "pygments_lexer": "ipython3",
      "version": "3.7.3"
    },
    "latex_envs": {
      "LaTeX_envs_menu_present": true,
      "autoclose": false,
      "autocomplete": true,
      "bibliofile": "biblio.bib",
      "cite_by": "apalike",
      "current_citInitial": 1,
      "eqLabelWithNumbers": true,
      "eqNumInitial": 1,
      "hotkeys": {
        "equation": "Ctrl-E",
        "itemize": "Ctrl-I"
      },
      "labels_anchors": false,
      "latex_user_defs": false,
      "report_style_numbering": false,
      "user_envs_cfg": false
    },
    "nbTranslate": {
      "displayLangs": [
        "*"
      ],
      "hotkey": "alt-t",
      "langInMainMenu": true,
      "sourceLang": "en",
      "targetLang": "fr",
      "useGoogleTranslate": true
    },
    "toc": {
      "base_numbering": 1,
      "nav_menu": {},
      "number_sections": true,
      "sideBar": true,
      "skip_h1_title": false,
      "title_cell": "Table of Contents",
      "title_sidebar": "Contents",
      "toc_cell": false,
      "toc_position": {},
      "toc_section_display": true,
      "toc_window_display": false
    }
  },
  "nbformat": 4,
  "nbformat_minor": 0
}
