{
  "nbformat": 4,
  "nbformat_minor": 0,
  "metadata": {
    "colab": {
      "name": "Untitled106.ipynb",
      "provenance": [],
      "authorship_tag": "ABX9TyNrlIP1KnOlUww78Q1L34Pr",
      "include_colab_link": true
    },
    "kernelspec": {
      "name": "python3",
      "display_name": "Python 3"
    },
    "language_info": {
      "name": "python"
    }
  },
  "cells": [
    {
      "cell_type": "markdown",
      "metadata": {
        "id": "view-in-github",
        "colab_type": "text"
      },
      "source": [
        "<a href=\"https://colab.research.google.com/github/fedhere/DSPS_FBianco/blob/master/labs/MCMClinefit.ipynb\" target=\"_parent\"><img src=\"https://colab.research.google.com/assets/colab-badge.svg\" alt=\"Open In Colab\"/></a>"
      ]
    },
    {
      "cell_type": "markdown",
      "metadata": {
        "id": "luRYR3ixUr_b"
      },
      "source": [
        "for DSPS written by fbb in 2021\n"
      ]
    },
    {
      "cell_type": "markdown",
      "metadata": {
        "id": "CosSECABUk72"
      },
      "source": [
        "# code and data inspired by https://arxiv.org/abs/1008.4686"
      ]
    },
    {
      "cell_type": "code",
      "metadata": {
        "id": "Vkz7PLggU6zz"
      },
      "source": [
        "import numpy as np\n",
        "import pylab as plt"
      ],
      "execution_count": 7,
      "outputs": []
    },
    {
      "cell_type": "code",
      "metadata": {
        "id": "Db63vOnOVMBI"
      },
      "source": [
        "def line(x, m, b):\n",
        "  return m * x + b\n"
      ],
      "execution_count": 11,
      "outputs": []
    },
    {
      "cell_type": "code",
      "metadata": {
        "id": "kKuUZHnMUkNY"
      },
      "source": [
        "# from the MCMC quickstart tutorial https://emcee.readthedocs.io/en/stable/tutorials/quickstart/\n",
        "np.random.seed(123)\n",
        "\n",
        "# Choose the \"true\" parameters.\n",
        "m_true = -0.9594\n",
        "b_true = 4.294\n",
        "f_true = 0.534 # this parameter represents the expected **hetheroschedastic** standard deviation of the error that produces scatter\n",
        "\n",
        "# Generate some synthetic data from the model.\n",
        "N = 50\n",
        "x = np.sort(10 * np.random.rand(N))\n",
        "yerr = 0.1 + 0.5 * np.random.rand(N)\n",
        "y = line(x, m_true, b_true)\n",
        "\n",
        "y += np.abs(f_true * y) * np.random.randn(N) #add scatter\n",
        "y += yerr * np.random.randn(N) #add uncertainty\n",
        "\n"
      ],
      "execution_count": 50,
      "outputs": []
    },
    {
      "cell_type": "code",
      "metadata": {
        "colab": {
          "base_uri": "https://localhost:8080/",
          "height": 279
        },
        "id": "lZ64Br7tU4VA",
        "outputId": "2d2e7daa-2070-4abb-d623-e3c950205fe5"
      },
      "source": [
        "# plot\n",
        "plt.errorbar(x, y, yerr=yerr, fmt=\".k\", capsize=0)\n",
        "x0 = np.linspace(0, 10, 500)\n",
        "plt.plot(x0, m_true * x0 + b_true, \"k\", alpha=0.3, lw=3)\n",
        "plt.xlim(0, 10)\n",
        "plt.xlabel(\"x\")\n",
        "plt.ylabel(\"y\");"
      ],
      "execution_count": 51,
      "outputs": [
        {
          "output_type": "display_data",
          "data": {
            "image/png": "[encoded data removed]",
            "text/plain": [
              "<Figure size 432x288 with 1 Axes>"
            ]
          },
          "metadata": {
            "needs_background": "light"
          }
        }
      ]
    },
    {
      "cell_type": "code",
      "metadata": {
        "id": "uRRl3SMLWC89"
      },
      "source": [
        ""
      ],
      "execution_count": 26,
      "outputs": []
    },
    {
      "cell_type": "code",
      "metadata": {
        "colab": {
          "base_uri": "https://localhost:8080/"
        },
        "id": "Vh-ODLIaXNKQ",
        "outputId": "1a157ae3-d5d9-419f-b55a-7ccb34f23f3f"
      },
      "source": [
        "X = np.c_[np.ones(len(x)), x]\n",
        "theta_best = np.linalg.inv(X.T.dot(X)).dot(X.T).dot(y)\n",
        "theta_best"
      ],
      "execution_count": 23,
      "outputs": [
        {
          "output_type": "execute_result",
          "data": {
            "text/plain": [
              "array([ 4.5778593 , -0.98216235])"
            ]
          },
          "metadata": {},
          "execution_count": 23
        }
      ]
    },
    {
      "cell_type": "code",
      "metadata": {
        "colab": {
          "base_uri": "https://localhost:8080/",
          "height": 279
        },
        "id": "Ouar3FMcXTY0",
        "outputId": "7bfbccc6-993f-49b6-cc13-a6dd56c07c47"
      },
      "source": [
        "# plot\n",
        "plt.errorbar(x, y, yerr=yerr, fmt=\".k\", capsize=0)\n",
        "x0 = np.linspace(0, 10, 500)\n",
        "plt.plot(x0, m_true * x0 + b_true, \"k\", alpha=0.3, lw=3, label=\"truth\")\n",
        "#adding linear algebra solution\n",
        "plt.plot(x0, theta_best[1] * x0 + theta_best[0], \"r\", \n",
        "         alpha=0.3, lw=3, label=\"LA\")\n",
        "plt.xlim(0, 10)\n",
        "plt.xlabel(\"x\")\n",
        "plt.ylabel(\"y\");\n",
        "plt.legend();"
      ],
      "execution_count": 34,
      "outputs": [
        {
          "output_type": "display_data",
          "data": {
            "image/png": "[encoded data removed]",
            "text/plain": [
              "<Figure size 432x288 with 1 Axes>"
            ]
          },
          "metadata": {
            "needs_background": "light"
          }
        }
      ]
    },
    {
      "cell_type": "code",
      "metadata": {
        "colab": {
          "base_uri": "https://localhost:8080/"
        },
        "id": "qcYFFQJpXiCm",
        "outputId": "56d9216d-733d-4e7b-de22-3935cfff31a6"
      },
      "source": [
        "A = np.vander(x, 2) #alternative to np.c_, same difference, but note the order of the columns\n",
        "ATA = np.dot(A.T, A / (yerr ** 2)[:, None])\n",
        "cov = np.linalg.inv(ATA) #covariance will give us the errors\n",
        "w = np.linalg.solve(ATA, np.dot(A.T, y / yerr ** 2))\n",
        "print(\"Least-squares estimates:\")\n",
        "print(\"m = {0:.3f} ± {1:.3f}\".format(w[0], np.sqrt(cov[0, 0])))\n",
        "print(\"b = {0:.3f} ± {1:.3f}\".format(w[1], np.sqrt(cov[1, 1])))\n"
      ],
      "execution_count": 28,
      "outputs": [
        {
          "output_type": "stream",
          "name": "stdout",
          "text": [
            "Least-squares estimates:\n",
            "m = -1.104 ± 0.016\n",
            "b = 5.441 ± 0.091\n"
          ]
        }
      ]
    },
    {
      "cell_type": "code",
      "metadata": {
        "colab": {
          "base_uri": "https://localhost:8080/"
        },
        "id": "0uNKIp-0X13S",
        "outputId": "89f68faa-939f-433d-f9cc-b520fe8812a8"
      },
      "source": [
        "A"
      ],
      "execution_count": 22,
      "outputs": [
        {
          "output_type": "execute_result",
          "data": {
            "text/plain": [
              "array([[0.59677897, 1.        ],\n",
              "       [0.9210494 , 1.        ],\n",
              "       [1.15618395, 1.        ],\n",
              "       [1.75451756, 1.        ],\n",
              "       [1.8249173 , 1.        ],\n",
              "       [2.26851454, 1.        ],\n",
              "       [2.28263231, 1.        ],\n",
              "       [2.50455365, 1.        ],\n",
              "       [2.86139335, 1.        ],\n",
              "       [2.93714046, 1.        ],\n",
              "       [3.12261223, 1.        ],\n",
              "       [3.17285482, 1.        ],\n",
              "       [3.22958914, 1.        ],\n",
              "       [3.43178016, 1.        ],\n",
              "       [3.61788656, 1.        ],\n",
              "       [3.92117518, 1.        ],\n",
              "       [3.98044255, 1.        ],\n",
              "       [4.14826212, 1.        ],\n",
              "       [4.2310646 , 1.        ],\n",
              "       [4.2583029 , 1.        ],\n",
              "       [4.26351307, 1.        ],\n",
              "       [4.30862763, 1.        ],\n",
              "       [4.33701173, 1.        ],\n",
              "       [4.38572245, 1.        ],\n",
              "       [4.80931901, 1.        ],\n",
              "       [4.83034264, 1.        ],\n",
              "       [4.93685098, 1.        ],\n",
              "       [5.01836676, 1.        ],\n",
              "       [5.19485119, 1.        ],\n",
              "       [5.31551374, 1.        ],\n",
              "       [5.31827587, 1.        ],\n",
              "       [5.51314769, 1.        ],\n",
              "       [6.11023511, 1.        ],\n",
              "       [6.12894526, 1.        ],\n",
              "       [6.23952952, 1.        ],\n",
              "       [6.30976124, 1.        ],\n",
              "       [6.34400959, 1.        ],\n",
              "       [6.84829739, 1.        ],\n",
              "       [6.96469186, 1.        ],\n",
              "       [7.1946897 , 1.        ],\n",
              "       [7.22443383, 1.        ],\n",
              "       [7.24455325, 1.        ],\n",
              "       [7.29049707, 1.        ],\n",
              "       [7.37995406, 1.        ],\n",
              "       [8.49431794, 1.        ],\n",
              "       [8.66309158, 1.        ],\n",
              "       [8.93389163, 1.        ],\n",
              "       [9.44160018, 1.        ],\n",
              "       [9.80764198, 1.        ],\n",
              "       [9.85559786, 1.        ]])"
            ]
          },
          "metadata": {},
          "execution_count": 22
        }
      ]
    },
    {
      "cell_type": "code",
      "metadata": {
        "colab": {
          "base_uri": "https://localhost:8080/",
          "height": 296
        },
        "id": "uXaGxFNeX2KU",
        "outputId": "bb225996-2f9e-4039-aa36-6987d3233f7f"
      },
      "source": [
        "# plot\n",
        "plt.errorbar(x, y, yerr=yerr, fmt=\".k\", capsize=0)\n",
        "x0 = np.linspace(0, 10, 500)\n",
        "plt.plot(x0, m_true * x0 + b_true, \"k\", alpha=0.3, lw=3, label=\"truth\")\n",
        "#adding linear algebra solution\n",
        "plt.plot(x0, theta_best[1] * x0 + theta_best[0], \"r\", \n",
        "         alpha=0.3, lw=3, label=\"LA\")\n",
        "plt.plot(x0, w[0] * x0 + w[1], \"r--\", \n",
        "         alpha=0.3, lw=3, label=\"LA w errors\")\n",
        "plt.xlim(0, 10)\n",
        "plt.xlabel(\"x\")\n",
        "plt.ylabel(\"y\");\n",
        "plt.legend()"
      ],
      "execution_count": 38,
      "outputs": [
        {
          "output_type": "execute_result",
          "data": {
            "text/plain": [
              "<matplotlib.legend.Legend at 0x7f32cf306dd0>"
            ]
          },
          "metadata": {},
          "execution_count": 38
        },
        {
          "output_type": "display_data",
          "data": {
            "image/png": "[encoded data removed]",
            "text/plain": [
              "<Figure size 432x288 with 1 Axes>"
            ]
          },
          "metadata": {
            "needs_background": "light"
          }
        }
      ]
    },
    {
      "cell_type": "code",
      "metadata": {
        "id": "6iN2r1S8YpYw"
      },
      "source": [
        ""
      ],
      "execution_count": null,
      "outputs": []
    }
  ]
}