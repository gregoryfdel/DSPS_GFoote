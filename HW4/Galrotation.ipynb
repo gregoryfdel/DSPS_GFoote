{
 "cells": [
  {
   "cell_type": "markdown",
   "source": [
    "<a href=\"https://colab.research.google.com/github/gregoryfdel/DSPS_GFoote/blob/master/blob/main/HW4/Galrotation.ipynb\" target=\"_blank\"><img src=\"https://colab.research.google.com/assets/colab-badge.svg\" alt=\"Open In Colab\"/></a>"
   ],
   "metadata": {
    "colab_type": "text",
    "id": "view-in-github",
    "run_control": {
     "frozen": false,
     "read_only": false
    }
   }
  },
  {
   "cell_type": "markdown",
   "source": [
    "Prepared by federica b bianco @fedhere for UDel DSPS PHYS 467/667\n",
    "\n",
    "Written up by gregory foote @gregoryfdel\n",
    "\n",
    "# Testing the significance of Dark Matter"
   ],
   "metadata": {
    "colab_type": "text",
    "id": "rxa6Xa3jOdCI",
    "run_control": {
     "frozen": false,
     "read_only": false
    }
   }
  },
  {
   "cell_type": "markdown",
   "source": [
    "# Setup\n",
    "\n",
    "Let's setup the rest of the script"
   ],
   "metadata": {}
  },
  {
   "cell_type": "code",
   "execution_count": 29,
   "source": [
    "%%capture\n",
    "!pip install requests tqdm numpy pandas astropy"
   ],
   "outputs": [],
   "metadata": {}
  },
  {
   "cell_type": "code",
   "execution_count": 28,
   "source": [
    "import os\n",
    "from typing import List\n",
    "\n",
    "\n",
    "import matplotlib.pyplot as plt\n",
    "from matplotlib.lines import Line2D\n",
    "import numpy as np\n",
    "import pandas as pd\n",
    "import astropy as ap\n",
    "from astropy import units\n",
    "\n",
    "\n",
    "import requests\n",
    "from tqdm import tqdm\n",
    "\n",
    "\n",
    "# Check if using google colab https://stackoverflow.com/questions/53581278/test-if-notebook-is-running-on-google-colab\n",
    "try:\n",
    "  import google.colab\n",
    "  IN_COLAB = True\n",
    "except:\n",
    "  IN_COLAB = False\n",
    "\n",
    "# Use LaTeX and HTML for outputting text and tables\n",
    "from IPython.display import Latex, HTML, display\n",
    "\n",
    "def latex_print(in_string):\n",
    "    \"\"\"\n",
    "    Outputs a string as if it is LaTeX\n",
    "\n",
    "    :param string: Input Python String\n",
    "    :return handle: Output handler for the display object \n",
    "    \"\"\"\n",
    "\n",
    "    in_string = f\"\\\\textnormal{{{in_string}}}\" if IN_COLAB else in_string\n",
    "    return display(Latex(in_string))\n",
    "\n",
    "\n",
    "def html_table(input_list, table_style=\"\" , cell_decorator=None):\n",
    "    \"\"\"\n",
    "    Outputs an 2D iterable as an html table\n",
    "\n",
    "    :param input_list: Python Iterable\n",
    "    :param table_style: CSS which styles the final table\n",
    "    :param cell_decorator:  Callable which will accept the \n",
    "                            cell and it's location and perform\n",
    "                            some action which will alter the \n",
    "                            look of the cell\n",
    "    \n",
    "    :return handle: Output handler for the display object\n",
    "    \"\"\"\n",
    "\n",
    "    input_list = np.array(input_list)\n",
    "\n",
    "    output_html = f\"<table style=\\\"{table_style}\\\">\"\n",
    "    for cell_row, row in enumerate(input_list):\n",
    "        output_html += r\"<tr>\"\n",
    "        for cell_col, cell in enumerate(row):\n",
    "            cell_str = str(cell)\n",
    "            if cell_decorator is not None:\n",
    "                cell_str = cell_decorator(cell, cell_row, cell_col)\n",
    "            output_html += f\"<td>{cell_str}</td>\"\n",
    "        output_html += r\"</tr>\"\n",
    "\n",
    "    output_html += r\"</table>\"\n",
    "    return display(HTML(output_html))\n",
    "\n",
    "%matplotlib inline"
   ],
   "outputs": [],
   "metadata": {
    "ExecuteTime": {
     "end_time": "2019-09-16T17:54:57.244596Z",
     "start_time": "2019-09-16T17:54:57.231090Z"
    },
    "colab": {
     "base_uri": "https://localhost:8080/",
     "height": 34
    },
    "colab_type": "code",
    "id": "Ya2RaOGbOdCJ",
    "outputId": "21ee7524-0eb2-47eb-a7e5-3a3d28d09d92",
    "run_control": {
     "frozen": false,
     "read_only": false
    }
   }
  },
  {
   "cell_type": "markdown",
   "source": [
    "## Galatic Rotational Curves"
   ],
   "metadata": {}
  },
  {
   "cell_type": "markdown",
   "source": [
    "The data comes from [SOFUE 2015](http://www.ioa.s.u-tokyo.ac.jp/~sofue/htdocs/2015m31/2015-pasj-M31MW-DH.pdf)\n",
    "The data are plotted in Figure 3 and 4 for M31 and the Milky Way respectively, and hosted on [this website](http://www.ioa.s.u-tokyo.ac.jp/~sofue/htdocs/2015m31/)\n",
    "As described in the paper: \n",
    "Long and short bars represent modified standard deviations and errors, respectively\n",
    "\n",
    "#### Please read the last paragraphs of Section 2.1 of the paper to understand the meaning of these uncertainties:\n",
    "\n",
    "![figures](figures.png)\n",
    "\n"
   ],
   "metadata": {
    "ExecuteTime": {
     "end_time": "2019-08-02T01:34:15.029084Z",
     "start_time": "2019-08-02T01:34:15.026604Z"
    },
    "colab_type": "text",
    "id": "BTaXzFYeOdCc",
    "run_control": {
     "frozen": false,
     "read_only": false
    }
   }
  },
  {
   "cell_type": "markdown",
   "source": [
    "In 1970 Vera Rubin published a seminal paper: she measured the rotational speed of HII regions in several galaxies and how it changed as a function of distance to the center of the galaxy. If we believe Newtonian gravity (or GR) we expect that _once all of the mass is included_, i.e. at a radius distance from the center of the galaxy larger than the radius of the galaxy itself, the rotational speed will be proportional to $v\\propto\\frac{1}/{r}$"
   ],
   "metadata": {
    "colab_type": "text",
    "id": "4qp8A2TG1Gwb",
    "run_control": {
     "frozen": false,
     "read_only": false
    }
   }
  },
  {
   "cell_type": "markdown",
   "source": [
    "### Derive the expected velocity curve from newtonian physics\n",
    "\n",
    "Derive $v^2\\propto\\frac{1}{r}$ from Newton's law $F~=~\\frac{GMm}{r^2}$. Write each formula and describe each step. You can use latex (you really just need to know ```\\frac{}``` and ```^```) and this reference\n",
    "https://www.physicsclassroom.com/calcpad/circgrav\n",
    "\n",
    "The final equation will look like this\n",
    "$v^2 = \\frac{G \\cdot m(r)}{r}$\n",
    "\n",
    "$$\n",
    "\\begin{aligned}& F=\\dfrac{GMm}{r^{2}}=ma\\\\ \n",
    "& \\rightarrow a = \\dfrac{GM}{r^{2}} = \\dfrac{v^{2}}{r}\\\\ \n",
    "& \\rightarrow v^{2}=\\dfrac{Gm}{r}\\end{aligned}\n",
    "$$"
   ],
   "metadata": {}
  },
  {
   "cell_type": "markdown",
   "source": [
    "### M31 rotational curve"
   ],
   "metadata": {
    "colab_type": "text",
    "id": "KQAEJtWuOdCb",
    "run_control": {
     "frozen": false,
     "read_only": false
    }
   }
  },
  {
   "cell_type": "markdown",
   "source": [
    "\n",
    "\n",
    "![text](text.png)\n",
    "\n",
    "\n",
    "Get the data from the github repository https://github.com/fedhere/DSPS/tree/master/HW4 : there are 2 files: mw.csv and m31.csv. Start with M31, the Andromeda galaxy, Vera Rubin's original target."
   ],
   "metadata": {
    "ExecuteTime": {
     "end_time": "2019-09-22T00:10:02.465470Z",
     "start_time": "2019-09-22T00:10:02.455255Z"
    },
    "run_control": {
     "frozen": false,
     "read_only": false
    }
   }
  },
  {
   "cell_type": "markdown",
   "source": [
    "## Propagation of  uncertainties rules\n",
    "\n",
    "below are the basic rules for propagation of uncertainties - use [this as reference](https://github.com/fedhere/DSPS/blob/master/resources/Managing%20Errors%20and%20Uncertainty.pdf)"
   ],
   "metadata": {
    "colab_type": "text",
    "id": "j-BDrNseOdCR",
    "run_control": {
     "frozen": false,
     "read_only": false
    }
   }
  },
  {
   "cell_type": "markdown",
   "source": [
    "$$\n",
    "\\begin{align*}\n",
    "z = x  \\pm y  ~| & ~  &dz = \\sqrt{dx^2 + dy^2} \n",
    "\\\\\n",
    "z = x * y  ~| & ~& dz = |xy|  \\sqrt{\\left(\\frac{dx}{x}\\right)^2 + \n",
    "                                \\left(\\frac{dy}{y}\\right)^2} \\\\\n",
    "z = x / y  ~| & ~& dz = \\left|\\frac{x}{y}\\right| \\sqrt{\\left(\\frac{dx}{x}\\right)^2 + \n",
    "                                                   \\left(\\frac{dy}{y}\\right)^2} \\\\\n",
    "z = x^n ~| & ~& dz = |n| ~ x^{n-1}  dx \\\\\n",
    "z = \\mathrm{c}x ~| & ~& dz = |\\mathrm{c}| ~dx \\\\\n",
    "z = f(x, y) ~| & ~& dz = \\sqrt{\\left(\\frac{\\partial f}{\\partial x}\\right)^2 dx^2 +\\left(\\frac{\\partial f}{\\partial y}\\right)^2 dy^2} \\\\\n",
    "\\end{align*}\n",
    "$$\n"
   ],
   "metadata": {
    "colab_type": "text",
    "id": "iCrFipBzOzqp",
    "run_control": {
     "frozen": false,
     "read_only": false
    }
   }
  },
  {
   "cell_type": "markdown",
   "source": [
    "## Data Ingestion"
   ],
   "metadata": {}
  },
  {
   "cell_type": "markdown",
   "source": [
    "Note that the data contains 2 types of uncertainties: one significantly smaller than the other. The ```dv``` uncertainty is the propagation of the uncertainty in the location of the HII line. The uncertainty called ```err``` if the full error budget:  including _all_ sources of uncertainty and not just the uncertainty in measuring the location of the line. Retain both, you will test your hypothesis with each one to see if it matters which uncertainty you choose"
   ],
   "metadata": {
    "colab_type": "text",
    "id": "_iFrkUYEV1SS",
    "run_control": {
     "frozen": false,
     "read_only": false
    }
   }
  },
  {
   "cell_type": "code",
   "execution_count": 2,
   "source": [
    "def get_files_from_internet(files_url: List[str]):\n",
    "    '''Grabs files from the internet using the requests library\n",
    "\n",
    "    :param files_url: List of file URLs\n",
    "\n",
    "    :return file_names: The extracted file names of the files which were downloaded\n",
    "    '''\n",
    "\n",
    "    file_names = []\n",
    "    for file_url in files_url:\n",
    "        filename = file_url.split(r\"/\")[-1]\n",
    "        if not os.path.exists(filename):\n",
    "            response = requests.get(file_url, stream=True)\n",
    "            response.raise_for_status()\n",
    "            \n",
    "            # https://stackoverflow.com/questions/43743438/using-tqdm-to-add-a-progress-bar-when-downloading-files\n",
    "            total_size = int(response.headers[\"Content-Length\"])\n",
    "            \n",
    "            with open(filename, \"w\") as handle:\n",
    "                with tqdm(unit='B', unit_divisor=1024, unit_scale=True, miniters=1, desc=filename, total=total_size) as pbar:\n",
    "                    for block in response.iter_lines(1024, decode_unicode=True):\n",
    "                        handle.write(block + \"\\n\")\n",
    "                        pbar.update(len(block))\n",
    "        file_names.append(filename)\n",
    "    return file_names\n",
    "\n",
    "rv_files = get_files_from_internet(\n",
    "    [\n",
    "        \"https://raw.githubusercontent.com/fedhere/DSPS_FBianco/master/HW4/m31.csv\",\n",
    "        \"https://raw.githubusercontent.com/fedhere/DSPS_FBianco/master/HW4/mw.csv\"\n",
    "    ]\n",
    ")\n",
    "\n",
    "data_processed = {\n",
    "    os.path.splitext(fn)[0]: pd.read_csv(fn, skiprows=1, delimiter=',').set_axis(['r', 'v','dv', 'err'], axis=1, inplace=False) for fn in rv_files\n",
    "}"
   ],
   "outputs": [],
   "metadata": {
    "colab": {},
    "colab_type": "code",
    "id": "PFYBlhUjt8_e",
    "run_control": {
     "frozen": false,
     "read_only": false
    }
   }
  },
  {
   "cell_type": "code",
   "execution_count": 3,
   "source": [
    "display(data_processed['m31'].head())\n",
    "display(data_processed['m31'].describe())"
   ],
   "outputs": [
    {
     "output_type": "display_data",
     "data": {
      "text/html": [
       "<div>\n",
       "<style scoped>\n",
       "    .dataframe tbody tr th:only-of-type {\n",
       "        vertical-align: middle;\n",
       "    }\n",
       "\n",
       "    .dataframe tbody tr th {\n",
       "        vertical-align: top;\n",
       "    }\n",
       "\n",
       "    .dataframe thead th {\n",
       "        text-align: right;\n",
       "    }\n",
       "</style>\n",
       "<table border=\"1\" class=\"dataframe\">\n",
       "  <thead>\n",
       "    <tr style=\"text-align: right;\">\n",
       "      <th></th>\n",
       "      <th>r</th>\n",
       "      <th>v</th>\n",
       "      <th>dv</th>\n",
       "      <th>err</th>\n",
       "    </tr>\n",
       "  </thead>\n",
       "  <tbody>\n",
       "    <tr>\n",
       "      <th>0</th>\n",
       "      <td>0.100</td>\n",
       "      <td>183.939</td>\n",
       "      <td>0.000</td>\n",
       "      <td>0.000</td>\n",
       "    </tr>\n",
       "    <tr>\n",
       "      <th>1</th>\n",
       "      <td>0.120</td>\n",
       "      <td>190.710</td>\n",
       "      <td>10.265</td>\n",
       "      <td>12.191</td>\n",
       "    </tr>\n",
       "    <tr>\n",
       "      <th>2</th>\n",
       "      <td>0.144</td>\n",
       "      <td>204.141</td>\n",
       "      <td>22.634</td>\n",
       "      <td>21.808</td>\n",
       "    </tr>\n",
       "    <tr>\n",
       "      <th>3</th>\n",
       "      <td>0.173</td>\n",
       "      <td>207.601</td>\n",
       "      <td>4.573</td>\n",
       "      <td>4.200</td>\n",
       "    </tr>\n",
       "    <tr>\n",
       "      <th>4</th>\n",
       "      <td>0.207</td>\n",
       "      <td>210.188</td>\n",
       "      <td>3.943</td>\n",
       "      <td>3.258</td>\n",
       "    </tr>\n",
       "  </tbody>\n",
       "</table>\n",
       "</div>"
      ],
      "text/plain": [
       "       r        v      dv     err\n",
       "0  0.100  183.939   0.000   0.000\n",
       "1  0.120  190.710  10.265  12.191\n",
       "2  0.144  204.141  22.634  21.808\n",
       "3  0.173  207.601   4.573   4.200\n",
       "4  0.207  210.188   3.943   3.258"
      ]
     },
     "metadata": {}
    },
    {
     "output_type": "display_data",
     "data": {
      "text/html": [
       "<div>\n",
       "<style scoped>\n",
       "    .dataframe tbody tr th:only-of-type {\n",
       "        vertical-align: middle;\n",
       "    }\n",
       "\n",
       "    .dataframe tbody tr th {\n",
       "        vertical-align: top;\n",
       "    }\n",
       "\n",
       "    .dataframe thead th {\n",
       "        text-align: right;\n",
       "    }\n",
       "</style>\n",
       "<table border=\"1\" class=\"dataframe\">\n",
       "  <thead>\n",
       "    <tr style=\"text-align: right;\">\n",
       "      <th></th>\n",
       "      <th>r</th>\n",
       "      <th>v</th>\n",
       "      <th>dv</th>\n",
       "      <th>err</th>\n",
       "    </tr>\n",
       "  </thead>\n",
       "  <tbody>\n",
       "    <tr>\n",
       "      <th>count</th>\n",
       "      <td>55.000000</td>\n",
       "      <td>55.000000</td>\n",
       "      <td>55.000000</td>\n",
       "      <td>55.000000</td>\n",
       "    </tr>\n",
       "    <tr>\n",
       "      <th>mean</th>\n",
       "      <td>205.853182</td>\n",
       "      <td>226.079255</td>\n",
       "      <td>55.034818</td>\n",
       "      <td>16.165855</td>\n",
       "    </tr>\n",
       "    <tr>\n",
       "      <th>std</th>\n",
       "      <td>415.523904</td>\n",
       "      <td>42.799892</td>\n",
       "      <td>49.254792</td>\n",
       "      <td>14.876951</td>\n",
       "    </tr>\n",
       "    <tr>\n",
       "      <th>min</th>\n",
       "      <td>0.100000</td>\n",
       "      <td>121.974000</td>\n",
       "      <td>0.000000</td>\n",
       "      <td>0.000000</td>\n",
       "    </tr>\n",
       "    <tr>\n",
       "      <th>25%</th>\n",
       "      <td>1.177000</td>\n",
       "      <td>208.894500</td>\n",
       "      <td>11.945500</td>\n",
       "      <td>3.224000</td>\n",
       "    </tr>\n",
       "    <tr>\n",
       "      <th>50%</th>\n",
       "      <td>13.737000</td>\n",
       "      <td>229.124000</td>\n",
       "      <td>30.697000</td>\n",
       "      <td>12.065000</td>\n",
       "    </tr>\n",
       "    <tr>\n",
       "      <th>75%</th>\n",
       "      <td>161.675000</td>\n",
       "      <td>244.102500</td>\n",
       "      <td>99.980000</td>\n",
       "      <td>23.641000</td>\n",
       "    </tr>\n",
       "    <tr>\n",
       "      <th>max</th>\n",
       "      <td>1887.071000</td>\n",
       "      <td>414.942000</td>\n",
       "      <td>147.835000</td>\n",
       "      <td>54.110000</td>\n",
       "    </tr>\n",
       "  </tbody>\n",
       "</table>\n",
       "</div>"
      ],
      "text/plain": [
       "                 r           v          dv        err\n",
       "count    55.000000   55.000000   55.000000  55.000000\n",
       "mean    205.853182  226.079255   55.034818  16.165855\n",
       "std     415.523904   42.799892   49.254792  14.876951\n",
       "min       0.100000  121.974000    0.000000   0.000000\n",
       "25%       1.177000  208.894500   11.945500   3.224000\n",
       "50%      13.737000  229.124000   30.697000  12.065000\n",
       "75%     161.675000  244.102500   99.980000  23.641000\n",
       "max    1887.071000  414.942000  147.835000  54.110000"
      ]
     },
     "metadata": {}
    }
   ],
   "metadata": {}
  },
  {
   "cell_type": "markdown",
   "source": [
    "from https://en.wikipedia.org/wiki/Andromeda_Galaxy get the extent of the luminous component of M31 (Andromeda). The distance of the Galaxy multiplied by the angular size will give you this information from basic trigonometry (make sure you convert the units properly, using astropy). Make sure you include the uncertainties! uncertainties in the distance will give you the uncertainty in the size.\n",
    " "
   ],
   "metadata": {
    "colab_type": "text",
    "id": "Vv0Ut6vOOdCk",
    "run_control": {
     "frozen": false,
     "read_only": false
    }
   }
  },
  {
   "cell_type": "markdown",
   "source": [
    "## Helper Classes"
   ],
   "metadata": {}
  },
  {
   "cell_type": "code",
   "execution_count": null,
   "source": [
    "class UncertainQuanitity:\n",
    "\n",
    "    def __init__(self, value_, uncertainity_ = None, unit_ = None) -> None:\n",
    "        if isinstance(value_, UncertainQuanitity):\n",
    "            self.quantity = value_.quantity\n",
    "            self.uncertainity = value_.uncertainity\n",
    "        else:\n",
    "            if isinstance(value_, units.Quantity):\n",
    "                self.quantity = value_\n",
    "            else:\n",
    "                self.quantity = value_ * unit_\n",
    "            \n",
    "            if isinstance(uncertainity_, units.Quantity):\n",
    "                self.uncertainity = uncertainity_\n",
    "            else:\n",
    "                self.uncertainity = uncertainity_ * unit_\n",
    "\n",
    "    @property\n",
    "    def value(self):\n",
    "        return (self.quantity.value, self.uncertainity.value)\n",
    "\n",
    "    @property\n",
    "    def unit(self):\n",
    "        return self.quantity.unit\n",
    "    \n",
    "    @unit.setter\n",
    "    def unit(self, new_unit):\n",
    "        self.quantity = self.quantity.to(new_unit)\n",
    "        self.uncertainity = self.uncertainity.to(new_unit)\n",
    "\n",
    "    def copy(self):\n",
    "        return UncertainQuanitity(self)\n",
    "\n",
    "    def to(self, other_unit):\n",
    "        new_obj = self.copy()\n",
    "        new_obj.unit = other_unit\n",
    "        return new_obj\n",
    "    \n",
    "    def __str__(self):\n",
    "        return f\"{self.quantity.value:.2f} \\u00B1 {self.uncertainity.value:.2f} {self.unit}\"\n",
    "    \n",
    "    def __mul__(self, other):\n",
    "        if isinstance(other, UncertainQuanitity):\n",
    "            sqv, suv = self.value\n",
    "            oqv, ouv = other.value\n",
    "            \n",
    "            rv_value = sqv * oqv\n",
    "            rv_uncertainity = abs(rv_value) * np.sqrt(np.square(suv/sqv) + np.square(ouv/oqv))\n",
    "            \n",
    "            return UncertainQuanitity(rv_value, rv_uncertainity, self.unit)\n",
    "        elif isinstance(other, (float, int)):\n",
    "            rv_value, rv_uncertainity = self.value\n",
    "            rv_value *= other\n",
    "            rv_uncertainity *= other\n",
    "            return UncertainQuanitity(rv_value, rv_uncertainity, self.unit)\n",
    "        else:\n",
    "            raise TypeError(\"Can't multiply an uncertain quanitity with \" + str(type(other)))\n",
    "\n",
    "class UncertainPoint:\n",
    "    def __init__(self, *args) -> None:\n",
    "        for arg_name, arg_value in zip(['x', 'y'], args):\n",
    "            if isinstance(arg_value, tuple):\n",
    "                setattr(self, arg_name, UncertainQuanitity(*arg_value))\n",
    "            elif isinstance(arg_value, UncertainQuanitity):\n",
    "                setattr(self, arg_name, arg_value)\n",
    "            else:\n",
    "                raise TypeError(\"Bad Initialization of UncertainPoint!\")\n",
    "\n",
    "    def get_artist(color=\"blue\", thickness=1.0, add_text=False):\n",
    "        pass"
   ],
   "outputs": [],
   "metadata": {}
  },
  {
   "cell_type": "code",
   "execution_count": 25,
   "source": [
    "class GalaxyInfo:\n",
    "    def __init__(self, name_, angular_size_=None, distance_=None):\n",
    "        self.name = name_\n",
    "        self.angular_size = angular_size_\n",
    "        self.distance = distance_\n",
    "    \n",
    "    @property\n",
    "    def visible_component(self):\n",
    "        return self.distance * self.angular_size.to(units.radian)"
   ],
   "outputs": [],
   "metadata": {
    "colab": {},
    "colab_type": "code",
    "id": "kvIFr6D778ri",
    "run_control": {
     "frozen": false,
     "read_only": false
    }
   }
  },
  {
   "cell_type": "code",
   "execution_count": 26,
   "source": [
    "# http://ned.ipac.caltech.edu/cgi-bin/datasearch?search_type=Diam_id&objid=58141&objname=MESSIER%20031&img_stamp=YES&hconst=73.0&omegam=0.27&omegav=0.73&corr_z=1&of=table\n",
    "# https://ui.adsabs.harvard.edu/abs/2012ApJ...745..156R/abstract\n",
    "\n",
    "m31_info = GalaxyInfo(\"m31\", UncertainQuanitity(3.175, 0.074, units.deg), UncertainQuanitity(752, 27, units.kpc))\n",
    "latex_print(f\"Angular Size of the visible component of Andromeda: {m31_info.angular_size}\")\n",
    "latex_print(f\"Distance to Andromeda: {m31_info.distance}\")\n",
    "latex_print(f\"Size of the visible component of Andromeda: {m31_info.visible_component}\")"
   ],
   "outputs": [
    {
     "output_type": "display_data",
     "data": {
      "text/latex": [
       "Angular Size of the visible component of Andromeda: 3.17 ± 0.07 deg"
      ],
      "text/plain": [
       "<IPython.core.display.Latex object>"
      ]
     },
     "metadata": {}
    },
    {
     "output_type": "display_data",
     "data": {
      "text/latex": [
       "Distance to Andromeda: 752.00 ± 27.00 kpc"
      ],
      "text/plain": [
       "<IPython.core.display.Latex object>"
      ]
     },
     "metadata": {}
    },
    {
     "output_type": "display_data",
     "data": {
      "text/latex": [
       "Size of the visible component of Andromeda: 41.67 ± 1.78 kpc"
      ],
      "text/plain": [
       "<IPython.core.display.Latex object>"
      ]
     },
     "metadata": {}
    }
   ],
   "metadata": {}
  },
  {
   "cell_type": "markdown",
   "source": [
    "## Find the first measurement  in your data table that includes all the luminous mass. \n",
    "\n",
    "What is the smallest radius in your data where the luminous mass is completely included and what is the veolcity at that radius?"
   ],
   "metadata": {
    "colab_type": "text",
    "id": "97o52hRhOdCy",
    "run_control": {
     "frozen": false,
     "read_only": false
    }
   }
  },
  {
   "cell_type": "markdown",
   "source": [
    "We expect the velocity to decrease as 1/r if all mass is included: the velocity at a radius twice as far as the radius that includes all the mass should be a factor 2 slower, three times as far a factor 3 slower. "
   ],
   "metadata": {
    "colab_type": "text",
    "id": "TVWiU84XOdDA",
    "run_control": {
     "frozen": false,
     "read_only": false
    }
   }
  },
  {
   "cell_type": "markdown",
   "source": [
    "write a function that \n",
    "\n",
    "1. finds the smallest radius in the dataset that is at least N times the radius of the visible galaxy, \n",
    "\n",
    "2. takes as arguments:\n",
    "    - the data and \n",
    "    - N \n",
    "    - the size of the luminous component of the galaxy\n",
    " \n",
    "2. Returns the value of the radius and its uncertainty and the velocity and its uncertainty"
   ],
   "metadata": {
    "colab_type": "text",
    "id": "b096Ax33SiXl",
    "run_control": {
     "frozen": false,
     "read_only": false
    }
   }
  },
  {
   "cell_type": "code",
   "execution_count": 23,
   "source": [
    "def get_radii(gal_info: GalaxyInfo, n: float) -> tuple:\n",
    "    '''Gets the smallest encompassing multiple of the radius and corresponding velocity of a galaxy\n",
    "\n",
    "    :param gal_info: GalaxyInfo object containing the information about\n",
    "      the galaxy\n",
    "    :param n: The multiple to test\n",
    "\n",
    "    :return tuple: (UncertainQuanitity of the encompassing radius, UncertainQuanitity of the velocity)\n",
    "    '''\n",
    "    global data_processed\n",
    "    v_rad = gal_info.visible_component\n",
    "    test_rad = v_rad.quantity.value * n\n",
    "    rv = data_processed.get(gal_info.name).loc[lambda x: x['r'] <= test_rad].max()\n",
    "    return UncertainQuanitity(rv['r'], rv['err']), UncertainQuanitity(rv['v'], rv['dv'])\n"
   ],
   "outputs": [],
   "metadata": {
    "ExecuteTime": {
     "end_time": "2019-08-02T02:07:26.053511Z",
     "start_time": "2019-08-02T02:07:26.046677Z"
    },
    "colab": {},
    "colab_type": "code",
    "id": "-_O34Bb7OdC2",
    "run_control": {
     "frozen": false,
     "read_only": false
    }
   }
  },
  {
   "cell_type": "markdown",
   "source": [
    "## Data Visualization"
   ],
   "metadata": {
    "ExecuteTime": {
     "end_time": "2019-08-01T18:13:58.231637Z",
     "start_time": "2019-08-01T18:13:58.229447Z"
    },
    "colab_type": "text",
    "id": "ogu_iquzOdC5",
    "run_control": {
     "frozen": false,
     "read_only": false
    }
   }
  },
  {
   "cell_type": "markdown",
   "source": [
    "### Make a plot that shows\n",
    "\n",
    "---\n",
    "1. the rotational curve of the galaxy (as a line)\n",
    "\n",
    "2. each velocity as an errorbar with error equal to err in the same color as the line in 1\n",
    "\n",
    "3. each velocity as an errorbar with error equal to dv in  the same color but a different line thickness\n",
    "\n",
    "---\n",
    "\n",
    "1. the datapoint corresponding to N=1, 2, 3 each in a different color. \n",
    "\n",
    "2. add a legend that indicates the meaning of each color (```pl.legend()```)\n",
    "\n",
    "3. add a text that indicates the velocity and its uncertainty (dv and err) just below the largest errorbar (```pl.text()```)\n",
    "\n",
    "4. limit the x axis to the \"relevant\" portion of the data"
   ],
   "metadata": {
    "colab_type": "text",
    "id": "kJ6MujVJUyel",
    "run_control": {
     "frozen": false,
     "read_only": false
    }
   }
  },
  {
   "cell_type": "code",
   "execution_count": 24,
   "source": [
    "def plot_galaxy_radius(gal_info: GalaxyInfo):\n",
    "    global data_processed\n",
    "    \n",
    "\n",
    "plotGal(m31, m31Rds)"
   ],
   "outputs": [
    {
     "output_type": "error",
     "ename": "NameError",
     "evalue": "name 'plotGal' is not defined",
     "traceback": [
      "\u001b[0;31m---------------------------------------------------------------------------\u001b[0m",
      "\u001b[0;31mNameError\u001b[0m                                 Traceback (most recent call last)",
      "\u001b[0;32m/tmp/ipykernel_74858/3451264862.py\u001b[0m in \u001b[0;36m<module>\u001b[0;34m\u001b[0m\n\u001b[1;32m      3\u001b[0m \u001b[0;34m\u001b[0m\u001b[0m\n\u001b[1;32m      4\u001b[0m \u001b[0;34m\u001b[0m\u001b[0m\n\u001b[0;32m----> 5\u001b[0;31m \u001b[0mplotGal\u001b[0m\u001b[0;34m(\u001b[0m\u001b[0mm31\u001b[0m\u001b[0;34m,\u001b[0m \u001b[0mm31Rds\u001b[0m\u001b[0;34m)\u001b[0m\u001b[0;34m\u001b[0m\u001b[0;34m\u001b[0m\u001b[0m\n\u001b[0m",
      "\u001b[0;31mNameError\u001b[0m: name 'plotGal' is not defined"
     ]
    }
   ],
   "metadata": {
    "ExecuteTime": {
     "end_time": "2019-08-02T03:01:27.556063Z",
     "start_time": "2019-08-02T03:01:27.302184Z"
    },
    "colab": {
     "base_uri": "https://localhost:8080/",
     "height": 283
    },
    "colab_type": "code",
    "id": "7IMXYY8BOdC6",
    "outputId": "2946ab11-0e34-447f-968f-1043a6622ec7",
    "run_control": {
     "frozen": false,
     "read_only": false
    }
   }
  },
  {
   "cell_type": "markdown",
   "source": [
    "Write a function that for a given dataset and a given luminous radius and a given N \n",
    "  \n",
    "  1) uses the function above to find the radius at least as large as needed and the velocity at that radius, \n",
    "  \n",
    "  2) states the expected drop in rotational velocities according to Newton's law $v^2\\propto 1/r$\n",
    "  \n",
    "  3) calculates the ratio of radii and the ratio of velocities at N radii from the center N=1 and N=N (input, e.g. 2, 3 etc) with uncertainties, \n",
    "  \n",
    "  4) and stated whether that ratio is consistent within the uncertainties with Newton's law $v^2 \\propto 1/r$\n",
    "  \n",
    "Your function should print \n",
    "\n",
    "     - the expected ratio based on the radii, \n",
    "     - the calculated ratio using ```dv```, and its uncertainty, - \n",
    "     - the 2-$\\sigma$ upper and lower limits of the calculated ratio\n",
    "     - whether the expected ratio is within the $2-\\sigma$ of the calculated ratio, \n",
    "  5) and the same using ```err```  instead of ```dv```"
   ],
   "metadata": {
    "colab_type": "text",
    "id": "bIbv3YrhTo0X",
    "run_control": {
     "frozen": false,
     "read_only": false
    }
   }
  },
  {
   "cell_type": "code",
   "execution_count": null,
   "source": [
    "def vratios(gal, rds, rd, err='dv'):\n",
    "      ..."
   ],
   "outputs": [],
   "metadata": {
    "ExecuteTime": {
     "end_time": "2019-08-02T02:22:18.485172Z",
     "start_time": "2019-08-02T02:22:18.477807Z"
    },
    "colab": {},
    "colab_type": "code",
    "id": "1hhTw8N4OdDB",
    "run_control": {
     "frozen": false,
     "read_only": false
    }
   }
  },
  {
   "cell_type": "code",
   "execution_count": null,
   "source": [
    "# your code here"
   ],
   "outputs": [],
   "metadata": {
    "ExecuteTime": {
     "end_time": "2019-08-02T02:22:20.233692Z",
     "start_time": "2019-08-02T02:22:20.225631Z"
    },
    "colab": {},
    "colab_type": "code",
    "id": "8TPkTIthOdDI",
    "run_control": {
     "frozen": false,
     "read_only": false
    }
   }
  },
  {
   "cell_type": "markdown",
   "source": [
    "### Discuss!"
   ],
   "metadata": {
    "ExecuteTime": {
     "end_time": "2019-08-02T00:36:41.637045Z",
     "start_time": "2019-08-02T00:36:41.634825Z"
    },
    "colab_type": "text",
    "id": "6me5k4c1OdDY",
    "run_control": {
     "frozen": false,
     "read_only": false
    }
   }
  },
  {
   "cell_type": "markdown",
   "source": [
    "## do the same for the Milky Way. If your functions were create properly you should be able to reuse them seamlessly"
   ],
   "metadata": {
    "colab_type": "text",
    "id": "QIHRn8UlOdDZ",
    "run_control": {
     "frozen": false,
     "read_only": false
    }
   }
  },
  {
   "cell_type": "code",
   "execution_count": null,
   "source": [
    "# your code here"
   ],
   "outputs": [],
   "metadata": {
    "colab": {},
    "colab_type": "code",
    "id": "NVp9cJzv-Dic",
    "run_control": {
     "frozen": false,
     "read_only": false
    }
   }
  }
 ],
 "metadata": {
  "colab": {
   "collapsed_sections": [
    "6me5k4c1OdDY"
   ],
   "include_colab_link": true,
   "name": "Copy of MWrotCurve.ipynb",
   "provenance": []
  },
  "kernelspec": {
   "name": "python3",
   "display_name": "Python 3.8.10 64-bit ('DSPS_GFoote-Dh-wfxy1': pipenv)"
  },
  "language_info": {
   "codemirror_mode": {
    "name": "ipython",
    "version": 3
   },
   "file_extension": ".py",
   "mimetype": "text/x-python",
   "name": "python",
   "nbconvert_exporter": "python",
   "pygments_lexer": "ipython3",
   "version": "3.8.10"
  },
  "nbTranslate": {
   "displayLangs": [
    "*"
   ],
   "hotkey": "alt-t",
   "langInMainMenu": true,
   "sourceLang": "en",
   "targetLang": "fr",
   "useGoogleTranslate": true
  },
  "toc": {
   "base_numbering": 1,
   "colors": {
    "hover_highlight": "#DAA520",
    "running_highlight": "#FF0000",
    "selected_highlight": "#FFD700"
   },
   "moveMenuLeft": true,
   "nav_menu": {},
   "navigate_menu": true,
   "number_sections": true,
   "sideBar": true,
   "skip_h1_title": false,
   "threshold": 4,
   "title_cell": "Table of Contents",
   "title_sidebar": "Contents",
   "toc_cell": false,
   "toc_position": {
    "height": "calc(100% - 180px)",
    "left": "10px",
    "top": "150px",
    "width": "165px"
   },
   "toc_section_display": true,
   "toc_window_display": true
  },
  "interpreter": {
   "hash": "ec9adc79684924107444e62f99e588cb38f7190c8e84f18e1083d2876bd57627"
  }
 },
 "nbformat": 4,
 "nbformat_minor": 1
}