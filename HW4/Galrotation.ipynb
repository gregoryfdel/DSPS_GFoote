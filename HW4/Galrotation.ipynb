{
 "cells": [
  {
   "cell_type": "markdown",
   "source": [
    "<a href=\"https://colab.research.google.com/github/gregoryfdel/DSPS_GFoote/blob/master/blob/main/HW4/Galrotation.ipynb\" target=\"_blank\"><img src=\"https://colab.research.google.com/assets/colab-badge.svg\" alt=\"Open In Colab\"/></a>"
   ],
   "metadata": {
    "colab_type": "text",
    "id": "view-in-github",
    "run_control": {
     "frozen": false,
     "read_only": false
    }
   }
  },
  {
   "cell_type": "markdown",
   "source": [
    "Prepared by federica b bianco @fedhere for UDel DSPS PHYS 467/667\n",
    "\n",
    "Written up by gregory foote @gregoryfdel\n",
    "\n",
    "# Testing the significance of Dark Matter"
   ],
   "metadata": {
    "colab_type": "text",
    "id": "rxa6Xa3jOdCI",
    "run_control": {
     "frozen": false,
     "read_only": false
    }
   }
  },
  {
   "cell_type": "markdown",
   "source": [
    "# Setup\n",
    "\n",
    "Let's setup the rest of the script"
   ],
   "metadata": {}
  },
  {
   "cell_type": "code",
   "execution_count": 156,
   "source": [
    "%%capture\r\n",
    "!pip install requests tqdm numpy pandas astropy"
   ],
   "outputs": [],
   "metadata": {}
  },
  {
   "cell_type": "code",
   "execution_count": 157,
   "source": [
    "import os\r\n",
    "from typing import List, Tuple\r\n",
    "\r\n",
    "\r\n",
    "import matplotlib.pyplot as plt\r\n",
    "from matplotlib.pyplot import Text\r\n",
    "from matplotlib.lines import Line2D\r\n",
    "import numpy as np\r\n",
    "import pandas as pd\r\n",
    "import astropy as ap\r\n",
    "from astropy import units\r\n",
    "\r\n",
    "\r\n",
    "import requests\r\n",
    "from tqdm import tqdm\r\n",
    "\r\n",
    "\r\n",
    "# Check if using google colab https://stackoverflow.com/questions/53581278/test-if-notebook-is-running-on-google-colab\r\n",
    "try:\r\n",
    "  import google.colab\r\n",
    "  IN_COLAB = True\r\n",
    "except:\r\n",
    "  IN_COLAB = False\r\n",
    "\r\n",
    "# Use LaTeX and HTML for outputting text and tables\r\n",
    "from IPython.display import Latex, HTML, display\r\n",
    "\r\n",
    "def latex_print(in_string):\r\n",
    "    \"\"\"\r\n",
    "    Outputs a string as if it is LaTeX\r\n",
    "\r\n",
    "    :param string: Input Python String\r\n",
    "    :return handle: Output handler for the display object \r\n",
    "    \"\"\"\r\n",
    "\r\n",
    "    in_string = f\"\\\\textnormal{{{in_string}}}\" if IN_COLAB else in_string\r\n",
    "    return display(Latex(in_string))\r\n",
    "\r\n",
    "\r\n",
    "def html_table(input_list, table_style=\"\" , cell_decorator=None):\r\n",
    "    \"\"\"\r\n",
    "    Outputs an 2D iterable as an html table\r\n",
    "\r\n",
    "    :param input_list: Python Iterable\r\n",
    "    :param table_style: CSS which styles the final table\r\n",
    "    :param cell_decorator:  Callable which will accept the \r\n",
    "                            cell and it's location and perform\r\n",
    "                            some action which will alter the \r\n",
    "                            look of the cell\r\n",
    "    \r\n",
    "    :return handle: Output handler for the display object\r\n",
    "    \"\"\"\r\n",
    "\r\n",
    "    input_list = np.array(input_list)\r\n",
    "\r\n",
    "    output_html = f\"<table style=\\\"{table_style}\\\">\"\r\n",
    "    for cell_row, row in enumerate(input_list):\r\n",
    "        output_html += r\"<tr>\"\r\n",
    "        for cell_col, cell in enumerate(row):\r\n",
    "            cell_str = str(cell)\r\n",
    "            if cell_decorator is not None:\r\n",
    "                cell_str = cell_decorator(cell, cell_row, cell_col)\r\n",
    "            output_html += f\"<td>{cell_str}</td>\"\r\n",
    "        output_html += r\"</tr>\"\r\n",
    "\r\n",
    "    output_html += r\"</table>\"\r\n",
    "    return display(HTML(output_html))\r\n",
    "\r\n",
    "%matplotlib inline"
   ],
   "outputs": [],
   "metadata": {
    "ExecuteTime": {
     "end_time": "2019-09-16T17:54:57.244596Z",
     "start_time": "2019-09-16T17:54:57.231090Z"
    },
    "colab": {
     "base_uri": "https://localhost:8080/",
     "height": 34
    },
    "colab_type": "code",
    "id": "Ya2RaOGbOdCJ",
    "outputId": "21ee7524-0eb2-47eb-a7e5-3a3d28d09d92",
    "run_control": {
     "frozen": false,
     "read_only": false
    }
   }
  },
  {
   "cell_type": "markdown",
   "source": [
    "## Galatic Rotational Curves"
   ],
   "metadata": {}
  },
  {
   "cell_type": "markdown",
   "source": [
    "The data comes from [SOFUE 2015](http://www.ioa.s.u-tokyo.ac.jp/~sofue/htdocs/2015m31/2015-pasj-M31MW-DH.pdf)\n",
    "The data are plotted in Figure 3 and 4 for M31 and the Milky Way respectively, and hosted on [this website](http://www.ioa.s.u-tokyo.ac.jp/~sofue/htdocs/2015m31/)\n",
    "As described in the paper: \n",
    "Long and short bars represent modified standard deviations and errors, respectively\n",
    "\n",
    "#### Please read the last paragraphs of Section 2.1 of the paper to understand the meaning of these uncertainties:\n",
    "\n",
    "![figures](figures.png)\n",
    "\n"
   ],
   "metadata": {
    "ExecuteTime": {
     "end_time": "2019-08-02T01:34:15.029084Z",
     "start_time": "2019-08-02T01:34:15.026604Z"
    },
    "colab_type": "text",
    "id": "BTaXzFYeOdCc",
    "run_control": {
     "frozen": false,
     "read_only": false
    }
   }
  },
  {
   "cell_type": "markdown",
   "source": [
    "In 1970 Vera Rubin published a seminal paper: she measured the rotational speed of HII regions in several galaxies and how it changed as a function of distance to the center of the galaxy. If we believe Newtonian gravity (or GR) we expect that _once all of the mass is included_, i.e. at a radius distance from the center of the galaxy larger than the radius of the galaxy itself, the rotational speed will be proportional to $v\\propto\\frac{1}/{r}$"
   ],
   "metadata": {
    "colab_type": "text",
    "id": "4qp8A2TG1Gwb",
    "run_control": {
     "frozen": false,
     "read_only": false
    }
   }
  },
  {
   "cell_type": "markdown",
   "source": [
    "### Derive the expected velocity curve from newtonian physics\n",
    "\n",
    "Derive $v^2\\propto\\frac{1}{r}$ from Newton's law $F~=~\\frac{GMm}{r^2}$. Write each formula and describe each step. You can use latex (you really just need to know ```\\frac{}``` and ```^```) and this reference\n",
    "https://www.physicsclassroom.com/calcpad/circgrav\n",
    "\n",
    "The final equation will look like this\n",
    "$v^2 = \\frac{G \\cdot m(r)}{r}$\n",
    "\n",
    "$$\n",
    "\\begin{aligned}& F=\\dfrac{GMm}{r^{2}}=ma\\\\ \n",
    "& \\rightarrow a = \\dfrac{GM}{r^{2}} = \\dfrac{v^{2}}{r}\\\\ \n",
    "& \\rightarrow v^{2}=\\dfrac{Gm}{r}\\end{aligned}\n",
    "$$"
   ],
   "metadata": {}
  },
  {
   "cell_type": "markdown",
   "source": [
    "### M31 rotational curve"
   ],
   "metadata": {
    "colab_type": "text",
    "id": "KQAEJtWuOdCb",
    "run_control": {
     "frozen": false,
     "read_only": false
    }
   }
  },
  {
   "cell_type": "markdown",
   "source": [
    "\n",
    "\n",
    "![text](text.png)\n",
    "\n",
    "\n",
    "Get the data from the github repository https://github.com/fedhere/DSPS/tree/master/HW4 : there are 2 files: mw.csv and m31.csv. Start with M31, the Andromeda galaxy, Vera Rubin's original target."
   ],
   "metadata": {
    "ExecuteTime": {
     "end_time": "2019-09-22T00:10:02.465470Z",
     "start_time": "2019-09-22T00:10:02.455255Z"
    },
    "run_control": {
     "frozen": false,
     "read_only": false
    }
   }
  },
  {
   "cell_type": "markdown",
   "source": [
    "## Propagation of  uncertainties rules\n",
    "\n",
    "below are the basic rules for propagation of uncertainties - use [this as reference](https://github.com/fedhere/DSPS/blob/master/resources/Managing%20Errors%20and%20Uncertainty.pdf)"
   ],
   "metadata": {
    "colab_type": "text",
    "id": "j-BDrNseOdCR",
    "run_control": {
     "frozen": false,
     "read_only": false
    }
   }
  },
  {
   "cell_type": "markdown",
   "source": [
    "$$\n",
    "\\begin{align*}\n",
    "z = x  \\pm y  ~| & ~  &dz = \\sqrt{dx^2 + dy^2} \n",
    "\\\\\n",
    "z = x * y  ~| & ~& dz = |xy|  \\sqrt{\\left(\\frac{dx}{x}\\right)^2 + \n",
    "                                \\left(\\frac{dy}{y}\\right)^2} \\\\\n",
    "z = x / y  ~| & ~& dz = \\left|\\frac{x}{y}\\right| \\sqrt{\\left(\\frac{dx}{x}\\right)^2 + \n",
    "                                                   \\left(\\frac{dy}{y}\\right)^2} \\\\\n",
    "z = x^n ~| & ~& dz = |n| ~ x^{n-1}  dx \\\\\n",
    "z = \\mathrm{c}x ~| & ~& dz = |\\mathrm{c}| ~dx \\\\\n",
    "z = f(x, y) ~| & ~& dz = \\sqrt{\\left(\\frac{\\partial f}{\\partial x}\\right)^2 dx^2 +\\left(\\frac{\\partial f}{\\partial y}\\right)^2 dy^2} \\\\\n",
    "\\end{align*}\n",
    "$$\n"
   ],
   "metadata": {
    "colab_type": "text",
    "id": "iCrFipBzOzqp",
    "run_control": {
     "frozen": false,
     "read_only": false
    }
   }
  },
  {
   "cell_type": "markdown",
   "source": [
    "## Data Ingestion"
   ],
   "metadata": {}
  },
  {
   "cell_type": "markdown",
   "source": [
    "Note that the data contains 2 types of uncertainties: one significantly smaller than the other. The ```dv``` uncertainty is the propagation of the uncertainty in the location of the HII line. The uncertainty called ```err``` if the full error budget:  including _all_ sources of uncertainty and not just the uncertainty in measuring the location of the line. Retain both, you will test your hypothesis with each one to see if it matters which uncertainty you choose"
   ],
   "metadata": {
    "colab_type": "text",
    "id": "_iFrkUYEV1SS",
    "run_control": {
     "frozen": false,
     "read_only": false
    }
   }
  },
  {
   "cell_type": "code",
   "execution_count": 158,
   "source": [
    "def get_files_from_internet(files_url: List[str]):\r\n",
    "    '''Grabs files from the internet using the requests library\r\n",
    "\r\n",
    "    :param files_url: List of file URLs\r\n",
    "\r\n",
    "    :return file_names: The extracted file names of the files which were downloaded\r\n",
    "    '''\r\n",
    "\r\n",
    "    file_names = []\r\n",
    "    for file_url in files_url:\r\n",
    "        filename = file_url.split(r\"/\")[-1]\r\n",
    "        if not os.path.exists(filename):\r\n",
    "            response = requests.get(file_url, stream=True)\r\n",
    "            response.raise_for_status()\r\n",
    "            \r\n",
    "            # https://stackoverflow.com/questions/43743438/using-tqdm-to-add-a-progress-bar-when-downloading-files\r\n",
    "            total_size = int(response.headers[\"Content-Length\"])\r\n",
    "            \r\n",
    "            with open(filename, \"w\") as handle:\r\n",
    "                with tqdm(unit='B', unit_divisor=1024, unit_scale=True, miniters=1, desc=filename, total=total_size) as pbar:\r\n",
    "                    for block in response.iter_lines(1024, decode_unicode=True):\r\n",
    "                        handle.write(block + \"\\n\")\r\n",
    "                        pbar.update(len(block))\r\n",
    "        file_names.append(filename)\r\n",
    "    return file_names\r\n",
    "\r\n",
    "rv_files = get_files_from_internet(\r\n",
    "    [\r\n",
    "        \"https://raw.githubusercontent.com/fedhere/DSPS_FBianco/master/HW4/m31.csv\",\r\n",
    "        \"https://raw.githubusercontent.com/fedhere/DSPS_FBianco/master/HW4/mw.csv\"\r\n",
    "    ]\r\n",
    ")\r\n",
    "\r\n",
    "data_processed = {\r\n",
    "    os.path.splitext(fn)[0]: pd.read_csv(fn, skiprows=1, delimiter=',').set_axis(['r', 'v','dv', 'err'], axis=1, inplace=False) for fn in rv_files\r\n",
    "}"
   ],
   "outputs": [],
   "metadata": {
    "colab": {},
    "colab_type": "code",
    "id": "PFYBlhUjt8_e",
    "run_control": {
     "frozen": false,
     "read_only": false
    }
   }
  },
  {
   "cell_type": "code",
   "execution_count": 159,
   "source": [
    "display(data_processed['m31'].head())\r\n",
    "display(data_processed['m31'].describe())"
   ],
   "outputs": [
    {
     "output_type": "display_data",
     "data": {
      "text/html": [
       "<div>\n",
       "<style scoped>\n",
       "    .dataframe tbody tr th:only-of-type {\n",
       "        vertical-align: middle;\n",
       "    }\n",
       "\n",
       "    .dataframe tbody tr th {\n",
       "        vertical-align: top;\n",
       "    }\n",
       "\n",
       "    .dataframe thead th {\n",
       "        text-align: right;\n",
       "    }\n",
       "</style>\n",
       "<table border=\"1\" class=\"dataframe\">\n",
       "  <thead>\n",
       "    <tr style=\"text-align: right;\">\n",
       "      <th></th>\n",
       "      <th>r</th>\n",
       "      <th>v</th>\n",
       "      <th>dv</th>\n",
       "      <th>err</th>\n",
       "    </tr>\n",
       "  </thead>\n",
       "  <tbody>\n",
       "    <tr>\n",
       "      <th>0</th>\n",
       "      <td>0.100</td>\n",
       "      <td>183.939</td>\n",
       "      <td>0.000</td>\n",
       "      <td>0.000</td>\n",
       "    </tr>\n",
       "    <tr>\n",
       "      <th>1</th>\n",
       "      <td>0.120</td>\n",
       "      <td>190.710</td>\n",
       "      <td>10.265</td>\n",
       "      <td>12.191</td>\n",
       "    </tr>\n",
       "    <tr>\n",
       "      <th>2</th>\n",
       "      <td>0.144</td>\n",
       "      <td>204.141</td>\n",
       "      <td>22.634</td>\n",
       "      <td>21.808</td>\n",
       "    </tr>\n",
       "    <tr>\n",
       "      <th>3</th>\n",
       "      <td>0.173</td>\n",
       "      <td>207.601</td>\n",
       "      <td>4.573</td>\n",
       "      <td>4.200</td>\n",
       "    </tr>\n",
       "    <tr>\n",
       "      <th>4</th>\n",
       "      <td>0.207</td>\n",
       "      <td>210.188</td>\n",
       "      <td>3.943</td>\n",
       "      <td>3.258</td>\n",
       "    </tr>\n",
       "  </tbody>\n",
       "</table>\n",
       "</div>"
      ],
      "text/plain": [
       "       r        v      dv     err\n",
       "0  0.100  183.939   0.000   0.000\n",
       "1  0.120  190.710  10.265  12.191\n",
       "2  0.144  204.141  22.634  21.808\n",
       "3  0.173  207.601   4.573   4.200\n",
       "4  0.207  210.188   3.943   3.258"
      ]
     },
     "metadata": {}
    },
    {
     "output_type": "display_data",
     "data": {
      "text/html": [
       "<div>\n",
       "<style scoped>\n",
       "    .dataframe tbody tr th:only-of-type {\n",
       "        vertical-align: middle;\n",
       "    }\n",
       "\n",
       "    .dataframe tbody tr th {\n",
       "        vertical-align: top;\n",
       "    }\n",
       "\n",
       "    .dataframe thead th {\n",
       "        text-align: right;\n",
       "    }\n",
       "</style>\n",
       "<table border=\"1\" class=\"dataframe\">\n",
       "  <thead>\n",
       "    <tr style=\"text-align: right;\">\n",
       "      <th></th>\n",
       "      <th>r</th>\n",
       "      <th>v</th>\n",
       "      <th>dv</th>\n",
       "      <th>err</th>\n",
       "    </tr>\n",
       "  </thead>\n",
       "  <tbody>\n",
       "    <tr>\n",
       "      <th>count</th>\n",
       "      <td>55.000000</td>\n",
       "      <td>55.000000</td>\n",
       "      <td>55.000000</td>\n",
       "      <td>55.000000</td>\n",
       "    </tr>\n",
       "    <tr>\n",
       "      <th>mean</th>\n",
       "      <td>205.853182</td>\n",
       "      <td>226.079255</td>\n",
       "      <td>55.034818</td>\n",
       "      <td>16.165855</td>\n",
       "    </tr>\n",
       "    <tr>\n",
       "      <th>std</th>\n",
       "      <td>415.523904</td>\n",
       "      <td>42.799892</td>\n",
       "      <td>49.254792</td>\n",
       "      <td>14.876951</td>\n",
       "    </tr>\n",
       "    <tr>\n",
       "      <th>min</th>\n",
       "      <td>0.100000</td>\n",
       "      <td>121.974000</td>\n",
       "      <td>0.000000</td>\n",
       "      <td>0.000000</td>\n",
       "    </tr>\n",
       "    <tr>\n",
       "      <th>25%</th>\n",
       "      <td>1.177000</td>\n",
       "      <td>208.894500</td>\n",
       "      <td>11.945500</td>\n",
       "      <td>3.224000</td>\n",
       "    </tr>\n",
       "    <tr>\n",
       "      <th>50%</th>\n",
       "      <td>13.737000</td>\n",
       "      <td>229.124000</td>\n",
       "      <td>30.697000</td>\n",
       "      <td>12.065000</td>\n",
       "    </tr>\n",
       "    <tr>\n",
       "      <th>75%</th>\n",
       "      <td>161.675000</td>\n",
       "      <td>244.102500</td>\n",
       "      <td>99.980000</td>\n",
       "      <td>23.641000</td>\n",
       "    </tr>\n",
       "    <tr>\n",
       "      <th>max</th>\n",
       "      <td>1887.071000</td>\n",
       "      <td>414.942000</td>\n",
       "      <td>147.835000</td>\n",
       "      <td>54.110000</td>\n",
       "    </tr>\n",
       "  </tbody>\n",
       "</table>\n",
       "</div>"
      ],
      "text/plain": [
       "                 r           v          dv        err\n",
       "count    55.000000   55.000000   55.000000  55.000000\n",
       "mean    205.853182  226.079255   55.034818  16.165855\n",
       "std     415.523904   42.799892   49.254792  14.876951\n",
       "min       0.100000  121.974000    0.000000   0.000000\n",
       "25%       1.177000  208.894500   11.945500   3.224000\n",
       "50%      13.737000  229.124000   30.697000  12.065000\n",
       "75%     161.675000  244.102500   99.980000  23.641000\n",
       "max    1887.071000  414.942000  147.835000  54.110000"
      ]
     },
     "metadata": {}
    }
   ],
   "metadata": {}
  },
  {
   "cell_type": "markdown",
   "source": [
    "from https://en.wikipedia.org/wiki/Andromeda_Galaxy get the extent of the luminous component of M31 (Andromeda). The distance of the Galaxy multiplied by the angular size will give you this information from basic trigonometry (make sure you convert the units properly, using astropy). Make sure you include the uncertainties! uncertainties in the distance will give you the uncertainty in the size.\n",
    " "
   ],
   "metadata": {
    "colab_type": "text",
    "id": "Vv0Ut6vOOdCk",
    "run_control": {
     "frozen": false,
     "read_only": false
    }
   }
  },
  {
   "cell_type": "markdown",
   "source": [
    "## Helper Classes"
   ],
   "metadata": {}
  },
  {
   "cell_type": "code",
   "execution_count": 160,
   "source": [
    "class UncertainQuanitity:\r\n",
    "\r\n",
    "    def __init__(self, value_, uncertainity_ = None, unit_ = None) -> None:\r\n",
    "        if isinstance(value_, UncertainQuanitity):\r\n",
    "            self.quantity = value_.quantity\r\n",
    "            self.uncertainity = value_.uncertainity\r\n",
    "        else:\r\n",
    "            if isinstance(value_, units.Quantity):\r\n",
    "                self.quantity = value_\r\n",
    "            else:\r\n",
    "                self.quantity = value_ * unit_\r\n",
    "            \r\n",
    "            if isinstance(uncertainity_, units.Quantity):\r\n",
    "                self.uncertainity = uncertainity_\r\n",
    "            else:\r\n",
    "                self.uncertainity = uncertainity_ * unit_\r\n",
    "\r\n",
    "    @property\r\n",
    "    def value(self):\r\n",
    "        return (self.quantity.value, self.uncertainity.value)\r\n",
    "\r\n",
    "    @property\r\n",
    "    def unit(self):\r\n",
    "        return self.quantity.unit\r\n",
    "    \r\n",
    "    @unit.setter\r\n",
    "    def unit(self, new_unit):\r\n",
    "        self.quantity = self.quantity.to(new_unit)  \r\n",
    "        self.uncertainity = self.uncertainity.to(new_unit)  \r\n",
    "\r\n",
    "    def copy(self):\r\n",
    "        return UncertainQuanitity(self)\r\n",
    "\r\n",
    "    def to(self, other_unit, **kwargs):\r\n",
    "        new_obj = self.copy()\r\n",
    "        new_obj.quantity = new_obj.quantity.to(other_unit, **kwargs)  \r\n",
    "        new_obj.uncertainity = new_obj.uncertainity.to(other_unit, **kwargs)  \r\n",
    "        new_obj.unit = other_unit\r\n",
    "        return new_obj\r\n",
    "    \r\n",
    "    def contains(self, test_val):\r\n",
    "        sqv, suv = self.value\r\n",
    "        return sqv - suv < test_val < sqv + suv\r\n",
    "    \r\n",
    "    def __str__(self):\r\n",
    "        return f\"{self.quantity.value:.2f} \\u00B1 {self.uncertainity.value:.2f} {self.unit}\"\r\n",
    "    \r\n",
    "    def __mul__(self, other):\r\n",
    "        if isinstance(other, UncertainQuanitity):\r\n",
    "            sqv, suv = self.value\r\n",
    "            oqv, ouv = other.value\r\n",
    "            \r\n",
    "            rv_value = sqv * oqv\r\n",
    "            rv_uncertainity = abs(rv_value) * np.sqrt(np.square(suv/sqv) + np.square(ouv/oqv))\r\n",
    "            \r\n",
    "            rv_unit = self.unit * other.unit\r\n",
    "            return UncertainQuanitity(rv_value, rv_uncertainity, rv_unit)\r\n",
    "        elif isinstance(other, (float, int)):\r\n",
    "            rv_value, rv_uncertainity = self.value\r\n",
    "            rv_value *= other\r\n",
    "            rv_uncertainity *= other\r\n",
    "            return UncertainQuanitity(rv_value, rv_uncertainity, self.unit)\r\n",
    "        else:\r\n",
    "            raise TypeError(\"Can't multiply an uncertain quanitity with \" + str(type(other)))\r\n",
    "    \r\n",
    "    def __truediv__(self, other):\r\n",
    "        if isinstance(other, UncertainQuanitity):\r\n",
    "            sqv, suv = self.value\r\n",
    "            oqv, ouv = other.value\r\n",
    "            \r\n",
    "            rv_value = sqv / oqv\r\n",
    "            rv_uncertainity = abs(rv_value) * np.sqrt(np.square(suv/sqv) + np.square(ouv/oqv))\r\n",
    "            \r\n",
    "            rv_unit = self.unit / other.unit\r\n",
    "            return UncertainQuanitity(rv_value, rv_uncertainity, rv_unit)\r\n",
    "        elif isinstance(other, (float, int)):\r\n",
    "            rv_value, rv_uncertainity = self.value\r\n",
    "            rv_value /= other\r\n",
    "            rv_uncertainity /= other\r\n",
    "            return UncertainQuanitity(rv_value, rv_uncertainity, self.unit)\r\n",
    "        else:\r\n",
    "            raise TypeError(\"Can't divide an uncertain quanitity with \" + str(type(other)))\r\n",
    "\r\n",
    "class GalaxyInfo:\r\n",
    "    def __init__(self, name_, angular_size_=None, distance_=None):\r\n",
    "        self.name = name_\r\n",
    "        self.angular_size = angular_size_\r\n",
    "        self.distance = distance_\r\n",
    "    \r\n",
    "    @property\r\n",
    "    def visible_component(self):\r\n",
    "        return (self.distance * self.angular_size.to(units.radian)).to(self.distance.unit, equivalencies=units.dimensionless_angles())\r\n",
    "\r\n",
    "\r\n",
    "# http://ned.ipac.caltech.edu/cgi-bin/datasearch?search_type=Diam_id&objid=58141&objname=MESSIER%20031&img_stamp=YES&hconst=73.0&omegam=0.27&omegav=0.73&corr_z=1&of=table\r\n",
    "# https://ui.adsabs.harvard.edu/abs/2012ApJ...745..156R/abstract\r\n",
    "\r\n",
    "m31_info = GalaxyInfo(\"m31\", UncertainQuanitity(3.175, 0.074, units.deg), UncertainQuanitity(752, 27, units.kpc))\r\n",
    "latex_print(f\"Angular Size of the visible component of Andromeda: {m31_info.angular_size}\")\r\n",
    "latex_print(f\"Distance to Andromeda: {m31_info.distance}\")\r\n",
    "latex_print(f\"Size of the visible component of Andromeda: {m31_info.visible_component}\")\r\n",
    "            \r\n",
    "        "
   ],
   "outputs": [
    {
     "output_type": "display_data",
     "data": {
      "text/latex": [
       "Angular Size of the visible component of Andromeda: 3.17 ± 0.07 deg"
      ],
      "text/plain": [
       "<IPython.core.display.Latex object>"
      ]
     },
     "metadata": {}
    },
    {
     "output_type": "display_data",
     "data": {
      "text/latex": [
       "Distance to Andromeda: 752.00 ± 27.00 kpc"
      ],
      "text/plain": [
       "<IPython.core.display.Latex object>"
      ]
     },
     "metadata": {}
    },
    {
     "output_type": "display_data",
     "data": {
      "text/latex": [
       "Size of the visible component of Andromeda: 41.67 ± 1.78 kpc"
      ],
      "text/plain": [
       "<IPython.core.display.Latex object>"
      ]
     },
     "metadata": {}
    }
   ],
   "metadata": {}
  },
  {
   "cell_type": "markdown",
   "source": [
    "## Find the first measurement  in your data table that includes all the luminous mass. \n",
    "\n",
    "What is the smallest radius in your data where the luminous mass is completely included and what is the veolcity at that radius?"
   ],
   "metadata": {
    "colab_type": "text",
    "id": "97o52hRhOdCy",
    "run_control": {
     "frozen": false,
     "read_only": false
    }
   }
  },
  {
   "cell_type": "markdown",
   "source": [
    "We expect the velocity to decrease as 1/r if all mass is included: the velocity at a radius twice as far as the radius that includes all the mass should be a factor 2 slower, three times as far a factor 3 slower. "
   ],
   "metadata": {
    "colab_type": "text",
    "id": "TVWiU84XOdDA",
    "run_control": {
     "frozen": false,
     "read_only": false
    }
   }
  },
  {
   "cell_type": "markdown",
   "source": [
    "write a function that \n",
    "\n",
    "1. finds the smallest radius in the dataset that is at least N times the radius of the visible galaxy, \n",
    "\n",
    "2. takes as arguments:\n",
    "    - the data and \n",
    "    - N \n",
    "    - the size of the luminous component of the galaxy\n",
    " \n",
    "2. Returns the value of the radius and its uncertainty and the velocity and its uncertainty"
   ],
   "metadata": {
    "colab_type": "text",
    "id": "b096Ax33SiXl",
    "run_control": {
     "frozen": false,
     "read_only": false
    }
   }
  },
  {
   "cell_type": "code",
   "execution_count": 161,
   "source": [
    "class RowInfo:\r\n",
    "    def __init__(self, *args) -> None:\r\n",
    "        if len(args) == 6:\r\n",
    "            rad_, vel_, vel_dv, vel_err, rad_unit, vel_unit = args\r\n",
    "            self.rad = rad_ * rad_unit\r\n",
    "            self.vel_dv = UncertainQuanitity(vel_, vel_dv, vel_unit)\r\n",
    "            self.vel_err = UncertainQuanitity(vel_, vel_err, vel_unit)\r\n",
    "        elif isinstance(args[0], RowInfo):\r\n",
    "            self.rad = args[0].rad\r\n",
    "            self.vel_dv = args[0].vel_dv\r\n",
    "            self.vel_err = args[0].vel_err\r\n",
    "        else:\r\n",
    "            raise ValueError(\"Bad Initialization for RowInfo!\")\r\n",
    "    \r\n",
    "    def copy(self):\r\n",
    "        return RowInfo(self)\r\n",
    "\r\n",
    "def get_radii(gal_info: GalaxyInfo, n: float) -> RowInfo:\r\n",
    "    '''Gets the smallest encompassing multiple of the radius and corresponding velocity of a galaxy\r\n",
    "\r\n",
    "    :param gal_info: GalaxyInfo object containing the information about\r\n",
    "      the galaxy\r\n",
    "    :param n: The multiple to test\r\n",
    "\r\n",
    "    :return tuple: (UncertainQuanitity of the encompassing radius, UncertainQuanitity of the velocity)\r\n",
    "    '''\r\n",
    "    global data_processed\r\n",
    "    v_rad = gal_info.visible_component\r\n",
    "    test_rad = v_rad.quantity.value * n\r\n",
    "    gal_df = data_processed.get(gal_info.name)\r\n",
    "    rv = gal_df.loc[lambda x: x['r'] <= test_rad].iloc[-1].to_list()\r\n",
    "    return RowInfo(*rv, units.kpc, units.km/units.s)\r\n"
   ],
   "outputs": [],
   "metadata": {
    "ExecuteTime": {
     "end_time": "2019-08-02T02:07:26.053511Z",
     "start_time": "2019-08-02T02:07:26.046677Z"
    },
    "colab": {},
    "colab_type": "code",
    "id": "-_O34Bb7OdC2",
    "run_control": {
     "frozen": false,
     "read_only": false
    }
   }
  },
  {
   "cell_type": "markdown",
   "source": [
    "## Data Visualization"
   ],
   "metadata": {
    "ExecuteTime": {
     "end_time": "2019-08-01T18:13:58.231637Z",
     "start_time": "2019-08-01T18:13:58.229447Z"
    },
    "colab_type": "text",
    "id": "ogu_iquzOdC5",
    "run_control": {
     "frozen": false,
     "read_only": false
    }
   }
  },
  {
   "cell_type": "markdown",
   "source": [
    "### Make a plot that shows\n",
    "\n",
    "---\n",
    "1. the rotational curve of the galaxy (as a line)\n",
    "\n",
    "2. each velocity as an errorbar with error equal to err in the same color as the line in 1\n",
    "\n",
    "3. each velocity as an errorbar with error equal to dv in  the same color but a different line thickness\n",
    "\n",
    "---\n",
    "\n",
    "1. the datapoint corresponding to N=1, 2, 3 each in a different color. \n",
    "\n",
    "2. add a legend that indicates the meaning of each color (```pl.legend()```)\n",
    "\n",
    "3. add a text that indicates the velocity and its uncertainty (dv and err) just below the largest errorbar (```pl.text()```)\n",
    "\n",
    "4. limit the x axis to the \"relevant\" portion of the data"
   ],
   "metadata": {
    "colab_type": "text",
    "id": "kJ6MujVJUyel",
    "run_control": {
     "frozen": false,
     "read_only": false
    }
   }
  },
  {
   "cell_type": "code",
   "execution_count": 162,
   "source": [
    "def build_artists(row_info: RowInfo, extras=False, **kwargs):\r\n",
    "    r_artists = []\r\n",
    "    r_val = row_info.rad.value\r\n",
    "    _, v_dv = row_info.vel_dv.value\r\n",
    "    v_val, v_err = row_info.vel_err.value\r\n",
    "    r_artists.append(Line2D([r_val, r_val], [v_val - v_dv/2, v_val + v_dv/2], linewidth=1.0, **kwargs))\r\n",
    "    if extras:\r\n",
    "        r_artists.append(Line2D([r_val, r_val], [v_val - v_err/2, v_val + v_err/2], linewidth=2.0, color='black'))\r\n",
    "        y_text = v_val - v_dv/2 - 45\r\n",
    "        x_text = r_val - 10\r\n",
    "        r_artists.append(Text(x_text, y_text, text=f\"{v_val:.2f}\\n({v_dv:.1f}, {v_err:.1f})\"))\r\n",
    "        r_artists.append(Line2D([r_val], [v_val], fillstyle=\"full\", marker='o', markersize=5, **kwargs))\r\n",
    "    \r\n",
    "    return r_artists\r\n",
    "\r\n",
    "def plot_galaxy_radius(gal_info: GalaxyInfo):\r\n",
    "    global data_processed\r\n",
    "    point_list : pd.DataFrame = data_processed.get(gal_info.name)\r\n",
    "    plot_pt_list = point_list.apply(lambda rv:  RowInfo(*rv, units.kpc, units.km/units.s), axis=1)\r\n",
    "    fig, ax = plt.subplots()\r\n",
    "    ax.plot(point_list['r'], point_list['v'])\r\n",
    "    for pt in plot_pt_list:\r\n",
    "        for artist in build_artists(pt):\r\n",
    "            ax.add_artist(artist)\r\n",
    "    \r\n",
    "    color_arr = [\"orange\", \"red\", \"grey\"]\r\n",
    "    rad_cache = []\r\n",
    "    for line_color, n_pt in zip(color_arr, list(range(1, 4))):\r\n",
    "        cur_rad = get_radii(gal_info, n_pt)\r\n",
    "        rad_cache.append(cur_rad.rad.value)\r\n",
    "        for artist in build_artists(cur_rad, extras=True, color=line_color):\r\n",
    "            ax.add_artist(artist)\r\n",
    "    \r\n",
    "    max_x = max(rad_cache) * 1.25\r\n",
    "    ax.set(xlim=[0, max_x], ylim=[0, 400], xlabel=\"Radius (kpc)\", ylabel=\"Velocity (km/s)\")\r\n",
    "    \r\n",
    "    legend_handles = [Line2D([0,0],[0,1], color='blue')]\r\n",
    "    legend_handles.extend([Line2D([0,0],[0,1], color=cl) for cl in color_arr])\r\n",
    "    ax.legend(legend_handles, [\"v\", \"radius\", \"radius x 2\", \"radius x 3\"])\r\n",
    "\r\n",
    "plot_galaxy_radius(m31_info)"
   ],
   "outputs": [
    {
     "output_type": "display_data",
     "data": {
      "image/png": "[encoded data removed]",
      "text/plain": [
       "<Figure size 432x288 with 1 Axes>"
      ]
     },
     "metadata": {
      "needs_background": "light"
     }
    }
   ],
   "metadata": {
    "ExecuteTime": {
     "end_time": "2019-08-02T03:01:27.556063Z",
     "start_time": "2019-08-02T03:01:27.302184Z"
    },
    "colab": {
     "base_uri": "https://localhost:8080/",
     "height": 283
    },
    "colab_type": "code",
    "id": "7IMXYY8BOdC6",
    "outputId": "2946ab11-0e34-447f-968f-1043a6622ec7",
    "run_control": {
     "frozen": false,
     "read_only": false
    }
   }
  },
  {
   "cell_type": "markdown",
   "source": [
    "Write a function that for a given dataset and a given luminous radius and a given N \r\n",
    "  \r\n",
    "  1) uses the function above to find the radius at least as large as needed and the velocity at that radius, \r\n",
    "  \r\n",
    "  2) states the expected drop in rotational velocities according to Newton's law $v^2\\propto 1/r$\r\n",
    "  \r\n",
    "  3) calculates the ratio of radii and the ratio of velocities at N radii from the center N=1 and N=N (input, e.g. 2, 3 etc) with uncertainties, \r\n",
    "  \r\n",
    "  4) and stated whether that ratio is consistent within the uncertainties with Newton's law $v^2 \\propto 1/r$\r\n",
    "  \r\n",
    "Your function should print \r\n",
    "\r\n",
    "     - the expected ratio based on the radii, \r\n",
    "     - the calculated ratio using ```dv```, and its uncertainty, - \r\n",
    "     - the 2-$\\sigma$ upper and lower limits of the calculated ratio\r\n",
    "     - whether the expected ratio is within the $2-\\sigma$ of the calculated ratio, \r\n",
    "  5) and the same using ```err```  instead of ```dv```"
   ],
   "metadata": {
    "colab_type": "text",
    "id": "bIbv3YrhTo0X",
    "run_control": {
     "frozen": false,
     "read_only": false
    }
   }
  },
  {
   "cell_type": "code",
   "execution_count": 163,
   "source": [
    "def velocity_ratios(gal_info: GalaxyInfo, n, err='dv'):\r\n",
    "      r_1 = get_radii(gal_info, 1)\r\n",
    "      r_n = get_radii(gal_info, n)\r\n",
    "      \r\n",
    "      r_ratio = r_1.rad / r_n.rad\r\n",
    "      if err == \"dv\":\r\n",
    "            v_ratio = (r_1.vel_dv*r_1.vel_dv) / (r_n.vel_dv*r_n.vel_dv)\r\n",
    "      elif err == \"err\":\r\n",
    "            v_ratio = (r_1.vel_err*r_1.vel_err) / (r_n.vel_err*r_n.vel_err)\r\n",
    "      else:\r\n",
    "            raise ValueError(\"Please input `err` or `dv` into err=\")\r\n",
    "\r\n",
    "      v2_ratio = v_ratio.copy()\r\n",
    "      v2_ratio.uncertainity = v2_ratio.uncertainity * 2\r\n",
    "      \r\n",
    "      print(f\"Expected ratio at a galatic radii of {n} based on $\\\\frac{{1}}{{r}}$: {r_ratio:.2f}\")\r\n",
    "      print(f\"The calculated $\\\\frac{{1}}{{v^2}}$ ratio using {err} at a galatic radii of {n}: {v_ratio}\")\r\n",
    "      print(f\"The 2-$\\sigma$ $\\\\frac{{1}}{{v^2}}$ ratio using {err} at a galatic radii of {n}: {v2_ratio}\")\r\n",
    "      print(\"This is Expected\" if v2_ratio.contains(r_ratio) else \"This is not expected\")\r\n",
    "\r\n",
    "for mode in ['dv', 'err']:\r\n",
    "      for en_rad in range(1, 4):\r\n",
    "            print(\"\")\r\n",
    "            print(\"\")\r\n",
    "            velocity_ratios(m31_info, en_rad, mode)\r\n",
    "      "
   ],
   "outputs": [
    {
     "output_type": "stream",
     "name": "stdout",
     "text": [
      "\n",
      "\n",
      "Expected ratio at a galatic radii of 1 based on $\\frac{1}{r}$: 1.00\n",
      "The calculated $\\frac{1}{v^2}$ ratio using dv at a galatic radii of 1: 1.00 ± 0.46 \n",
      "The 2-$\\sigma$ $\\frac{1}{v^2}$ ratio using dv at a galatic radii of 1: 1.00 ± 0.91 \n",
      "This is Expected\n",
      "\n",
      "\n",
      "Expected ratio at a galatic radii of 2 based on $\\frac{1}{r}$: 0.58\n",
      "The calculated $\\frac{1}{v^2}$ ratio using dv at a galatic radii of 2: 1.11 ± 1.02 \n",
      "The 2-$\\sigma$ $\\frac{1}{v^2}$ ratio using dv at a galatic radii of 2: 1.11 ± 2.04 \n",
      "This is Expected\n",
      "\n",
      "\n",
      "Expected ratio at a galatic radii of 3 based on $\\frac{1}{r}$: 0.33\n",
      "The calculated $\\frac{1}{v^2}$ ratio using dv at a galatic radii of 3: 1.36 ± 1.12 \n",
      "The 2-$\\sigma$ $\\frac{1}{v^2}$ ratio using dv at a galatic radii of 3: 1.36 ± 2.24 \n",
      "This is Expected\n",
      "\n",
      "\n",
      "Expected ratio at a galatic radii of 1 based on $\\frac{1}{r}$: 1.00\n",
      "The calculated $\\frac{1}{v^2}$ ratio using err at a galatic radii of 1: 1.00 ± 0.09 \n",
      "The 2-$\\sigma$ $\\frac{1}{v^2}$ ratio using err at a galatic radii of 1: 1.00 ± 0.17 \n",
      "This is Expected\n",
      "\n",
      "\n",
      "Expected ratio at a galatic radii of 2 based on $\\frac{1}{r}$: 0.58\n",
      "The calculated $\\frac{1}{v^2}$ ratio using err at a galatic radii of 2: 1.11 ± 0.19 \n",
      "The 2-$\\sigma$ $\\frac{1}{v^2}$ ratio using err at a galatic radii of 2: 1.11 ± 0.38 \n",
      "This is not expected\n",
      "\n",
      "\n",
      "Expected ratio at a galatic radii of 3 based on $\\frac{1}{r}$: 0.33\n",
      "The calculated $\\frac{1}{v^2}$ ratio using err at a galatic radii of 3: 1.36 ± 0.24 \n",
      "The 2-$\\sigma$ $\\frac{1}{v^2}$ ratio using err at a galatic radii of 3: 1.36 ± 0.48 \n",
      "This is not expected\n"
     ]
    }
   ],
   "metadata": {
    "ExecuteTime": {
     "end_time": "2019-08-02T02:22:18.485172Z",
     "start_time": "2019-08-02T02:22:18.477807Z"
    },
    "colab": {},
    "colab_type": "code",
    "id": "1hhTw8N4OdDB",
    "run_control": {
     "frozen": false,
     "read_only": false
    }
   }
  },
  {
   "cell_type": "markdown",
   "source": [
    "### Discussion\r\n",
    "\r\n",
    "As the radius increases, the newtonian relationship between $1/r$ and $v^2$ diverges, this signfies that newtonian circular motion is not the only effect at work on large scales within M31"
   ],
   "metadata": {
    "ExecuteTime": {
     "end_time": "2019-08-02T00:36:41.637045Z",
     "start_time": "2019-08-02T00:36:41.634825Z"
    },
    "colab_type": "text",
    "id": "6me5k4c1OdDY",
    "run_control": {
     "frozen": false,
     "read_only": false
    }
   }
  },
  {
   "cell_type": "markdown",
   "source": [
    "## Do the same for the Milky Way"
   ],
   "metadata": {
    "colab_type": "text",
    "id": "QIHRn8UlOdDZ",
    "run_control": {
     "frozen": false,
     "read_only": false
    }
   }
  },
  {
   "cell_type": "code",
   "execution_count": 164,
   "source": [
    "class MilkywayInfo:\r\n",
    "    def __init__(self) -> None:\r\n",
    "        self.name = \"mw\"\r\n",
    "        self.visible_component = UncertainQuanitity(185, 15, 1000 * units.lyr).to(units.kpc)\r\n",
    "\r\n",
    "milkyway_info = MilkywayInfo()\r\n",
    "plot_galaxy_radius(milkyway_info)\r\n",
    "\r\n",
    "for mode in ['dv', 'err']:\r\n",
    "      for en_rad in range(1, 4):\r\n",
    "            print(\"\")\r\n",
    "            print(\"\")\r\n",
    "            velocity_ratios(m31_info, en_rad, mode)"
   ],
   "outputs": [
    {
     "output_type": "stream",
     "name": "stdout",
     "text": [
      "\n",
      "\n",
      "Expected ratio at a galatic radii of 1 based on $\\frac{1}{r}$: 1.00\n",
      "The calculated $\\frac{1}{v^2}$ ratio using dv at a galatic radii of 1: 1.00 ± 0.46 \n",
      "The 2-$\\sigma$ $\\frac{1}{v^2}$ ratio using dv at a galatic radii of 1: 1.00 ± 0.91 \n",
      "This is Expected\n",
      "\n",
      "\n",
      "Expected ratio at a galatic radii of 2 based on $\\frac{1}{r}$: 0.58\n",
      "The calculated $\\frac{1}{v^2}$ ratio using dv at a galatic radii of 2: 1.11 ± 1.02 \n",
      "The 2-$\\sigma$ $\\frac{1}{v^2}$ ratio using dv at a galatic radii of 2: 1.11 ± 2.04 \n",
      "This is Expected\n",
      "\n",
      "\n",
      "Expected ratio at a galatic radii of 3 based on $\\frac{1}{r}$: 0.33\n",
      "The calculated $\\frac{1}{v^2}$ ratio using dv at a galatic radii of 3: 1.36 ± 1.12 \n",
      "The 2-$\\sigma$ $\\frac{1}{v^2}$ ratio using dv at a galatic radii of 3: 1.36 ± 2.24 \n",
      "This is Expected\n",
      "\n",
      "\n",
      "Expected ratio at a galatic radii of 1 based on $\\frac{1}{r}$: 1.00\n",
      "The calculated $\\frac{1}{v^2}$ ratio using err at a galatic radii of 1: 1.00 ± 0.09 \n",
      "The 2-$\\sigma$ $\\frac{1}{v^2}$ ratio using err at a galatic radii of 1: 1.00 ± 0.17 \n",
      "This is Expected\n",
      "\n",
      "\n",
      "Expected ratio at a galatic radii of 2 based on $\\frac{1}{r}$: 0.58\n",
      "The calculated $\\frac{1}{v^2}$ ratio using err at a galatic radii of 2: 1.11 ± 0.19 \n",
      "The 2-$\\sigma$ $\\frac{1}{v^2}$ ratio using err at a galatic radii of 2: 1.11 ± 0.38 \n",
      "This is not expected\n",
      "\n",
      "\n",
      "Expected ratio at a galatic radii of 3 based on $\\frac{1}{r}$: 0.33\n",
      "The calculated $\\frac{1}{v^2}$ ratio using err at a galatic radii of 3: 1.36 ± 0.24 \n",
      "The 2-$\\sigma$ $\\frac{1}{v^2}$ ratio using err at a galatic radii of 3: 1.36 ± 0.48 \n",
      "This is not expected\n"
     ]
    },
    {
     "output_type": "display_data",
     "data": {
      "image/png": "[encoded data removed]",
      "text/plain": [
       "<Figure size 432x288 with 1 Axes>"
      ]
     },
     "metadata": {
      "needs_background": "light"
     }
    }
   ],
   "metadata": {
    "colab": {},
    "colab_type": "code",
    "id": "NVp9cJzv-Dic",
    "run_control": {
     "frozen": false,
     "read_only": false
    }
   }
  }
 ],
 "metadata": {
  "colab": {
   "collapsed_sections": [
    "6me5k4c1OdDY"
   ],
   "include_colab_link": true,
   "name": "Copy of MWrotCurve.ipynb",
   "provenance": []
  },
  "kernelspec": {
   "name": "python3",
   "display_name": "Python 3.8.10 64-bit ('DSPS_GFoote-_TJzouKa': pipenv)"
  },
  "language_info": {
   "codemirror_mode": {
    "name": "ipython",
    "version": 3
   },
   "file_extension": ".py",
   "mimetype": "text/x-python",
   "name": "python",
   "nbconvert_exporter": "python",
   "pygments_lexer": "ipython3",
   "version": "3.8.10"
  },
  "nbTranslate": {
   "displayLangs": [
    "*"
   ],
   "hotkey": "alt-t",
   "langInMainMenu": true,
   "sourceLang": "en",
   "targetLang": "fr",
   "useGoogleTranslate": true
  },
  "toc": {
   "base_numbering": 1,
   "colors": {
    "hover_highlight": "#DAA520",
    "running_highlight": "#FF0000",
    "selected_highlight": "#FFD700"
   },
   "moveMenuLeft": true,
   "nav_menu": {},
   "navigate_menu": true,
   "number_sections": true,
   "sideBar": true,
   "skip_h1_title": false,
   "threshold": 4,
   "title_cell": "Table of Contents",
   "title_sidebar": "Contents",
   "toc_cell": false,
   "toc_position": {
    "height": "calc(100% - 180px)",
    "left": "10px",
    "top": "150px",
    "width": "165px"
   },
   "toc_section_display": true,
   "toc_window_display": true
  },
  "interpreter": {
   "hash": "9937eb42d0b9664c68f425f9266c5e9102cdf86e857b104a1723d51afe4e8143"
  }
 },
 "nbformat": 4,
 "nbformat_minor": 1
}